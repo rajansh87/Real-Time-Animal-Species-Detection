{
 "cells": [
  {
   "cell_type": "code",
   "execution_count": null,
   "metadata": {},
   "outputs": [],
   "source": [
    "from tensorflow import keras\n",
    "from keras.models import load_model\n",
    "import cv2\n",
    "import numpy as np"
   ]
  },
  {
   "cell_type": "code",
   "execution_count": 11,
   "metadata": {},
   "outputs": [],
   "source": [
    "model=load_model(\"simple_animal_classification_model.h5\")  #load model"
   ]
  },
  {
   "cell_type": "code",
   "execution_count": 18,
   "metadata": {},
   "outputs": [],
   "source": [
    "#cap = cv2.VideoCapture(\"https://192.168.43.1:8080/video\") # Define a video capture object and pass camera ip address as parameter\n",
    "cap = cv2.VideoCapture(0)#input directly from webcam"
   ]
  },
  {
   "cell_type": "code",
   "execution_count": 19,
   "metadata": {},
   "outputs": [],
   "source": [
    "all_classes={'bat': 0,\n",
    " 'bear': 1,\n",
    " 'buffalo': 2,\n",
    " 'cat': 3,\n",
    " 'cheetah': 4,\n",
    " 'chimpanzee': 5,\n",
    " 'cow': 6,\n",
    " 'deer': 7,\n",
    " 'dog': 8,\n",
    " 'elephant': 9,\n",
    " 'giraffe': 10,\n",
    " 'hippopotamus': 11,\n",
    " 'horse': 12,\n",
    " 'kangaroo': 13,\n",
    " 'lion': 14,\n",
    " 'monkey': 15,\n",
    " 'moose': 16,\n",
    " 'panda': 17,\n",
    " 'penguins': 18,\n",
    " 'raccoon': 19,\n",
    " 'rhinoceros': 20,\n",
    " 'snake': 21,\n",
    " 'tiger': 22,\n",
    " 'tortoise': 23,\n",
    " 'walrus': 24,\n",
    " 'zebra': 25}"
   ]
  },
  {
   "cell_type": "code",
   "execution_count": 20,
   "metadata": {},
   "outputs": [],
   "source": [
    "all_classes={'buffalo': 0, 'elephant': 1, 'rhino': 2, 'zebra': 3}"
   ]
  },
  {
   "cell_type": "code",
   "execution_count": 21,
   "metadata": {},
   "outputs": [],
   "source": [
    "def get_key(val):  #return key for the given value from dictionary.\n",
    "        for key, value in all_classes.items(): \n",
    "             if val == value: \n",
    "                 return key \n",
    "        return \"key doesn't exist\""
   ]
  },
  {
   "cell_type": "code",
   "execution_count": 22,
   "metadata": {},
   "outputs": [],
   "source": [
    "while(True):\n",
    "    ret, frame = cap.read()  # Capture the video frame by frame\n",
    "    if frame is None:\n",
    "        continue\n",
    "        \n",
    "    test_image=frame.copy()\n",
    "    \n",
    "    test_image = cv2.resize(test_image,(32,32)) #make image size of (32,32) becasue our model is trained for that only.\n",
    "    \n",
    "    test_image = cv2.cvtColor(test_image, cv2.COLOR_BGR2GRAY)#grayscale conversion\n",
    "    \n",
    "    #since keras uses tensor flow and for tensorflow it needs 4d image so we converted 3d image to 4d image using above\n",
    "    \n",
    "    test_image = np.expand_dims(test_image,axis=0)\n",
    "    test_image = np.expand_dims(test_image,axis=-1)\n",
    "    \n",
    "    #print(test_image.shape)\n",
    "    #predict\n",
    "    result = model.predict(test_image)\n",
    "    #print(result[0])\n",
    "    pred=list(result[0])\n",
    "    \n",
    "    for i in range(len(pred)):\n",
    "        if pred[i]!=0:\n",
    "            #print(get_key(i))\n",
    "            cv2.putText(frame, get_key(i), (250,400), cv2.FONT_HERSHEY_SIMPLEX, 1, (255,255,255), 2,) # Putting text in every frame\n",
    "            cv2.imshow('frame',frame) #Display the resulting frame\n",
    "    \n",
    "    if cv2.waitKey(1) & 0xFF == ord('q'):  # the 'q' button is set as the quitting button\n",
    "        break\n",
    "        \n",
    "cap.release() # After the loop release the object\n",
    "cv2.destroyAllWindows() # Destroy all the windows \n",
    "      "
   ]
  },
  {
   "cell_type": "code",
   "execution_count": 9,
   "metadata": {},
   "outputs": [],
   "source": [
    "cap.release() # After the loop release the object"
   ]
  },
  {
   "cell_type": "code",
   "execution_count": null,
   "metadata": {},
   "outputs": [],
   "source": []
  }
 ],
 "metadata": {
  "kernelspec": {
   "display_name": "Python 3",
   "language": "python",
   "name": "python3"
  },
  "language_info": {
   "codemirror_mode": {
    "name": "ipython",
    "version": 3
   },
   "file_extension": ".py",
   "mimetype": "text/x-python",
   "name": "python",
   "nbconvert_exporter": "python",
   "pygments_lexer": "ipython3",
   "version": "3.6.10"
  }
 },
 "nbformat": 4,
 "nbformat_minor": 4
}
