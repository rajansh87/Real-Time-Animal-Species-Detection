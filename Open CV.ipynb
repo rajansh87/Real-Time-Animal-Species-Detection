{
 "cells": [
  {
   "cell_type": "code",
   "execution_count": 1,
   "metadata": {},
   "outputs": [],
   "source": [
    "import cv2 # import the opencv library\n",
    "\n",
    "cap = cv2.VideoCapture(\"https://192.168.43.1:8080/video\") # Define a video capture object and pass camera ip address as parameter\n",
    "\n",
    "while(True):\n",
    "    ret, frame = cap.read()  # Capture the video frame by frame\n",
    "    \n",
    "    cv2.putText(frame, \"project\", (250,400), cv2.FONT_HERSHEY_SIMPLEX, 1, (255,255,255), 2,) # Putting text in every frame\n",
    "    \n",
    "    cv2.imshow('frame',frame) #Display the resulting frame\n",
    "    \n",
    "    \n",
    "    if cv2.waitKey(1) & 0xFF == ord('q'):  # the 'q' button is set as the quitting button\n",
    "        break\n",
    "        \n",
    "cap.release() # After the loop release the object\n",
    "cv2.destroyAllWindows() # Destroy all the windows \n",
    "    \n",
    "\n",
    "\n",
    "\n",
    "\n",
    "    "
   ]
  },
  {
   "cell_type": "code",
   "execution_count": null,
   "metadata": {},
   "outputs": [],
   "source": []
  },
  {
   "cell_type": "code",
   "execution_count": null,
   "metadata": {},
   "outputs": [],
   "source": []
  },
  {
   "cell_type": "code",
   "execution_count": null,
   "metadata": {},
   "outputs": [],
   "source": []
  }
 ],
 "metadata": {
  "kernelspec": {
   "display_name": "Python 3",
   "language": "python",
   "name": "python3"
  },
  "language_info": {
   "codemirror_mode": {
    "name": "ipython",
    "version": 3
   },
   "file_extension": ".py",
   "mimetype": "text/x-python",
   "name": "python",
   "nbconvert_exporter": "python",
   "pygments_lexer": "ipython3",
   "version": "3.8.5"
  }
 },
 "nbformat": 4,
 "nbformat_minor": 4
}
