{
  "nbformat": 4,
  "nbformat_minor": 0,
  "metadata": {
    "accelerator": "GPU",
    "colab": {
      "name": "iWildCam.ipynb",
      "provenance": [],
      "collapsed_sections": []
    },
    "kernelspec": {
      "display_name": "Python 3",
      "language": "python",
      "name": "python3"
    },
    "language_info": {
      "codemirror_mode": {
        "name": "ipython",
        "version": 3
      },
      "file_extension": ".py",
      "mimetype": "text/x-python",
      "name": "python",
      "nbconvert_exporter": "python",
      "pygments_lexer": "ipython3",
      "version": "3.7.6"
    }
  },
  "cells": [
    {
      "cell_type": "markdown",
      "metadata": {
        "id": "f7PwkZYqTVdX"
      },
      "source": [
        "## Task 1: Importing Libraries"
      ]
    },
    {
      "cell_type": "code",
      "metadata": {
        "colab": {
          "base_uri": "https://localhost:8080/"
        },
        "id": "hg441YflTVdY",
        "outputId": "e20ebada-94b1-44f2-87f9-9e7e549d1b4e"
      },
      "source": [
        "import keras\n",
        "import os\n",
        "import shutil\n",
        "import numpy as np\n",
        "import math\n",
        "import random\n",
        "import matplotlib.pyplot as plt\n",
        "import seaborn as sns\n",
        "sns.set()\n",
        "from platform import python_version\n",
        "import cv2\n",
        "from keras.preprocessing.image import load_img\n",
        "from keras.preprocessing.image import save_img\n",
        "\n",
        "print('Python version:', python_version())\n",
        "print('Numpy version:', np.__version__)\n",
        "print('Seaborn version:', sns.__version__)\n",
        "from distutils.dir_util import copy_tree\n",
        "#!rm -rf /content/*"
      ],
      "execution_count": 2,
      "outputs": [
        {
          "output_type": "stream",
          "text": [
            "Python version: 3.6.9\n",
            "Numpy version: 1.18.5\n",
            "Seaborn version: 0.11.0\n"
          ],
          "name": "stdout"
        }
      ]
    },
    {
      "cell_type": "code",
      "metadata": {
        "id": "habuI1bfTVda"
      },
      "source": [
        "from keras.layers import Convolution2D\n",
        "from keras.layers import MaxPooling2D\n",
        "from keras.layers import Flatten\n",
        "from keras.layers import Dense\n",
        "from keras.models import Sequential\n",
        "from keras.layers import Dropout\n",
        "from keras_preprocessing.image import ImageDataGenerator"
      ],
      "execution_count": 3,
      "outputs": []
    },
    {
      "cell_type": "markdown",
      "metadata": {
        "id": "GiSoki39TVda"
      },
      "source": [
        "## Task 2: Dataset Creation"
      ]
    },
    {
      "cell_type": "code",
      "metadata": {
        "colab": {
          "resources": {
            "http://localhost:8080/nbextensions/google.colab/files.js": {
              "data": "Ly8gQ29weXJpZ2h0IDIwMTcgR29vZ2xlIExMQwovLwovLyBMaWNlbnNlZCB1bmRlciB0aGUgQXBhY2hlIExpY2Vuc2UsIFZlcnNpb24gMi4wICh0aGUgIkxpY2Vuc2UiKTsKLy8geW91IG1heSBub3QgdXNlIHRoaXMgZmlsZSBleGNlcHQgaW4gY29tcGxpYW5jZSB3aXRoIHRoZSBMaWNlbnNlLgovLyBZb3UgbWF5IG9idGFpbiBhIGNvcHkgb2YgdGhlIExpY2Vuc2UgYXQKLy8KLy8gICAgICBodHRwOi8vd3d3LmFwYWNoZS5vcmcvbGljZW5zZXMvTElDRU5TRS0yLjAKLy8KLy8gVW5sZXNzIHJlcXVpcmVkIGJ5IGFwcGxpY2FibGUgbGF3IG9yIGFncmVlZCB0byBpbiB3cml0aW5nLCBzb2Z0d2FyZQovLyBkaXN0cmlidXRlZCB1bmRlciB0aGUgTGljZW5zZSBpcyBkaXN0cmlidXRlZCBvbiBhbiAiQVMgSVMiIEJBU0lTLAovLyBXSVRIT1VUIFdBUlJBTlRJRVMgT1IgQ09ORElUSU9OUyBPRiBBTlkgS0lORCwgZWl0aGVyIGV4cHJlc3Mgb3IgaW1wbGllZC4KLy8gU2VlIHRoZSBMaWNlbnNlIGZvciB0aGUgc3BlY2lmaWMgbGFuZ3VhZ2UgZ292ZXJuaW5nIHBlcm1pc3Npb25zIGFuZAovLyBsaW1pdGF0aW9ucyB1bmRlciB0aGUgTGljZW5zZS4KCi8qKgogKiBAZmlsZW92ZXJ2aWV3IEhlbHBlcnMgZm9yIGdvb2dsZS5jb2xhYiBQeXRob24gbW9kdWxlLgogKi8KKGZ1bmN0aW9uKHNjb3BlKSB7CmZ1bmN0aW9uIHNwYW4odGV4dCwgc3R5bGVBdHRyaWJ1dGVzID0ge30pIHsKICBjb25zdCBlbGVtZW50ID0gZG9jdW1lbnQuY3JlYXRlRWxlbWVudCgnc3BhbicpOwogIGVsZW1lbnQudGV4dENvbnRlbnQgPSB0ZXh0OwogIGZvciAoY29uc3Qga2V5IG9mIE9iamVjdC5rZXlzKHN0eWxlQXR0cmlidXRlcykpIHsKICAgIGVsZW1lbnQuc3R5bGVba2V5XSA9IHN0eWxlQXR0cmlidXRlc1trZXldOwogIH0KICByZXR1cm4gZWxlbWVudDsKfQoKLy8gTWF4IG51bWJlciBvZiBieXRlcyB3aGljaCB3aWxsIGJlIHVwbG9hZGVkIGF0IGEgdGltZS4KY29uc3QgTUFYX1BBWUxPQURfU0laRSA9IDEwMCAqIDEwMjQ7CgpmdW5jdGlvbiBfdXBsb2FkRmlsZXMoaW5wdXRJZCwgb3V0cHV0SWQpIHsKICBjb25zdCBzdGVwcyA9IHVwbG9hZEZpbGVzU3RlcChpbnB1dElkLCBvdXRwdXRJZCk7CiAgY29uc3Qgb3V0cHV0RWxlbWVudCA9IGRvY3VtZW50LmdldEVsZW1lbnRCeUlkKG91dHB1dElkKTsKICAvLyBDYWNoZSBzdGVwcyBvbiB0aGUgb3V0cHV0RWxlbWVudCB0byBtYWtlIGl0IGF2YWlsYWJsZSBmb3IgdGhlIG5leHQgY2FsbAogIC8vIHRvIHVwbG9hZEZpbGVzQ29udGludWUgZnJvbSBQeXRob24uCiAgb3V0cHV0RWxlbWVudC5zdGVwcyA9IHN0ZXBzOwoKICByZXR1cm4gX3VwbG9hZEZpbGVzQ29udGludWUob3V0cHV0SWQpOwp9CgovLyBUaGlzIGlzIHJvdWdobHkgYW4gYXN5bmMgZ2VuZXJhdG9yIChub3Qgc3VwcG9ydGVkIGluIHRoZSBicm93c2VyIHlldCksCi8vIHdoZXJlIHRoZXJlIGFyZSBtdWx0aXBsZSBhc3luY2hyb25vdXMgc3RlcHMgYW5kIHRoZSBQeXRob24gc2lkZSBpcyBnb2luZwovLyB0byBwb2xsIGZvciBjb21wbGV0aW9uIG9mIGVhY2ggc3RlcC4KLy8gVGhpcyB1c2VzIGEgUHJvbWlzZSB0byBibG9jayB0aGUgcHl0aG9uIHNpZGUgb24gY29tcGxldGlvbiBvZiBlYWNoIHN0ZXAsCi8vIHRoZW4gcGFzc2VzIHRoZSByZXN1bHQgb2YgdGhlIHByZXZpb3VzIHN0ZXAgYXMgdGhlIGlucHV0IHRvIHRoZSBuZXh0IHN0ZXAuCmZ1bmN0aW9uIF91cGxvYWRGaWxlc0NvbnRpbnVlKG91dHB1dElkKSB7CiAgY29uc3Qgb3V0cHV0RWxlbWVudCA9IGRvY3VtZW50LmdldEVsZW1lbnRCeUlkKG91dHB1dElkKTsKICBjb25zdCBzdGVwcyA9IG91dHB1dEVsZW1lbnQuc3RlcHM7CgogIGNvbnN0IG5leHQgPSBzdGVwcy5uZXh0KG91dHB1dEVsZW1lbnQubGFzdFByb21pc2VWYWx1ZSk7CiAgcmV0dXJuIFByb21pc2UucmVzb2x2ZShuZXh0LnZhbHVlLnByb21pc2UpLnRoZW4oKHZhbHVlKSA9PiB7CiAgICAvLyBDYWNoZSB0aGUgbGFzdCBwcm9taXNlIHZhbHVlIHRvIG1ha2UgaXQgYXZhaWxhYmxlIHRvIHRoZSBuZXh0CiAgICAvLyBzdGVwIG9mIHRoZSBnZW5lcmF0b3IuCiAgICBvdXRwdXRFbGVtZW50Lmxhc3RQcm9taXNlVmFsdWUgPSB2YWx1ZTsKICAgIHJldHVybiBuZXh0LnZhbHVlLnJlc3BvbnNlOwogIH0pOwp9CgovKioKICogR2VuZXJhdG9yIGZ1bmN0aW9uIHdoaWNoIGlzIGNhbGxlZCBiZXR3ZWVuIGVhY2ggYXN5bmMgc3RlcCBvZiB0aGUgdXBsb2FkCiAqIHByb2Nlc3MuCiAqIEBwYXJhbSB7c3RyaW5nfSBpbnB1dElkIEVsZW1lbnQgSUQgb2YgdGhlIGlucHV0IGZpbGUgcGlja2VyIGVsZW1lbnQuCiAqIEBwYXJhbSB7c3RyaW5nfSBvdXRwdXRJZCBFbGVtZW50IElEIG9mIHRoZSBvdXRwdXQgZGlzcGxheS4KICogQHJldHVybiB7IUl0ZXJhYmxlPCFPYmplY3Q+fSBJdGVyYWJsZSBvZiBuZXh0IHN0ZXBzLgogKi8KZnVuY3Rpb24qIHVwbG9hZEZpbGVzU3RlcChpbnB1dElkLCBvdXRwdXRJZCkgewogIGNvbnN0IGlucHV0RWxlbWVudCA9IGRvY3VtZW50LmdldEVsZW1lbnRCeUlkKGlucHV0SWQpOwogIGlucHV0RWxlbWVudC5kaXNhYmxlZCA9IGZhbHNlOwoKICBjb25zdCBvdXRwdXRFbGVtZW50ID0gZG9jdW1lbnQuZ2V0RWxlbWVudEJ5SWQob3V0cHV0SWQpOwogIG91dHB1dEVsZW1lbnQuaW5uZXJIVE1MID0gJyc7CgogIGNvbnN0IHBpY2tlZFByb21pc2UgPSBuZXcgUHJvbWlzZSgocmVzb2x2ZSkgPT4gewogICAgaW5wdXRFbGVtZW50LmFkZEV2ZW50TGlzdGVuZXIoJ2NoYW5nZScsIChlKSA9PiB7CiAgICAgIHJlc29sdmUoZS50YXJnZXQuZmlsZXMpOwogICAgfSk7CiAgfSk7CgogIGNvbnN0IGNhbmNlbCA9IGRvY3VtZW50LmNyZWF0ZUVsZW1lbnQoJ2J1dHRvbicpOwogIGlucHV0RWxlbWVudC5wYXJlbnRFbGVtZW50LmFwcGVuZENoaWxkKGNhbmNlbCk7CiAgY2FuY2VsLnRleHRDb250ZW50ID0gJ0NhbmNlbCB1cGxvYWQnOwogIGNvbnN0IGNhbmNlbFByb21pc2UgPSBuZXcgUHJvbWlzZSgocmVzb2x2ZSkgPT4gewogICAgY2FuY2VsLm9uY2xpY2sgPSAoKSA9PiB7CiAgICAgIHJlc29sdmUobnVsbCk7CiAgICB9OwogIH0pOwoKICAvLyBXYWl0IGZvciB0aGUgdXNlciB0byBwaWNrIHRoZSBmaWxlcy4KICBjb25zdCBmaWxlcyA9IHlpZWxkIHsKICAgIHByb21pc2U6IFByb21pc2UucmFjZShbcGlja2VkUHJvbWlzZSwgY2FuY2VsUHJvbWlzZV0pLAogICAgcmVzcG9uc2U6IHsKICAgICAgYWN0aW9uOiAnc3RhcnRpbmcnLAogICAgfQogIH07CgogIGNhbmNlbC5yZW1vdmUoKTsKCiAgLy8gRGlzYWJsZSB0aGUgaW5wdXQgZWxlbWVudCBzaW5jZSBmdXJ0aGVyIHBpY2tzIGFyZSBub3QgYWxsb3dlZC4KICBpbnB1dEVsZW1lbnQuZGlzYWJsZWQgPSB0cnVlOwoKICBpZiAoIWZpbGVzKSB7CiAgICByZXR1cm4gewogICAgICByZXNwb25zZTogewogICAgICAgIGFjdGlvbjogJ2NvbXBsZXRlJywKICAgICAgfQogICAgfTsKICB9CgogIGZvciAoY29uc3QgZmlsZSBvZiBmaWxlcykgewogICAgY29uc3QgbGkgPSBkb2N1bWVudC5jcmVhdGVFbGVtZW50KCdsaScpOwogICAgbGkuYXBwZW5kKHNwYW4oZmlsZS5uYW1lLCB7Zm9udFdlaWdodDogJ2JvbGQnfSkpOwogICAgbGkuYXBwZW5kKHNwYW4oCiAgICAgICAgYCgke2ZpbGUudHlwZSB8fCAnbi9hJ30pIC0gJHtmaWxlLnNpemV9IGJ5dGVzLCBgICsKICAgICAgICBgbGFzdCBtb2RpZmllZDogJHsKICAgICAgICAgICAgZmlsZS5sYXN0TW9kaWZpZWREYXRlID8gZmlsZS5sYXN0TW9kaWZpZWREYXRlLnRvTG9jYWxlRGF0ZVN0cmluZygpIDoKICAgICAgICAgICAgICAgICAgICAgICAgICAgICAgICAgICAgJ24vYSd9IC0gYCkpOwogICAgY29uc3QgcGVyY2VudCA9IHNwYW4oJzAlIGRvbmUnKTsKICAgIGxpLmFwcGVuZENoaWxkKHBlcmNlbnQpOwoKICAgIG91dHB1dEVsZW1lbnQuYXBwZW5kQ2hpbGQobGkpOwoKICAgIGNvbnN0IGZpbGVEYXRhUHJvbWlzZSA9IG5ldyBQcm9taXNlKChyZXNvbHZlKSA9PiB7CiAgICAgIGNvbnN0IHJlYWRlciA9IG5ldyBGaWxlUmVhZGVyKCk7CiAgICAgIHJlYWRlci5vbmxvYWQgPSAoZSkgPT4gewogICAgICAgIHJlc29sdmUoZS50YXJnZXQucmVzdWx0KTsKICAgICAgfTsKICAgICAgcmVhZGVyLnJlYWRBc0FycmF5QnVmZmVyKGZpbGUpOwogICAgfSk7CiAgICAvLyBXYWl0IGZvciB0aGUgZGF0YSB0byBiZSByZWFkeS4KICAgIGxldCBmaWxlRGF0YSA9IHlpZWxkIHsKICAgICAgcHJvbWlzZTogZmlsZURhdGFQcm9taXNlLAogICAgICByZXNwb25zZTogewogICAgICAgIGFjdGlvbjogJ2NvbnRpbnVlJywKICAgICAgfQogICAgfTsKCiAgICAvLyBVc2UgYSBjaHVua2VkIHNlbmRpbmcgdG8gYXZvaWQgbWVzc2FnZSBzaXplIGxpbWl0cy4gU2VlIGIvNjIxMTU2NjAuCiAgICBsZXQgcG9zaXRpb24gPSAwOwogICAgd2hpbGUgKHBvc2l0aW9uIDwgZmlsZURhdGEuYnl0ZUxlbmd0aCkgewogICAgICBjb25zdCBsZW5ndGggPSBNYXRoLm1pbihmaWxlRGF0YS5ieXRlTGVuZ3RoIC0gcG9zaXRpb24sIE1BWF9QQVlMT0FEX1NJWkUpOwogICAgICBjb25zdCBjaHVuayA9IG5ldyBVaW50OEFycmF5KGZpbGVEYXRhLCBwb3NpdGlvbiwgbGVuZ3RoKTsKICAgICAgcG9zaXRpb24gKz0gbGVuZ3RoOwoKICAgICAgY29uc3QgYmFzZTY0ID0gYnRvYShTdHJpbmcuZnJvbUNoYXJDb2RlLmFwcGx5KG51bGwsIGNodW5rKSk7CiAgICAgIHlpZWxkIHsKICAgICAgICByZXNwb25zZTogewogICAgICAgICAgYWN0aW9uOiAnYXBwZW5kJywKICAgICAgICAgIGZpbGU6IGZpbGUubmFtZSwKICAgICAgICAgIGRhdGE6IGJhc2U2NCwKICAgICAgICB9LAogICAgICB9OwogICAgICBwZXJjZW50LnRleHRDb250ZW50ID0KICAgICAgICAgIGAke01hdGgucm91bmQoKHBvc2l0aW9uIC8gZmlsZURhdGEuYnl0ZUxlbmd0aCkgKiAxMDApfSUgZG9uZWA7CiAgICB9CiAgfQoKICAvLyBBbGwgZG9uZS4KICB5aWVsZCB7CiAgICByZXNwb25zZTogewogICAgICBhY3Rpb246ICdjb21wbGV0ZScsCiAgICB9CiAgfTsKfQoKc2NvcGUuZ29vZ2xlID0gc2NvcGUuZ29vZ2xlIHx8IHt9OwpzY29wZS5nb29nbGUuY29sYWIgPSBzY29wZS5nb29nbGUuY29sYWIgfHwge307CnNjb3BlLmdvb2dsZS5jb2xhYi5fZmlsZXMgPSB7CiAgX3VwbG9hZEZpbGVzLAogIF91cGxvYWRGaWxlc0NvbnRpbnVlLAp9Owp9KShzZWxmKTsK",
              "ok": true,
              "headers": [
                [
                  "content-type",
                  "application/javascript"
                ]
              ],
              "status": 200,
              "status_text": ""
            }
          },
          "base_uri": "https://localhost:8080/",
          "height": 89
        },
        "id": "wjImpamyTaCN",
        "outputId": "d430693d-52e4-484d-c082-36b5c08e44d2"
      },
      "source": [
        "#Loading my kaggle API Key\n",
        "from google.colab import files\n",
        "files.upload()"
      ],
      "execution_count": 4,
      "outputs": [
        {
          "output_type": "display_data",
          "data": {
            "text/html": [
              "\n",
              "     <input type=\"file\" id=\"files-af0174a4-5003-4390-9020-45254e766d8c\" name=\"files[]\" multiple disabled\n",
              "        style=\"border:none\" />\n",
              "     <output id=\"result-af0174a4-5003-4390-9020-45254e766d8c\">\n",
              "      Upload widget is only available when the cell has been executed in the\n",
              "      current browser session. Please rerun this cell to enable.\n",
              "      </output>\n",
              "      <script src=\"/nbextensions/google.colab/files.js\"></script> "
            ],
            "text/plain": [
              "<IPython.core.display.HTML object>"
            ]
          },
          "metadata": {
            "tags": []
          }
        },
        {
          "output_type": "stream",
          "text": [
            "Saving kaggle.json to kaggle.json\n"
          ],
          "name": "stdout"
        },
        {
          "output_type": "execute_result",
          "data": {
            "text/plain": [
              "{'kaggle.json': b'{\"username\":\"rajansh87\",\"key\":\"792ad04bb02c58836d2ee490d28bff93\"}'}"
            ]
          },
          "metadata": {
            "tags": []
          },
          "execution_count": 4
        }
      ]
    },
    {
      "cell_type": "code",
      "metadata": {
        "id": "nxn34HL9TaPy"
      },
      "source": [
        "!pip install -q kaggle\n",
        "!mkdir -p ~/.kaggle\n",
        "!cp kaggle.json ~/.kaggle/"
      ],
      "execution_count": 5,
      "outputs": []
    },
    {
      "cell_type": "code",
      "metadata": {
        "id": "S3j80q4qWZgG",
        "colab": {
          "base_uri": "https://localhost:8080/"
        },
        "outputId": "2606285e-efa7-450b-e0fd-d5139d893934"
      },
      "source": [
        "# Get datasets from kaggle\n",
        "!kaggle datasets download -d biancaferreira/african-wildlife\n",
        "!kaggle datasets download -d kdnishanth/animal-classification\n",
        "!kaggle datasets download -d viswatejag/animal-detection-small-dataset\n",
        "!kaggle datasets download -d jerrinbright/cheetahtigerwolf"
      ],
      "execution_count": 6,
      "outputs": [
        {
          "output_type": "stream",
          "text": [
            "Warning: Your Kaggle API key is readable by other users on this system! To fix this, you can run 'chmod 600 /root/.kaggle/kaggle.json'\n",
            "Downloading african-wildlife.zip to /content\n",
            " 99% 441M/448M [00:20<00:00, 13.9MB/s]\n",
            "100% 448M/448M [00:20<00:00, 22.4MB/s]\n",
            "Warning: Your Kaggle API key is readable by other users on this system! To fix this, you can run 'chmod 600 /root/.kaggle/kaggle.json'\n",
            "Downloading animal-classification.zip to /content\n",
            " 99% 410M/414M [00:09<00:00, 55.0MB/s]\n",
            "100% 414M/414M [00:09<00:00, 46.8MB/s]\n",
            "Warning: Your Kaggle API key is readable by other users on this system! To fix this, you can run 'chmod 600 /root/.kaggle/kaggle.json'\n",
            "Downloading animal-detection-small-dataset.zip to /content\n",
            "100% 6.39G/6.40G [01:50<00:00, 79.5MB/s]\n",
            "100% 6.40G/6.40G [01:50<00:00, 62.3MB/s]\n",
            "Warning: Your Kaggle API key is readable by other users on this system! To fix this, you can run 'chmod 600 /root/.kaggle/kaggle.json'\n",
            "Downloading cheetahtigerwolf.zip to /content\n",
            "100% 2.50G/2.51G [00:53<00:00, 95.0MB/s]\n",
            "100% 2.51G/2.51G [00:53<00:00, 50.2MB/s]\n"
          ],
          "name": "stdout"
        }
      ]
    },
    {
      "cell_type": "code",
      "metadata": {
        "id": "YdCFYTcEZH_V",
        "colab": {
          "base_uri": "https://localhost:8080/"
        },
        "outputId": "aa91bbaa-a530-457d-85f0-cd8c166a1725"
      },
      "source": [
        "os.mkdir(\"/content/train_data\")\n",
        "os.mkdir(\"/content/train_data/data\")\n",
        "os.mkdir(\"/content/tem/\")\n",
        "!rm -rf /content/sample_data/*\n",
        "!rmdir /content/sample_data"
      ],
      "execution_count": 7,
      "outputs": [
        {
          "output_type": "stream",
          "text": [
            "rmdir: failed to remove '/content/sample_data': No such file or directory\n"
          ],
          "name": "stdout"
        }
      ]
    },
    {
      "cell_type": "code",
      "metadata": {
        "id": "l8tNHZ7mZIEh"
      },
      "source": [
        "#unzip datasets to local directory\n",
        "!unzip -q \"/content/african-wildlife.zip\" -d \"/content/temp/\"\n",
        "!unzip -q \"/content/animal-classification.zip\" -d \"/content/temp/\"\n",
        "!unzip -q \"/content/animal-detection-small-dataset.zip\" -d \"/content/temp/\"\n",
        "!unzip -q \"/content/cheetahtigerwolf.zip\" -d \"/content/temp/\"\n",
        "#now after this delete them from disk manually\n",
        "!rm -rf /content/african-wildlife.zip\n",
        "!rm -rf /content/animal-classification.zip\n",
        "!rm -rf /content/animal-detection-small-dataset.zip\n",
        "!rm -rf /content/cheetahtigerwolf.zip\n",
        "!rm -rf /content/kaggle.json"
      ],
      "execution_count": 8,
      "outputs": []
    },
    {
      "cell_type": "code",
      "metadata": {
        "id": "slwGUPvSm0UQ",
        "colab": {
          "base_uri": "https://localhost:8080/"
        },
        "outputId": "f5440080-1c17-47a8-9b67-12abc891caec"
      },
      "source": [
        "!rm -rf /content/temp/test/test/*\n",
        "!rmdir /content/temp/test/test/\n",
        "!rmdir /content/temp/test/\n",
        "!mv /content/temp/train/train/* /content/temp/"
      ],
      "execution_count": 9,
      "outputs": [
        {
          "output_type": "stream",
          "text": [
            "mv: cannot move '/content/temp/train/train/buffalo' to '/content/temp/buffalo': Directory not empty\n",
            "mv: cannot move '/content/temp/train/train/horse' to '/content/temp/horse': Directory not empty\n"
          ],
          "name": "stdout"
        }
      ]
    },
    {
      "cell_type": "code",
      "metadata": {
        "id": "pozumtEkQl86",
        "colab": {
          "base_uri": "https://localhost:8080/"
        },
        "outputId": "2fdfe23a-f788-43f5-8cc3-34cbbe157ca5"
      },
      "source": [
        "!rm -rf /content/temp/train/train/\n",
        "!rmdir /content/temp/train/train/\n",
        "!rmdir /content/temp/train/\n",
        "!rm -f /content/temp/data.py"
      ],
      "execution_count": 10,
      "outputs": [
        {
          "output_type": "stream",
          "text": [
            "rmdir: failed to remove '/content/temp/train/train/': No such file or directory\n"
          ],
          "name": "stdout"
        }
      ]
    },
    {
      "cell_type": "code",
      "metadata": {
        "id": "ek5nV6rOQmHl",
        "colab": {
          "base_uri": "https://localhost:8080/"
        },
        "outputId": "dcb35625-db35-47cd-c96c-4f5f5e6d34e9"
      },
      "source": [
        "!mv /content/temp/ANIMAL-N30/ANIMALS/* /content/temp/\n",
        "!mv /content/temp/ANIMALS/ANIMALS/* /content/temp/"
      ],
      "execution_count": 11,
      "outputs": [
        {
          "output_type": "stream",
          "text": [
            "mv: cannot move '/content/temp/ANIMALS/ANIMALS/CHEETAH' to '/content/temp/CHEETAH': Directory not empty\n",
            "mv: cannot move '/content/temp/ANIMALS/ANIMALS/CROCODILES' to '/content/temp/CROCODILES': Directory not empty\n",
            "mv: cannot move '/content/temp/ANIMALS/ANIMALS/ELEPHANT' to '/content/temp/ELEPHANT': Directory not empty\n",
            "mv: cannot move '/content/temp/ANIMALS/ANIMALS/GIRAFFE' to '/content/temp/GIRAFFE': Directory not empty\n",
            "mv: cannot move '/content/temp/ANIMALS/ANIMALS/LION' to '/content/temp/LION': Directory not empty\n",
            "mv: cannot move '/content/temp/ANIMALS/ANIMALS/PANDA' to '/content/temp/PANDA': Directory not empty\n",
            "mv: cannot move '/content/temp/ANIMALS/ANIMALS/RHINO' to '/content/temp/RHINO': Directory not empty\n",
            "mv: cannot move '/content/temp/ANIMALS/ANIMALS/TIGER' to '/content/temp/TIGER': Directory not empty\n",
            "mv: cannot move '/content/temp/ANIMALS/ANIMALS/WOLF' to '/content/temp/WOLF': Directory not empty\n",
            "mv: cannot move '/content/temp/ANIMALS/ANIMALS/ZEBRA' to '/content/temp/ZEBRA': Directory not empty\n"
          ],
          "name": "stdout"
        }
      ]
    },
    {
      "cell_type": "code",
      "metadata": {
        "id": "r8_T4T_9QmQs"
      },
      "source": [
        "!rm -rf /content/temp/ANIMAL-N30/ANIMALS/*\n",
        "!rm -rf /content/temp/ANIMALS/ANIMALS/*"
      ],
      "execution_count": 12,
      "outputs": []
    },
    {
      "cell_type": "code",
      "metadata": {
        "id": "_gyabJDeQtNZ"
      },
      "source": [
        "!rmdir /content/temp/ANIMAL-N30/ANIMALS\n",
        "!rmdir /content/temp/ANIMALS/ANIMALS"
      ],
      "execution_count": 13,
      "outputs": []
    },
    {
      "cell_type": "code",
      "metadata": {
        "id": "7t41TknDQtP_"
      },
      "source": [
        "!rmdir /content/temp/ANIMALS\n",
        "!rmdir /content/temp/ANIMAL-N30\n",
        "!mv /content/temp /content/tem/"
      ],
      "execution_count": 14,
      "outputs": []
    },
    {
      "cell_type": "code",
      "metadata": {
        "id": "8pMsxNb9TVda"
      },
      "source": [
        "#convert names of all sub-directories in our data to lowercase\n",
        "import os\n",
        "path='/content/tem/temp/'\n",
        "for file in os.listdir(path):\n",
        "    if file!=file.lower():\n",
        "        os.rename(path+file,file.lower())\n",
        "#after this all the directories whose names were in uppercase gets converted to lowercase and comes outside /temp/ directory."
      ],
      "execution_count": 15,
      "outputs": []
    },
    {
      "cell_type": "code",
      "metadata": {
        "id": "_-oTrob1TVda",
        "colab": {
          "base_uri": "https://localhost:8080/"
        },
        "outputId": "2d4dd483-b93d-430d-9859-6147f8d73f57"
      },
      "source": [
        "#copying all the directories from data which were already in lowercase and didn't came outside the /temp/ directory \n",
        "fromDirectory=\"/content/tem/temp/\"\n",
        "toDirectory=\"/content/tem/\"\n",
        "copy_tree(fromDirectory,toDirectory)\n",
        "#now all data is been converted to lowercase and are at /tem/\n"
      ],
      "execution_count": 16,
      "outputs": [
        {
          "output_type": "execute_result",
          "data": {
            "text/plain": [
              "['/content/tem/siamese+cat/Img-10164.jpg',\n",
              " '/content/tem/siamese+cat/Img-10938.jpg',\n",
              " '/content/tem/siamese+cat/Img-3148.jpg',\n",
              " '/content/tem/siamese+cat/Img-10911.jpg',\n",
              " '/content/tem/siamese+cat/Img-10392.jpg',\n",
              " '/content/tem/siamese+cat/Img-1850.jpg',\n",
              " '/content/tem/siamese+cat/Img-9654.jpg',\n",
              " '/content/tem/siamese+cat/Img-1137.jpg',\n",
              " '/content/tem/siamese+cat/Img-5079.jpg',\n",
              " '/content/tem/siamese+cat/Img-8803.jpg',\n",
              " '/content/tem/siamese+cat/Img-8379.jpg',\n",
              " '/content/tem/siamese+cat/Img-1300.jpg',\n",
              " '/content/tem/siamese+cat/Img-8442.jpg',\n",
              " '/content/tem/siamese+cat/Img-6623.jpg',\n",
              " '/content/tem/siamese+cat/Img-31.jpg',\n",
              " '/content/tem/siamese+cat/Img-7861.jpg',\n",
              " '/content/tem/siamese+cat/Img-6844.jpg',\n",
              " '/content/tem/siamese+cat/Img-5319.jpg',\n",
              " '/content/tem/siamese+cat/Img-2641.jpg',\n",
              " '/content/tem/siamese+cat/Img-11815.jpg',\n",
              " '/content/tem/siamese+cat/Img-910.jpg',\n",
              " '/content/tem/siamese+cat/Img-8675.jpg',\n",
              " '/content/tem/siamese+cat/Img-2031.jpg',\n",
              " '/content/tem/siamese+cat/Img-10722.jpg',\n",
              " '/content/tem/siamese+cat/Img-4372.jpg',\n",
              " '/content/tem/siamese+cat/Img-7001.jpg',\n",
              " '/content/tem/siamese+cat/Img-8900.jpg',\n",
              " '/content/tem/siamese+cat/Img-5150.jpg',\n",
              " '/content/tem/siamese+cat/Img-10094.jpg',\n",
              " '/content/tem/siamese+cat/Img-7598.jpg',\n",
              " '/content/tem/siamese+cat/Img-5302.jpg',\n",
              " '/content/tem/siamese+cat/Img-469.jpg',\n",
              " '/content/tem/siamese+cat/Img-9912.jpg',\n",
              " '/content/tem/siamese+cat/Img-3120.jpg',\n",
              " '/content/tem/siamese+cat/Img-8220.jpg',\n",
              " '/content/tem/siamese+cat/Img-8091.jpg',\n",
              " '/content/tem/siamese+cat/Img-5132.jpg',\n",
              " '/content/tem/siamese+cat/Img-7011.jpg',\n",
              " '/content/tem/siamese+cat/Img-1472.jpg',\n",
              " '/content/tem/siamese+cat/Img-10937.jpg',\n",
              " '/content/tem/siamese+cat/Img-2527.jpg',\n",
              " '/content/tem/siamese+cat/Img-10270.jpg',\n",
              " '/content/tem/siamese+cat/Img-1713.jpg',\n",
              " '/content/tem/siamese+cat/Img-467.jpg',\n",
              " '/content/tem/siamese+cat/Img-4848.jpg',\n",
              " '/content/tem/siamese+cat/Img-5101.jpg',\n",
              " '/content/tem/siamese+cat/Img-10976.jpg',\n",
              " '/content/tem/siamese+cat/Img-8023.jpg',\n",
              " '/content/tem/siamese+cat/Img-10699.jpg',\n",
              " '/content/tem/siamese+cat/Img-11407.jpg',\n",
              " '/content/tem/siamese+cat/Img-12372.jpg',\n",
              " '/content/tem/siamese+cat/Img-6797.jpg',\n",
              " '/content/tem/siamese+cat/Img-10619.jpg',\n",
              " '/content/tem/siamese+cat/Img-10692.jpg',\n",
              " '/content/tem/siamese+cat/Img-2960.jpg',\n",
              " '/content/tem/siamese+cat/Img-3114.jpg',\n",
              " '/content/tem/siamese+cat/Img-9482.jpg',\n",
              " '/content/tem/siamese+cat/Img-5033.jpg',\n",
              " '/content/tem/siamese+cat/Img-9082.jpg',\n",
              " '/content/tem/siamese+cat/Img-5006.jpg',\n",
              " '/content/tem/siamese+cat/Img-2082.jpg',\n",
              " '/content/tem/siamese+cat/Img-599.jpg',\n",
              " '/content/tem/siamese+cat/Img-10213.jpg',\n",
              " '/content/tem/siamese+cat/Img-6104.jpg',\n",
              " '/content/tem/siamese+cat/Img-9857.jpg',\n",
              " '/content/tem/siamese+cat/Img-12651.jpg',\n",
              " '/content/tem/siamese+cat/Img-2242.jpg',\n",
              " '/content/tem/siamese+cat/Img-7256.jpg',\n",
              " '/content/tem/siamese+cat/Img-118.jpg',\n",
              " '/content/tem/siamese+cat/Img-3989.jpg',\n",
              " '/content/tem/siamese+cat/Img-4994.jpg',\n",
              " '/content/tem/siamese+cat/Img-4149.jpg',\n",
              " '/content/tem/siamese+cat/Img-12316.jpg',\n",
              " '/content/tem/siamese+cat/Img-3824.jpg',\n",
              " '/content/tem/siamese+cat/Img-10160.jpg',\n",
              " '/content/tem/siamese+cat/Img-4735.jpg',\n",
              " '/content/tem/siamese+cat/Img-4025.jpg',\n",
              " '/content/tem/siamese+cat/Img-4307.jpg',\n",
              " '/content/tem/siamese+cat/Img-1181.jpg',\n",
              " '/content/tem/siamese+cat/Img-1381.jpg',\n",
              " '/content/tem/siamese+cat/Img-11487.jpg',\n",
              " '/content/tem/siamese+cat/Img-6541.jpg',\n",
              " '/content/tem/siamese+cat/Img-10503.jpg',\n",
              " '/content/tem/siamese+cat/Img-11834.jpg',\n",
              " '/content/tem/siamese+cat/Img-2434.jpg',\n",
              " '/content/tem/siamese+cat/Img-12474.jpg',\n",
              " '/content/tem/siamese+cat/Img-9977.jpg',\n",
              " '/content/tem/siamese+cat/Img-10120.jpg',\n",
              " '/content/tem/siamese+cat/Img-4961.jpg',\n",
              " '/content/tem/siamese+cat/Img-11162.jpg',\n",
              " '/content/tem/siamese+cat/Img-11295.jpg',\n",
              " '/content/tem/siamese+cat/Img-4971.jpg',\n",
              " '/content/tem/siamese+cat/Img-8245.jpg',\n",
              " '/content/tem/siamese+cat/Img-617.jpg',\n",
              " '/content/tem/siamese+cat/Img-1955.jpg',\n",
              " '/content/tem/siamese+cat/Img-8134.jpg',\n",
              " '/content/tem/siamese+cat/Img-12945.jpg',\n",
              " '/content/tem/siamese+cat/Img-6484.jpg',\n",
              " '/content/tem/siamese+cat/Img-5264.jpg',\n",
              " '/content/tem/siamese+cat/Img-188.jpg',\n",
              " '/content/tem/siamese+cat/Img-1324.jpg',\n",
              " '/content/tem/siamese+cat/Img-2039.jpg',\n",
              " '/content/tem/siamese+cat/Img-8507.jpg',\n",
              " '/content/tem/siamese+cat/Img-5966.jpg',\n",
              " '/content/tem/siamese+cat/Img-10343.jpg',\n",
              " '/content/tem/siamese+cat/Img-7301.jpg',\n",
              " '/content/tem/siamese+cat/Img-6385.jpg',\n",
              " '/content/tem/siamese+cat/Img-6587.jpg',\n",
              " '/content/tem/siamese+cat/Img-6239.jpg',\n",
              " '/content/tem/siamese+cat/Img-12745.jpg',\n",
              " '/content/tem/siamese+cat/Img-2133.jpg',\n",
              " '/content/tem/siamese+cat/Img-12549.jpg',\n",
              " '/content/tem/siamese+cat/Img-6553.jpg',\n",
              " '/content/tem/siamese+cat/Img-11905.jpg',\n",
              " '/content/tem/siamese+cat/Img-3717.jpg',\n",
              " '/content/tem/siamese+cat/Img-2293.jpg',\n",
              " '/content/tem/siamese+cat/Img-5980.jpg',\n",
              " '/content/tem/siamese+cat/Img-5060.jpg',\n",
              " '/content/tem/siamese+cat/Img-8225.jpg',\n",
              " '/content/tem/siamese+cat/Img-3164.jpg',\n",
              " '/content/tem/siamese+cat/Img-1764.jpg',\n",
              " '/content/tem/siamese+cat/Img-4693.jpg',\n",
              " '/content/tem/siamese+cat/Img-3122.jpg',\n",
              " '/content/tem/siamese+cat/Img-7188.jpg',\n",
              " '/content/tem/siamese+cat/Img-6327.jpg',\n",
              " '/content/tem/siamese+cat/Img-11224.jpg',\n",
              " '/content/tem/siamese+cat/Img-5781.jpg',\n",
              " '/content/tem/siamese+cat/Img-915.jpg',\n",
              " '/content/tem/siamese+cat/Img-27.jpg',\n",
              " '/content/tem/siamese+cat/Img-7864.jpg',\n",
              " '/content/tem/siamese+cat/Img-6474.jpg',\n",
              " '/content/tem/siamese+cat/Img-2271.jpg',\n",
              " '/content/tem/siamese+cat/Img-2418.jpg',\n",
              " '/content/tem/siamese+cat/Img-2672.jpg',\n",
              " '/content/tem/siamese+cat/Img-401.jpg',\n",
              " '/content/tem/siamese+cat/Img-4210.jpg',\n",
              " '/content/tem/siamese+cat/Img-6033.jpg',\n",
              " '/content/tem/siamese+cat/Img-3613.jpg',\n",
              " '/content/tem/siamese+cat/Img-12586.jpg',\n",
              " '/content/tem/siamese+cat/Img-1144.jpg',\n",
              " '/content/tem/siamese+cat/Img-7545.jpg',\n",
              " '/content/tem/siamese+cat/Img-10007.jpg',\n",
              " '/content/tem/siamese+cat/Img-11277.jpg',\n",
              " '/content/tem/siamese+cat/Img-605.jpg',\n",
              " '/content/tem/siamese+cat/Img-12490.jpg',\n",
              " '/content/tem/siamese+cat/Img-7614.jpg',\n",
              " '/content/tem/siamese+cat/Img-4219.jpg',\n",
              " '/content/tem/siamese+cat/Img-8278.jpg',\n",
              " '/content/tem/siamese+cat/Img-8491.jpg',\n",
              " '/content/tem/siamese+cat/Img-11830.jpg',\n",
              " '/content/tem/siamese+cat/Img-3230.jpg',\n",
              " '/content/tem/siamese+cat/Img-3337.jpg',\n",
              " '/content/tem/siamese+cat/Img-150.jpg',\n",
              " '/content/tem/siamese+cat/Img-3475.jpg',\n",
              " '/content/tem/siamese+cat/Img-2922.jpg',\n",
              " '/content/tem/siamese+cat/Img-10508.jpg',\n",
              " '/content/tem/siamese+cat/Img-5145.jpg',\n",
              " '/content/tem/siamese+cat/Img-1215.jpg',\n",
              " '/content/tem/siamese+cat/Img-3726.jpg',\n",
              " '/content/tem/siamese+cat/Img-8796.jpg',\n",
              " '/content/tem/siamese+cat/Img-8067.jpg',\n",
              " '/content/tem/siamese+cat/Img-11263.jpg',\n",
              " '/content/tem/siamese+cat/Img-4733.jpg',\n",
              " '/content/tem/siamese+cat/Img-8748.jpg',\n",
              " '/content/tem/siamese+cat/Img-9307.jpg',\n",
              " '/content/tem/siamese+cat/Img-9116.jpg',\n",
              " '/content/tem/siamese+cat/Img-12328.jpg',\n",
              " '/content/tem/siamese+cat/Img-7946.jpg',\n",
              " '/content/tem/siamese+cat/Img-5811.jpg',\n",
              " '/content/tem/siamese+cat/Img-1909.jpg',\n",
              " '/content/tem/siamese+cat/Img-5012.jpg',\n",
              " '/content/tem/siamese+cat/Img-3014.jpg',\n",
              " '/content/tem/siamese+cat/Img-2844.jpg',\n",
              " '/content/tem/siamese+cat/Img-12796.jpg',\n",
              " '/content/tem/siamese+cat/Img-9080.jpg',\n",
              " '/content/tem/siamese+cat/Img-6522.jpg',\n",
              " '/content/tem/siamese+cat/Img-125.jpg',\n",
              " '/content/tem/siamese+cat/Img-9391.jpg',\n",
              " '/content/tem/siamese+cat/Img-8142.jpg',\n",
              " '/content/tem/siamese+cat/Img-9770.jpg',\n",
              " '/content/tem/siamese+cat/Img-5458.jpg',\n",
              " '/content/tem/siamese+cat/Img-7654.jpg',\n",
              " '/content/tem/siamese+cat/Img-9715.jpg',\n",
              " '/content/tem/siamese+cat/Img-11462.jpg',\n",
              " '/content/tem/siamese+cat/Img-2548.jpg',\n",
              " '/content/tem/siamese+cat/Img-4883.jpg',\n",
              " '/content/tem/siamese+cat/Img-2320.jpg',\n",
              " '/content/tem/siamese+cat/Img-9916.jpg',\n",
              " '/content/tem/siamese+cat/Img-201.jpg',\n",
              " '/content/tem/siamese+cat/Img-7141.jpg',\n",
              " '/content/tem/siamese+cat/Img-7205.jpg',\n",
              " '/content/tem/siamese+cat/Img-3728.jpg',\n",
              " '/content/tem/siamese+cat/Img-10819.jpg',\n",
              " '/content/tem/siamese+cat/Img-908.jpg',\n",
              " '/content/tem/siamese+cat/Img-1691.jpg',\n",
              " '/content/tem/siamese+cat/Img-461.jpg',\n",
              " '/content/tem/siamese+cat/Img-5160.jpg',\n",
              " '/content/tem/siamese+cat/Img-1711.jpg',\n",
              " '/content/tem/siamese+cat/Img-9491.jpg',\n",
              " '/content/tem/siamese+cat/Img-131.jpg',\n",
              " '/content/tem/siamese+cat/Img-6793.jpg',\n",
              " '/content/tem/siamese+cat/Img-9460.jpg',\n",
              " '/content/tem/siamese+cat/Img-5703.jpg',\n",
              " '/content/tem/siamese+cat/Img-12281.jpg',\n",
              " '/content/tem/siamese+cat/Img-5963.jpg',\n",
              " '/content/tem/siamese+cat/Img-2214.jpg',\n",
              " '/content/tem/siamese+cat/Img-11960.jpg',\n",
              " '/content/tem/siamese+cat/Img-4997.jpg',\n",
              " '/content/tem/siamese+cat/Img-6130.jpg',\n",
              " '/content/tem/siamese+cat/Img-2643.jpg',\n",
              " '/content/tem/siamese+cat/Img-3851.jpg',\n",
              " '/content/tem/siamese+cat/Img-1693.jpg',\n",
              " '/content/tem/siamese+cat/Img-3593.jpg',\n",
              " '/content/tem/siamese+cat/Img-5492.jpg',\n",
              " '/content/tem/siamese+cat/Img-3751.jpg',\n",
              " '/content/tem/siamese+cat/Img-8181.jpg',\n",
              " '/content/tem/siamese+cat/Img-10134.jpg',\n",
              " '/content/tem/siamese+cat/Img-8739.jpg',\n",
              " '/content/tem/siamese+cat/Img-10766.jpg',\n",
              " '/content/tem/siamese+cat/Img-3644.jpg',\n",
              " '/content/tem/siamese+cat/Img-12686.jpg',\n",
              " '/content/tem/siamese+cat/Img-2951.jpg',\n",
              " '/content/tem/siamese+cat/Img-295.jpg',\n",
              " '/content/tem/siamese+cat/Img-12271.jpg',\n",
              " '/content/tem/siamese+cat/Img-11259.jpg',\n",
              " '/content/tem/siamese+cat/Img-8890.jpg',\n",
              " '/content/tem/siamese+cat/Img-7405.jpg',\n",
              " '/content/tem/siamese+cat/Img-228.jpg',\n",
              " '/content/tem/siamese+cat/Img-1641.jpg',\n",
              " '/content/tem/siamese+cat/Img-5946.jpg',\n",
              " '/content/tem/siamese+cat/Img-12250.jpg',\n",
              " '/content/tem/siamese+cat/Img-6585.jpg',\n",
              " '/content/tem/siamese+cat/Img-4748.jpg',\n",
              " '/content/tem/siamese+cat/Img-10264.jpg',\n",
              " '/content/tem/siamese+cat/Img-2792.jpg',\n",
              " '/content/tem/siamese+cat/Img-8849.jpg',\n",
              " '/content/tem/siamese+cat/Img-6843.jpg',\n",
              " '/content/tem/siamese+cat/Img-5325.jpg',\n",
              " '/content/tem/siamese+cat/Img-226.jpg',\n",
              " '/content/tem/siamese+cat/Img-3366.jpg',\n",
              " '/content/tem/siamese+cat/Img-12729.jpg',\n",
              " '/content/tem/siamese+cat/Img-2113.jpg',\n",
              " '/content/tem/siamese+cat/Img-5287.jpg',\n",
              " '/content/tem/siamese+cat/Img-11297.jpg',\n",
              " '/content/tem/siamese+cat/Img-3213.jpg',\n",
              " '/content/tem/siamese+cat/Img-7713.jpg',\n",
              " '/content/tem/siamese+cat/Img-2456.jpg',\n",
              " '/content/tem/siamese+cat/Img-9867.jpg',\n",
              " '/content/tem/siamese+cat/Img-11534.jpg',\n",
              " '/content/tem/siamese+cat/Img-987.jpg',\n",
              " '/content/tem/siamese+cat/Img-903.jpg',\n",
              " '/content/tem/siamese+cat/Img-2483.jpg',\n",
              " '/content/tem/siamese+cat/Img-8545.jpg',\n",
              " '/content/tem/siamese+cat/Img-6331.jpg',\n",
              " '/content/tem/siamese+cat/Img-11415.jpg',\n",
              " '/content/tem/siamese+cat/Img-9431.jpg',\n",
              " '/content/tem/siamese+cat/Img-4126.jpg',\n",
              " '/content/tem/siamese+cat/Img-8700.jpg',\n",
              " '/content/tem/siamese+cat/Img-5347.jpg',\n",
              " '/content/tem/siamese+cat/Img-6965.jpg',\n",
              " '/content/tem/siamese+cat/Img-9875.jpg',\n",
              " '/content/tem/siamese+cat/Img-11616.jpg',\n",
              " '/content/tem/siamese+cat/Img-8998.jpg',\n",
              " '/content/tem/siamese+cat/Img-3654.jpg',\n",
              " '/content/tem/siamese+cat/Img-5144.jpg',\n",
              " '/content/tem/siamese+cat/Img-2632.jpg',\n",
              " '/content/tem/siamese+cat/Img-12581.jpg',\n",
              " '/content/tem/siamese+cat/Img-4605.jpg',\n",
              " '/content/tem/siamese+cat/Img-725.jpg',\n",
              " '/content/tem/siamese+cat/Img-7500.jpg',\n",
              " '/content/tem/siamese+cat/Img-8958.jpg',\n",
              " '/content/tem/siamese+cat/Img-3803.jpg',\n",
              " '/content/tem/siamese+cat/Img-7678.jpg',\n",
              " '/content/tem/siamese+cat/Img-4448.jpg',\n",
              " '/content/tem/siamese+cat/Img-1696.jpg',\n",
              " '/content/tem/siamese+cat/Img-7595.jpg',\n",
              " '/content/tem/siamese+cat/Img-7251.jpg',\n",
              " '/content/tem/siamese+cat/Img-190.jpg',\n",
              " '/content/tem/siamese+cat/Img-685.jpg',\n",
              " '/content/tem/siamese+cat/Img-7434.jpg',\n",
              " '/content/tem/siamese+cat/Img-4650.jpg',\n",
              " '/content/tem/siamese+cat/Img-9156.jpg',\n",
              " '/content/tem/siamese+cat/Img-1933.jpg',\n",
              " '/content/tem/siamese+cat/Img-10112.jpg',\n",
              " '/content/tem/siamese+cat/Img-12119.jpg',\n",
              " '/content/tem/siamese+cat/Img-3932.jpg',\n",
              " '/content/tem/siamese+cat/Img-7010.jpg',\n",
              " '/content/tem/siamese+cat/Img-9899.jpg',\n",
              " '/content/tem/siamese+cat/Img-11227.jpg',\n",
              " '/content/tem/siamese+cat/Img-478.jpg',\n",
              " '/content/tem/siamese+cat/Img-11550.jpg',\n",
              " '/content/tem/siamese+cat/Img-10851.jpg',\n",
              " '/content/tem/siamese+cat/Img-3997.jpg',\n",
              " '/content/tem/siamese+cat/Img-9264.jpg',\n",
              " '/content/tem/siamese+cat/Img-8387.jpg',\n",
              " '/content/tem/siamese+cat/Img-5380.jpg',\n",
              " '/content/tem/siamese+cat/Img-9795.jpg',\n",
              " '/content/tem/siamese+cat/Img-10032.jpg',\n",
              " '/content/tem/siamese+cat/Img-9586.jpg',\n",
              " '/content/tem/siamese+cat/Img-10416.jpg',\n",
              " '/content/tem/siamese+cat/Img-186.jpg',\n",
              " '/content/tem/siamese+cat/Img-5660.jpg',\n",
              " '/content/tem/siamese+cat/Img-487.jpg',\n",
              " '/content/tem/siamese+cat/Img-8449.jpg',\n",
              " '/content/tem/siamese+cat/Img-11970.jpg',\n",
              " '/content/tem/siamese+cat/Img-3093.jpg',\n",
              " '/content/tem/siamese+cat/Img-4914.jpg',\n",
              " '/content/tem/siamese+cat/Img-6422.jpg',\n",
              " '/content/tem/siamese+cat/Img-11222.jpg',\n",
              " '/content/tem/siamese+cat/Img-7210.jpg',\n",
              " '/content/tem/siamese+cat/Img-3724.jpg',\n",
              " '/content/tem/siamese+cat/Img-8414.jpg',\n",
              " '/content/tem/siamese+cat/Img-6749.jpg',\n",
              " '/content/tem/siamese+cat/Img-11004.jpg',\n",
              " '/content/tem/siamese+cat/Img-8745.jpg',\n",
              " '/content/tem/siamese+cat/Img-11797.jpg',\n",
              " '/content/tem/siamese+cat/Img-5242.jpg',\n",
              " '/content/tem/siamese+cat/Img-11151.jpg',\n",
              " '/content/tem/siamese+cat/Img-11091.jpg',\n",
              " '/content/tem/siamese+cat/Img-10006.jpg',\n",
              " '/content/tem/siamese+cat/Img-12643.jpg',\n",
              " '/content/tem/siamese+cat/Img-7123.jpg',\n",
              " '/content/tem/siamese+cat/Img-5359.jpg',\n",
              " '/content/tem/siamese+cat/Img-2877.jpg',\n",
              " '/content/tem/siamese+cat/Img-7164.jpg',\n",
              " '/content/tem/siamese+cat/Img-16.jpg',\n",
              " '/content/tem/siamese+cat/Img-4134.jpg',\n",
              " '/content/tem/siamese+cat/Img-3150.jpg',\n",
              " '/content/tem/siamese+cat/Img-4762.jpg',\n",
              " '/content/tem/siamese+cat/Img-2529.jpg',\n",
              " '/content/tem/siamese+cat/Img-2854.jpg',\n",
              " '/content/tem/siamese+cat/Img-2536.jpg',\n",
              " '/content/tem/siamese+cat/Img-10281.jpg',\n",
              " '/content/tem/siamese+cat/Img-110.jpg',\n",
              " '/content/tem/siamese+cat/Img-8052.jpg',\n",
              " '/content/tem/siamese+cat/Img-5399.jpg',\n",
              " '/content/tem/siamese+cat/Img-10671.jpg',\n",
              " '/content/tem/siamese+cat/Img-7247.jpg',\n",
              " '/content/tem/siamese+cat/Img-4509.jpg',\n",
              " '/content/tem/siamese+cat/Img-9487.jpg',\n",
              " '/content/tem/siamese+cat/Img-990.jpg',\n",
              " '/content/tem/ox/Img-4250.jpg',\n",
              " '/content/tem/ox/Img-5798.jpg',\n",
              " '/content/tem/ox/Img-7790.jpg',\n",
              " '/content/tem/ox/Img-5858.jpg',\n",
              " '/content/tem/ox/Img-2991.jpg',\n",
              " '/content/tem/ox/Img-12443.jpg',\n",
              " '/content/tem/ox/Img-7615.jpg',\n",
              " '/content/tem/ox/Img-9952.jpg',\n",
              " '/content/tem/ox/Img-633.jpg',\n",
              " '/content/tem/ox/Img-11821.jpg',\n",
              " '/content/tem/ox/Img-10095.jpg',\n",
              " '/content/tem/ox/Img-7417.jpg',\n",
              " '/content/tem/ox/Img-12985.jpg',\n",
              " '/content/tem/ox/Img-2007.jpg',\n",
              " '/content/tem/ox/Img-154.jpg',\n",
              " '/content/tem/ox/Img-3420.jpg',\n",
              " '/content/tem/ox/Img-3961.jpg',\n",
              " '/content/tem/ox/Img-8069.jpg',\n",
              " '/content/tem/ox/Img-7321.jpg',\n",
              " '/content/tem/ox/Img-12811.jpg',\n",
              " '/content/tem/ox/Img-11000.jpg',\n",
              " '/content/tem/ox/Img-7354.jpg',\n",
              " '/content/tem/ox/Img-7580.jpg',\n",
              " '/content/tem/ox/Img-10172.jpg',\n",
              " '/content/tem/ox/Img-3800.jpg',\n",
              " '/content/tem/ox/Img-6437.jpg',\n",
              " '/content/tem/ox/Img-6161.jpg',\n",
              " '/content/tem/ox/Img-4537.jpg',\n",
              " '/content/tem/ox/Img-7971.jpg',\n",
              " '/content/tem/ox/Img-1218.jpg',\n",
              " '/content/tem/ox/Img-9675.jpg',\n",
              " '/content/tem/ox/Img-10048.jpg',\n",
              " '/content/tem/ox/Img-2124.jpg',\n",
              " '/content/tem/ox/Img-3448.jpg',\n",
              " '/content/tem/ox/Img-4158.jpg',\n",
              " '/content/tem/ox/Img-11203.jpg',\n",
              " '/content/tem/ox/Img-9381.jpg',\n",
              " '/content/tem/ox/Img-2013.jpg',\n",
              " '/content/tem/ox/Img-5097.jpg',\n",
              " '/content/tem/ox/Img-7407.jpg',\n",
              " '/content/tem/ox/Img-4952.jpg',\n",
              " '/content/tem/ox/Img-10037.jpg',\n",
              " '/content/tem/ox/Img-7064.jpg',\n",
              " '/content/tem/ox/Img-8218.jpg',\n",
              " '/content/tem/ox/Img-7248.jpg',\n",
              " '/content/tem/ox/Img-4078.jpg',\n",
              " '/content/tem/ox/Img-1331.jpg',\n",
              " '/content/tem/ox/Img-3138.jpg',\n",
              " '/content/tem/ox/Img-6353.jpg',\n",
              " '/content/tem/ox/Img-2794.jpg',\n",
              " '/content/tem/ox/Img-1688.jpg',\n",
              " '/content/tem/ox/Img-1513.jpg',\n",
              " '/content/tem/ox/Img-11349.jpg',\n",
              " '/content/tem/ox/Img-11272.jpg',\n",
              " '/content/tem/ox/Img-7904.jpg',\n",
              " '/content/tem/ox/Img-11229.jpg',\n",
              " '/content/tem/ox/Img-698.jpg',\n",
              " '/content/tem/ox/Img-8587.jpg',\n",
              " '/content/tem/ox/Img-5986.jpg',\n",
              " '/content/tem/ox/Img-1605.jpg',\n",
              " '/content/tem/ox/Img-558.jpg',\n",
              " '/content/tem/ox/Img-11475.jpg',\n",
              " '/content/tem/ox/Img-7139.jpg',\n",
              " '/content/tem/ox/Img-11422.jpg',\n",
              " '/content/tem/ox/Img-9518.jpg',\n",
              " '/content/tem/ox/Img-9173.jpg',\n",
              " '/content/tem/ox/Img-423.jpg',\n",
              " '/content/tem/ox/Img-116.jpg',\n",
              " '/content/tem/ox/Img-7030.jpg',\n",
              " '/content/tem/ox/Img-631.jpg',\n",
              " '/content/tem/ox/Img-10652.jpg',\n",
              " '/content/tem/ox/Img-763.jpg',\n",
              " '/content/tem/ox/Img-3528.jpg',\n",
              " '/content/tem/ox/Img-6345.jpg',\n",
              " '/content/tem/ox/Img-6519.jpg',\n",
              " '/content/tem/ox/Img-1453.jpg',\n",
              " '/content/tem/ox/Img-9537.jpg',\n",
              " '/content/tem/ox/Img-6656.jpg',\n",
              " '/content/tem/ox/Img-5308.jpg',\n",
              " '/content/tem/ox/Img-514.jpg',\n",
              " '/content/tem/ox/Img-8452.jpg',\n",
              " '/content/tem/ox/Img-2544.jpg',\n",
              " '/content/tem/ox/Img-12294.jpg',\n",
              " '/content/tem/ox/Img-12506.jpg',\n",
              " '/content/tem/ox/Img-6152.jpg',\n",
              " '/content/tem/ox/Img-4468.jpg',\n",
              " '/content/tem/ox/Img-8934.jpg',\n",
              " '/content/tem/ox/Img-3657.jpg',\n",
              " '/content/tem/ox/Img-1243.jpg',\n",
              " '/content/tem/ox/Img-9275.jpg',\n",
              " '/content/tem/ox/Img-3907.jpg',\n",
              " '/content/tem/ox/Img-6231.jpg',\n",
              " '/content/tem/ox/Img-7400.jpg',\n",
              " '/content/tem/ox/Img-5865.jpg',\n",
              " '/content/tem/ox/Img-12310.jpg',\n",
              " '/content/tem/ox/Img-1854.jpg',\n",
              " '/content/tem/ox/Img-8817.jpg',\n",
              " '/content/tem/ox/Img-1520.jpg',\n",
              " '/content/tem/ox/Img-1296.jpg',\n",
              " '/content/tem/ox/Img-5836.jpg',\n",
              " '/content/tem/ox/Img-6287.jpg',\n",
              " '/content/tem/ox/Img-2389.jpg',\n",
              " '/content/tem/ox/Img-6462.jpg',\n",
              " '/content/tem/ox/Img-9162.jpg',\n",
              " '/content/tem/ox/Img-6612.jpg',\n",
              " '/content/tem/ox/Img-10688.jpg',\n",
              " '/content/tem/ox/Img-3819.jpg',\n",
              " '/content/tem/ox/Img-1731.jpg',\n",
              " '/content/tem/ox/Img-11860.jpg',\n",
              " '/content/tem/ox/Img-7968.jpg',\n",
              " '/content/tem/ox/Img-574.jpg',\n",
              " '/content/tem/ox/Img-1683.jpg',\n",
              " '/content/tem/ox/Img-2807.jpg',\n",
              " '/content/tem/ox/Img-9259.jpg',\n",
              " '/content/tem/ox/Img-4743.jpg',\n",
              " '/content/tem/ox/Img-3217.jpg',\n",
              " '/content/tem/ox/Img-5400.jpg',\n",
              " '/content/tem/ox/Img-7049.jpg',\n",
              " '/content/tem/ox/Img-7309.jpg',\n",
              " '/content/tem/ox/Img-11998.jpg',\n",
              " '/content/tem/ox/Img-8014.jpg',\n",
              " '/content/tem/ox/Img-9461.jpg',\n",
              " '/content/tem/ox/Img-2862.jpg',\n",
              " '/content/tem/ox/Img-1506.jpg',\n",
              " '/content/tem/ox/Img-5653.jpg',\n",
              " '/content/tem/ox/Img-5632.jpg',\n",
              " '/content/tem/ox/Img-2230.jpg',\n",
              " '/content/tem/ox/Img-934.jpg',\n",
              " '/content/tem/ox/Img-1268.jpg',\n",
              " '/content/tem/ox/Img-10277.jpg',\n",
              " '/content/tem/ox/Img-12034.jpg',\n",
              " '/content/tem/ox/Img-6598.jpg',\n",
              " '/content/tem/ox/Img-4936.jpg',\n",
              " '/content/tem/ox/Img-5240.jpg',\n",
              " '/content/tem/ox/Img-8090.jpg',\n",
              " '/content/tem/ox/Img-4321.jpg',\n",
              " '/content/tem/ox/Img-4828.jpg',\n",
              " '/content/tem/ox/Img-11283.jpg',\n",
              " '/content/tem/ox/Img-6779.jpg',\n",
              " '/content/tem/ox/Img-3742.jpg',\n",
              " '/content/tem/ox/Img-347.jpg',\n",
              " '/content/tem/ox/Img-3212.jpg',\n",
              " '/content/tem/ox/Img-9560.jpg',\n",
              " '/content/tem/ox/Img-6878.jpg',\n",
              " '/content/tem/ox/Img-10239.jpg',\n",
              " '/content/tem/ox/Img-7098.jpg',\n",
              " '/content/tem/ox/Img-507.jpg',\n",
              " '/content/tem/ox/Img-4814.jpg',\n",
              " '/content/tem/ox/Img-9855.jpg',\n",
              " '/content/tem/ox/Img-962.jpg',\n",
              " '/content/tem/ox/Img-11046.jpg',\n",
              " '/content/tem/ox/Img-3924.jpg',\n",
              " '/content/tem/ox/Img-11674.jpg',\n",
              " '/content/tem/ox/Img-1018.jpg',\n",
              " '/content/tem/ox/Img-11526.jpg',\n",
              " '/content/tem/ox/Img-4858.jpg',\n",
              " '/content/tem/ox/Img-3399.jpg',\n",
              " '/content/tem/ox/Img-4581.jpg',\n",
              " '/content/tem/ox/Img-12110.jpg',\n",
              " '/content/tem/ox/Img-10887.jpg',\n",
              " '/content/tem/ox/Img-8093.jpg',\n",
              " '/content/tem/ox/Img-4563.jpg',\n",
              " '/content/tem/ox/Img-2489.jpg',\n",
              " '/content/tem/ox/Img-10440.jpg',\n",
              " '/content/tem/ox/Img-10788.jpg',\n",
              " '/content/tem/ox/Img-6073.jpg',\n",
              " '/content/tem/ox/Img-1078.jpg',\n",
              " '/content/tem/ox/Img-11074.jpg',\n",
              " '/content/tem/ox/Img-1697.jpg',\n",
              " '/content/tem/ox/Img-5465.jpg',\n",
              " '/content/tem/ox/Img-278.jpg',\n",
              " '/content/tem/ox/Img-2650.jpg',\n",
              " '/content/tem/ox/Img-5511.jpg',\n",
              " '/content/tem/ox/Img-8880.jpg',\n",
              " '/content/tem/ox/Img-4434.jpg',\n",
              " '/content/tem/ox/Img-3203.jpg',\n",
              " '/content/tem/ox/Img-3226.jpg',\n",
              " '/content/tem/ox/Img-8518.jpg',\n",
              " '/content/tem/ox/Img-2474.jpg',\n",
              " '/content/tem/ox/Img-12306.jpg',\n",
              " '/content/tem/ox/Img-9908.jpg',\n",
              " '/content/tem/ox/Img-10696.jpg',\n",
              " '/content/tem/ox/Img-2608.jpg',\n",
              " '/content/tem/ox/Img-1537.jpg',\n",
              " '/content/tem/ox/Img-1201.jpg',\n",
              " '/content/tem/ox/Img-7560.jpg',\n",
              " '/content/tem/ox/Img-1541.jpg',\n",
              " '/content/tem/ox/Img-6517.jpg',\n",
              " '/content/tem/ox/Img-8139.jpg',\n",
              " '/content/tem/ox/Img-12284.jpg',\n",
              " '/content/tem/ox/Img-11305.jpg',\n",
              " '/content/tem/ox/Img-9787.jpg',\n",
              " '/content/tem/ox/Img-7673.jpg',\n",
              " '/content/tem/ox/Img-6350.jpg',\n",
              " '/content/tem/ox/Img-575.jpg',\n",
              " '/content/tem/ox/Img-1928.jpg',\n",
              " '/content/tem/ox/Img-577.jpg',\n",
              " '/content/tem/ox/Img-3911.jpg',\n",
              " '/content/tem/ox/Img-3457.jpg',\n",
              " '/content/tem/ox/Img-12824.jpg',\n",
              " '/content/tem/ox/Img-12188.jpg',\n",
              " '/content/tem/ox/Img-2268.jpg',\n",
              " '/content/tem/ox/Img-9649.jpg',\n",
              " '/content/tem/ox/Img-9003.jpg',\n",
              " '/content/tem/ox/Img-9794.jpg',\n",
              " '/content/tem/ox/Img-8727.jpg',\n",
              " '/content/tem/ox/Img-2194.jpg',\n",
              " '/content/tem/ox/Img-1301.jpg',\n",
              " '/content/tem/ox/Img-10607.jpg',\n",
              " '/content/tem/ox/Img-12473.jpg',\n",
              " '/content/tem/ox/Img-2436.jpg',\n",
              " '/content/tem/ox/Img-5486.jpg',\n",
              " '/content/tem/ox/Img-10626.jpg',\n",
              " '/content/tem/ox/Img-1202.jpg',\n",
              " '/content/tem/ox/Img-3902.jpg',\n",
              " '/content/tem/ox/Img-10872.jpg',\n",
              " '/content/tem/ox/Img-3575.jpg',\n",
              " '/content/tem/ox/Img-6134.jpg',\n",
              " '/content/tem/ox/Img-3404.jpg',\n",
              " '/content/tem/ox/Img-7067.jpg',\n",
              " '/content/tem/ox/Img-1195.jpg',\n",
              " '/content/tem/ox/Img-4111.jpg',\n",
              " '/content/tem/ox/Img-4341.jpg',\n",
              " '/content/tem/ox/Img-4890.jpg',\n",
              " '/content/tem/ox/Img-4345.jpg',\n",
              " '/content/tem/ox/Img-8448.jpg',\n",
              " '/content/tem/ox/Img-6971.jpg',\n",
              " '/content/tem/ox/Img-5481.jpg',\n",
              " '/content/tem/ox/Img-10667.jpg',\n",
              " '/content/tem/ox/Img-7390.jpg',\n",
              " '/content/tem/ox/Img-4930.jpg',\n",
              " '/content/tem/ox/Img-96.jpg',\n",
              " '/content/tem/ox/Img-758.jpg',\n",
              " '/content/tem/ox/Img-3676.jpg',\n",
              " '/content/tem/ox/Img-2011.jpg',\n",
              " '/content/tem/ox/Img-2107.jpg',\n",
              " '/content/tem/ox/Img-9115.jpg',\n",
              " '/content/tem/ox/Img-694.jpg',\n",
              " '/content/tem/ox/Img-7801.jpg',\n",
              " '/content/tem/ox/Img-7061.jpg',\n",
              " '/content/tem/ox/Img-2821.jpg',\n",
              " '/content/tem/ox/Img-3769.jpg',\n",
              " '/content/tem/ox/Img-4049.jpg',\n",
              " '/content/tem/ox/Img-224.jpg',\n",
              " '/content/tem/ox/Img-10393.jpg',\n",
              " '/content/tem/ox/Img-8475.jpg',\n",
              " '/content/tem/ox/Img-4231.jpg',\n",
              " '/content/tem/ox/Img-9395.jpg',\n",
              " '/content/tem/ox/Img-111.jpg',\n",
              " '/content/tem/ox/Img-6924.jpg',\n",
              " '/content/tem/ox/Img-10398.jpg',\n",
              " '/content/tem/ox/Img-10174.jpg',\n",
              " '/content/tem/ox/Img-4230.jpg',\n",
              " '/content/tem/ox/Img-5218.jpg',\n",
              " '/content/tem/ox/Img-5976.jpg',\n",
              " '/content/tem/ox/Img-884.jpg',\n",
              " '/content/tem/ox/Img-4763.jpg',\n",
              " '/content/tem/ox/Img-68.jpg',\n",
              " '/content/tem/ox/Img-11039.jpg',\n",
              " '/content/tem/ox/Img-12625.jpg',\n",
              " '/content/tem/ox/Img-2677.jpg',\n",
              " '/content/tem/ox/Img-10547.jpg',\n",
              " '/content/tem/ox/Img-4750.jpg',\n",
              " '/content/tem/ox/Img-5036.jpg',\n",
              " '/content/tem/ox/Img-11395.jpg',\n",
              " '/content/tem/ox/Img-2444.jpg',\n",
              " '/content/tem/ox/Img-4962.jpg',\n",
              " '/content/tem/ox/Img-11446.jpg',\n",
              " '/content/tem/ox/Img-7337.jpg',\n",
              " '/content/tem/ox/Img-11566.jpg',\n",
              " '/content/tem/ox/Img-2380.jpg',\n",
              " '/content/tem/ox/Img-2966.jpg',\n",
              " '/content/tem/ox/Img-3144.jpg',\n",
              " '/content/tem/ox/Img-270.jpg',\n",
              " '/content/tem/ox/Img-11206.jpg',\n",
              " '/content/tem/ox/Img-850.jpg',\n",
              " '/content/tem/ox/Img-6662.jpg',\n",
              " '/content/tem/ox/Img-12164.jpg',\n",
              " '/content/tem/ox/Img-10129.jpg',\n",
              " '/content/tem/ox/Img-1350.jpg',\n",
              " '/content/tem/ox/Img-8877.jpg',\n",
              " '/content/tem/ox/Img-378.jpg',\n",
              " '/content/tem/ox/Img-5105.jpg',\n",
              " '/content/tem/ox/Img-8410.jpg',\n",
              " '/content/tem/ox/Img-7965.jpg',\n",
              " '/content/tem/ox/Img-9288.jpg',\n",
              " '/content/tem/ox/Img-7984.jpg',\n",
              " '/content/tem/ox/Img-5230.jpg',\n",
              " '/content/tem/ox/Img-8081.jpg',\n",
              " '/content/tem/ox/Img-11758.jpg',\n",
              " '/content/tem/ox/Img-5430.jpg',\n",
              " '/content/tem/ox/Img-11710.jpg',\n",
              " '/content/tem/ox/Img-6757.jpg',\n",
              " '/content/tem/ox/Img-1543.jpg',\n",
              " '/content/tem/ox/Img-1944.jpg',\n",
              " '/content/tem/ox/Img-2065.jpg',\n",
              " '/content/tem/ox/Img-12717.jpg',\n",
              " '/content/tem/ox/Img-280.jpg',\n",
              " '/content/tem/ox/Img-9874.jpg',\n",
              " '/content/tem/ox/Img-8086.jpg',\n",
              " '/content/tem/ox/Img-2260.jpg',\n",
              " '/content/tem/ox/Img-13.jpg',\n",
              " '/content/tem/ox/Img-5840.jpg',\n",
              " '/content/tem/ox/Img-3116.jpg',\n",
              " '/content/tem/ox/Img-9833.jpg',\n",
              " '/content/tem/ox/Img-2720.jpg',\n",
              " '/content/tem/ox/Img-3246.jpg',\n",
              " '/content/tem/ox/Img-3421.jpg',\n",
              " '/content/tem/ox/Img-10859.jpg',\n",
              " '/content/tem/ox/Img-12802.jpg',\n",
              " '/content/tem/ox/Img-10240.jpg',\n",
              " '/content/tem/ox/Img-6139.jpg',\n",
              " '/content/tem/ox/Img-8041.jpg',\n",
              " '/content/tem/ox/Img-5588.jpg',\n",
              " '/content/tem/ox/Img-6342.jpg',\n",
              " '/content/tem/ox/Img-11250.jpg',\n",
              " '/content/tem/ox/Img-10530.jpg',\n",
              " '/content/tem/ox/Img-11460.jpg',\n",
              " '/content/tem/ox/Img-3973.jpg',\n",
              " '/content/tem/ox/Img-4459.jpg',\n",
              " '/content/tem/ox/Img-1668.jpg',\n",
              " '/content/tem/ox/Img-3376.jpg',\n",
              " '/content/tem/ox/Img-7200.jpg',\n",
              " '/content/tem/ox/Img-2005.jpg',\n",
              " '/content/tem/ox/Img-10151.jpg',\n",
              " '/content/tem/ox/Img-2236.jpg',\n",
              " '/content/tem/ox/Img-7890.jpg',\n",
              " '/content/tem/ox/Img-10417.jpg',\n",
              " '/content/tem/ox/Img-5831.jpg',\n",
              " '/content/tem/ox/Img-2575.jpg',\n",
              " '/content/tem/ox/Img-9267.jpg',\n",
              " '/content/tem/ox/Img-5572.jpg',\n",
              " '/content/tem/ox/Img-4658.jpg',\n",
              " '/content/tem/ox/Img-5573.jpg',\n",
              " '/content/tem/ox/Img-5729.jpg',\n",
              " '/content/tem/ox/Img-4138.jpg',\n",
              " '/content/tem/ox/Img-7741.jpg',\n",
              " '/content/tem/ox/Img-9574.jpg',\n",
              " '/content/tem/ox/Img-6508.jpg',\n",
              " '/content/tem/ox/Img-11959.jpg',\n",
              " '/content/tem/ox/Img-5949.jpg',\n",
              " '/content/tem/ox/Img-8311.jpg',\n",
              " '/content/tem/ox/Img-4276.jpg',\n",
              " '/content/tem/ox/Img-3139.jpg',\n",
              " '/content/tem/ox/Img-8221.jpg',\n",
              " '/content/tem/ox/Img-3004.jpg',\n",
              " '/content/tem/ox/Img-9070.jpg',\n",
              " '/content/tem/ox/Img-11632.jpg',\n",
              " '/content/tem/ox/Img-3934.jpg',\n",
              " '/content/tem/ox/Img-11468.jpg',\n",
              " '/content/tem/ox/Img-10559.jpg',\n",
              " '/content/tem/ox/Img-643.jpg',\n",
              " '/content/tem/ox/Img-12401.jpg',\n",
              " '/content/tem/ox/Img-9919.jpg',\n",
              " '/content/tem/ox/Img-10523.jpg',\n",
              " '/content/tem/ox/Img-9527.jpg',\n",
              " '/content/tem/ox/Img-3291.jpg',\n",
              " '/content/tem/ox/Img-9665.jpg',\n",
              " '/content/tem/ox/Img-1625.jpg',\n",
              " '/content/tem/ox/Img-8082.jpg',\n",
              " '/content/tem/ox/Img-1614.jpg',\n",
              " '/content/tem/ox/Img-5490.jpg',\n",
              " '/content/tem/ox/Img-12657.jpg',\n",
              " '/content/tem/ox/Img-8154.jpg',\n",
              " '/content/tem/ox/Img-10106.jpg',\n",
              " '/content/tem/ox/Img-1907.jpg',\n",
              " '/content/tem/ox/Img-2688.jpg',\n",
              " '/content/tem/ox/Img-9905.jpg',\n",
              " '/content/tem/ox/Img-3318.jpg',\n",
              " '/content/tem/ox/Img-4052.jpg',\n",
              " '/content/tem/ox/Img-121.jpg',\n",
              " '/content/tem/ox/Img-7662.jpg',\n",
              " '/content/tem/ox/Img-11050.jpg',\n",
              " '/content/tem/ox/Img-11752.jpg',\n",
              " '/content/tem/ox/Img-7658.jpg',\n",
              " '/content/tem/ox/Img-1025.jpg',\n",
              " '/content/tem/ox/Img-12793.jpg',\n",
              " '/content/tem/ox/Img-238.jpg',\n",
              " '/content/tem/ox/Img-4875.jpg',\n",
              " '/content/tem/ox/Img-9117.jpg',\n",
              " '/content/tem/ox/Img-4923.jpg',\n",
              " '/content/tem/ox/Img-4507.jpg',\n",
              " '/content/tem/ox/Img-4467.jpg',\n",
              " '/content/tem/ox/Img-8654.jpg',\n",
              " '/content/tem/ox/Img-4699.jpg',\n",
              " '/content/tem/ox/Img-1632.jpg',\n",
              " '/content/tem/ox/Img-7948.jpg',\n",
              " '/content/tem/ox/Img-9110.jpg',\n",
              " '/content/tem/ox/Img-8572.jpg',\n",
              " '/content/tem/ox/Img-3988.jpg',\n",
              " '/content/tem/ox/Img-4898.jpg',\n",
              " '/content/tem/ox/Img-8087.jpg',\n",
              " '/content/tem/ox/Img-7522.jpg',\n",
              " '/content/tem/ox/Img-10364.jpg',\n",
              " '/content/tem/ox/Img-4.jpg',\n",
              " '/content/tem/ox/Img-5722.jpg',\n",
              " '/content/tem/ox/Img-1590.jpg',\n",
              " '/content/tem/ox/Img-11772.jpg',\n",
              " '/content/tem/ox/Img-6804.jpg',\n",
              " '/content/tem/ox/Img-10870.jpg',\n",
              " '/content/tem/ox/Img-11400.jpg',\n",
              " '/content/tem/ox/Img-7332.jpg',\n",
              " '/content/tem/ox/Img-12557.jpg',\n",
              " '/content/tem/ox/Img-4888.jpg',\n",
              " '/content/tem/ox/Img-3510.jpg',\n",
              " '/content/tem/ox/Img-2130.jpg',\n",
              " '/content/tem/ox/Img-7220.jpg',\n",
              " '/content/tem/ox/Img-10620.jpg',\n",
              " '/content/tem/ox/Img-8861.jpg',\n",
              " '/content/tem/ox/Img-6250.jpg',\n",
              " '/content/tem/ox/Img-4913.jpg',\n",
              " '/content/tem/ox/Img-8066.jpg',\n",
              " '/content/tem/ox/Img-11225.jpg',\n",
              " '/content/tem/ox/Img-6742.jpg',\n",
              " '/content/tem/ox/Img-10954.jpg',\n",
              " '/content/tem/ox/Img-8481.jpg',\n",
              " '/content/tem/ox/Img-3506.jpg',\n",
              " '/content/tem/ox/Img-11918.jpg',\n",
              " '/content/tem/ox/Img-9862.jpg',\n",
              " '/content/tem/ox/Img-3310.jpg',\n",
              " '/content/tem/ox/Img-8393.jpg',\n",
              " '/content/tem/ox/Img-12833.jpg',\n",
              " '/content/tem/ox/Img-8235.jpg',\n",
              " '/content/tem/ox/Img-7410.jpg',\n",
              " '/content/tem/ox/Img-4586.jpg',\n",
              " '/content/tem/ox/Img-3678.jpg',\n",
              " '/content/tem/ox/Img-3729.jpg',\n",
              " '/content/tem/ox/Img-7787.jpg',\n",
              " '/content/tem/ox/Img-8517.jpg',\n",
              " '/content/tem/ox/Img-989.jpg',\n",
              " '/content/tem/ox/Img-12275.jpg',\n",
              " '/content/tem/ox/Img-6991.jpg',\n",
              " '/content/tem/ox/Img-10879.jpg',\n",
              " '/content/tem/ox/Img-12966.jpg',\n",
              " '/content/tem/ox/Img-11958.jpg',\n",
              " '/content/tem/ox/Img-4524.jpg',\n",
              " '/content/tem/ox/Img-3892.jpg',\n",
              " '/content/tem/ox/Img-11973.jpg',\n",
              " '/content/tem/ox/Img-2452.jpg',\n",
              " '/content/tem/ox/Img-6061.jpg',\n",
              " '/content/tem/ox/Img-10075.jpg',\n",
              " '/content/tem/ox/Img-4714.jpg',\n",
              " '/content/tem/ox/Img-6575.jpg',\n",
              " '/content/tem/ox/Img-8603.jpg',\n",
              " '/content/tem/ox/Img-2609.jpg',\n",
              " '/content/tem/ox/Img-4267.jpg',\n",
              " '/content/tem/ox/Img-7679.jpg',\n",
              " '/content/tem/ox/Img-12210.jpg',\n",
              " '/content/tem/ox/Img-10702.jpg',\n",
              " '/content/tem/ox/Img-7958.jpg',\n",
              " '/content/tem/ox/Img-8228.jpg',\n",
              " '/content/tem/ox/Img-7126.jpg',\n",
              " '/content/tem/ox/Img-2153.jpg',\n",
              " '/content/tem/ox/Img-2868.jpg',\n",
              " '/content/tem/ox/Img-5336.jpg',\n",
              " '/content/tem/ox/Img-9842.jpg',\n",
              " '/content/tem/ox/Img-6454.jpg',\n",
              " '/content/tem/ox/Img-12997.jpg',\n",
              " '/content/tem/ox/Img-1758.jpg',\n",
              " '/content/tem/ox/Img-12431.jpg',\n",
              " '/content/tem/ox/Img-275.jpg',\n",
              " '/content/tem/ox/Img-12097.jpg',\n",
              " '/content/tem/ox/Img-6854.jpg',\n",
              " '/content/tem/ox/Img-10802.jpg',\n",
              " '/content/tem/ox/Img-5269.jpg',\n",
              " '/content/tem/ox/Img-6684.jpg',\n",
              " '/content/tem/ox/Img-12070.jpg',\n",
              " '/content/tem/ox/Img-10394.jpg',\n",
              " '/content/tem/ox/Img-10441.jpg',\n",
              " '/content/tem/ox/Img-2744.jpg',\n",
              " '/content/tem/ox/Img-2995.jpg',\n",
              " '/content/tem/ox/Img-922.jpg',\n",
              " '/content/tem/ox/Img-8490.jpg',\n",
              " '/content/tem/ox/Img-861.jpg',\n",
              " '/content/tem/ox/Img-10313.jpg',\n",
              " '/content/tem/ox/Img-485.jpg',\n",
              " '/content/tem/ox/Img-9508.jpg',\n",
              " '/content/tem/ox/Img-10258.jpg',\n",
              " '/content/tem/ox/Img-10642.jpg',\n",
              " '/content/tem/ox/Img-6141.jpg',\n",
              " '/content/tem/ox/Img-9378.jpg',\n",
              " '/content/tem/ox/Img-8326.jpg',\n",
              " '/content/tem/ox/Img-7456.jpg',\n",
              " '/content/tem/ox/Img-7270.jpg',\n",
              " '/content/tem/ox/Img-9612.jpg',\n",
              " '/content/tem/ox/Img-11602.jpg',\n",
              " '/content/tem/ox/Img-712.jpg',\n",
              " '/content/tem/ox/Img-11223.jpg',\n",
              " '/content/tem/ox/Img-2952.jpg',\n",
              " '/content/tem/ox/Img-11036.jpg',\n",
              " '/content/tem/ox/Img-2373.jpg',\n",
              " '/content/tem/ox/Img-623.jpg',\n",
              " '/content/tem/ox/Img-11524.jpg',\n",
              " '/content/tem/ox/Img-1746.jpg',\n",
              " '/content/tem/ox/Img-8172.jpg',\n",
              " '/content/tem/ox/Img-2778.jpg',\n",
              " '/content/tem/ox/Img-2057.jpg',\n",
              " '/content/tem/ox/Img-8486.jpg',\n",
              " '/content/tem/ox/Img-2256.jpg',\n",
              " '/content/tem/ox/Img-4045.jpg',\n",
              " '/content/tem/ox/Img-12376.jpg',\n",
              " '/content/tem/buffalo/326.txt',\n",
              " '/content/tem/buffalo/313.jpg',\n",
              " '/content/tem/buffalo/062.txt',\n",
              " '/content/tem/buffalo/260.txt',\n",
              " '/content/tem/buffalo/001.jpg',\n",
              " '/content/tem/buffalo/080.jpg',\n",
              " '/content/tem/buffalo/020.txt',\n",
              " '/content/tem/buffalo/298.jpg',\n",
              " '/content/tem/buffalo/156.jpg',\n",
              " '/content/tem/buffalo/294.txt',\n",
              " '/content/tem/buffalo/147.txt',\n",
              " '/content/tem/buffalo/265.txt',\n",
              " '/content/tem/buffalo/262.txt',\n",
              " '/content/tem/buffalo/289.txt',\n",
              " '/content/tem/buffalo/204.txt',\n",
              " '/content/tem/buffalo/153.jpg',\n",
              " '/content/tem/buffalo/090.txt',\n",
              " '/content/tem/buffalo/114.jpg',\n",
              " '/content/tem/buffalo/200.txt',\n",
              " '/content/tem/buffalo/192.jpg',\n",
              " '/content/tem/buffalo/349.jpg',\n",
              " '/content/tem/buffalo/046.jpg',\n",
              " '/content/tem/buffalo/003.jpg',\n",
              " '/content/tem/buffalo/025.txt',\n",
              " '/content/tem/buffalo/006.txt',\n",
              " '/content/tem/buffalo/117.jpg',\n",
              " '/content/tem/buffalo/059.txt',\n",
              " '/content/tem/buffalo/086.jpg',\n",
              " '/content/tem/buffalo/177.txt',\n",
              " '/content/tem/buffalo/228.jpg',\n",
              " '/content/tem/buffalo/104.jpg',\n",
              " '/content/tem/buffalo/038.txt',\n",
              " '/content/tem/buffalo/363.jpg',\n",
              " '/content/tem/buffalo/214.jpg',\n",
              " '/content/tem/buffalo/094.jpg',\n",
              " '/content/tem/buffalo/044.txt',\n",
              " '/content/tem/buffalo/316.txt',\n",
              " '/content/tem/buffalo/372.txt',\n",
              " '/content/tem/buffalo/124.txt',\n",
              " '/content/tem/buffalo/060.txt',\n",
              " '/content/tem/buffalo/079.txt',\n",
              " '/content/tem/buffalo/004.jpg',\n",
              " '/content/tem/buffalo/195.txt',\n",
              " '/content/tem/buffalo/224.txt',\n",
              " '/content/tem/buffalo/213.txt',\n",
              " '/content/tem/buffalo/089.txt',\n",
              " '/content/tem/buffalo/109.jpg',\n",
              " '/content/tem/buffalo/030.jpg',\n",
              " '/content/tem/buffalo/287.jpg',\n",
              " '/content/tem/buffalo/336.txt',\n",
              " '/content/tem/buffalo/132.txt',\n",
              " '/content/tem/buffalo/118.txt',\n",
              " '/content/tem/buffalo/183.jpg',\n",
              " '/content/tem/buffalo/288.txt',\n",
              " '/content/tem/buffalo/338.txt',\n",
              " '/content/tem/buffalo/242.txt',\n",
              " '/content/tem/buffalo/226.txt',\n",
              " '/content/tem/buffalo/042.txt',\n",
              " '/content/tem/buffalo/248.jpg',\n",
              " '/content/tem/buffalo/161.jpg',\n",
              " '/content/tem/buffalo/322.jpg',\n",
              " '/content/tem/buffalo/224.jpg',\n",
              " '/content/tem/buffalo/197.jpg',\n",
              " '/content/tem/buffalo/268.txt',\n",
              " '/content/tem/buffalo/214.txt',\n",
              " '/content/tem/buffalo/241.txt',\n",
              " '/content/tem/buffalo/293.jpg',\n",
              " '/content/tem/buffalo/371.txt',\n",
              " '/content/tem/buffalo/182.JPG',\n",
              " '/content/tem/buffalo/045.txt',\n",
              " '/content/tem/buffalo/317.txt',\n",
              " '/content/tem/buffalo/332.txt',\n",
              " '/content/tem/buffalo/339.txt',\n",
              " '/content/tem/buffalo/199.jpg',\n",
              " '/content/tem/buffalo/329.jpg',\n",
              " '/content/tem/buffalo/361.txt',\n",
              " '/content/tem/buffalo/269.jpg',\n",
              " '/content/tem/buffalo/130.txt',\n",
              " '/content/tem/buffalo/319.txt',\n",
              " '/content/tem/buffalo/339.jpg',\n",
              " '/content/tem/buffalo/322.txt',\n",
              " '/content/tem/buffalo/235.jpg',\n",
              " '/content/tem/buffalo/049.txt',\n",
              " '/content/tem/buffalo/256.txt',\n",
              " '/content/tem/buffalo/269.txt',\n",
              " '/content/tem/buffalo/196.jpg',\n",
              " '/content/tem/buffalo/219.txt',\n",
              " '/content/tem/buffalo/134.jpg',\n",
              " '/content/tem/buffalo/119.jpg',\n",
              " '/content/tem/buffalo/057.txt',\n",
              " '/content/tem/buffalo/324.txt',\n",
              " '/content/tem/buffalo/172.jpg',\n",
              " '/content/tem/buffalo/281.txt',\n",
              " '/content/tem/buffalo/375.jpg',\n",
              " '/content/tem/buffalo/140.txt',\n",
              " '/content/tem/buffalo/320.jpg',\n",
              " '/content/tem/buffalo/234.jpg',\n",
              " '/content/tem/buffalo/088.txt',\n",
              " '/content/tem/buffalo/291.jpg',\n",
              " '/content/tem/buffalo/230.txt',\n",
              " '/content/tem/buffalo/318.txt',\n",
              " '/content/tem/buffalo/377.txt',\n",
              " '/content/tem/buffalo/251.jpg',\n",
              " '/content/tem/buffalo/344.jpg',\n",
              " '/content/tem/buffalo/366.jpg',\n",
              " '/content/tem/buffalo/308.jpg',\n",
              " '/content/tem/buffalo/056.jpg',\n",
              " '/content/tem/buffalo/020.jpg',\n",
              " '/content/tem/buffalo/216.txt',\n",
              " '/content/tem/buffalo/103.txt',\n",
              " '/content/tem/buffalo/249.txt',\n",
              " '/content/tem/buffalo/362.txt',\n",
              " '/content/tem/buffalo/308.txt',\n",
              " '/content/tem/buffalo/188.txt',\n",
              " '/content/tem/buffalo/038.jpg',\n",
              " '/content/tem/buffalo/334.txt',\n",
              " '/content/tem/buffalo/158.txt',\n",
              " '/content/tem/buffalo/119.txt',\n",
              " '/content/tem/buffalo/027.txt',\n",
              " '/content/tem/buffalo/347.jpg',\n",
              " '/content/tem/buffalo/346.txt',\n",
              " '/content/tem/buffalo/374.txt',\n",
              " '/content/tem/buffalo/213.jpg',\n",
              " '/content/tem/buffalo/124.jpg',\n",
              " '/content/tem/buffalo/330.jpg',\n",
              " '/content/tem/buffalo/034.txt',\n",
              " '/content/tem/buffalo/074.txt',\n",
              " '/content/tem/buffalo/191.txt',\n",
              " '/content/tem/buffalo/125.jpg',\n",
              " '/content/tem/buffalo/138.jpg',\n",
              " '/content/tem/buffalo/076.txt',\n",
              " '/content/tem/buffalo/240.jpg',\n",
              " '/content/tem/buffalo/071.txt',\n",
              " '/content/tem/buffalo/232.txt',\n",
              " '/content/tem/buffalo/097.jpg',\n",
              " '/content/tem/buffalo/204.jpg',\n",
              " '/content/tem/buffalo/273.txt',\n",
              " '/content/tem/buffalo/189.jpg',\n",
              " '/content/tem/buffalo/239.jpg',\n",
              " '/content/tem/buffalo/060.jpg',\n",
              " '/content/tem/buffalo/097.txt',\n",
              " '/content/tem/buffalo/183.txt',\n",
              " '/content/tem/buffalo/355.jpg',\n",
              " '/content/tem/buffalo/082.jpg',\n",
              " '/content/tem/buffalo/299.jpg',\n",
              " '/content/tem/buffalo/160.jpg',\n",
              " '/content/tem/buffalo/295.jpg',\n",
              " '/content/tem/buffalo/039.txt',\n",
              " '/content/tem/buffalo/362.jpg',\n",
              " '/content/tem/buffalo/077.jpg',\n",
              " '/content/tem/buffalo/160.txt',\n",
              " '/content/tem/buffalo/360.txt',\n",
              " '/content/tem/buffalo/072.txt',\n",
              " '/content/tem/buffalo/032.jpg',\n",
              " '/content/tem/buffalo/293.txt',\n",
              " '/content/tem/buffalo/045.jpg',\n",
              " '/content/tem/buffalo/221.txt',\n",
              " '/content/tem/buffalo/139.txt',\n",
              " ...]"
            ]
          },
          "metadata": {
            "tags": []
          },
          "execution_count": 16
        }
      ]
    },
    {
      "cell_type": "code",
      "metadata": {
        "id": "ENhcQecFTVdb",
        "colab": {
          "base_uri": "https://localhost:8080/"
        },
        "outputId": "556d3b60-c644-47e9-95d1-43e500867a07"
      },
      "source": [
        "#delete all files inside /temp/\n",
        "!rm -rf /content/tem/temp/\n",
        "!rmdir /content/tem/temp\n",
        "for file in os.listdir('/content/'):\n",
        "  if file!=\"tem\":\n",
        "    loc=\"/content/\"+file\n",
        "    !mv $file /content/tem/"
      ],
      "execution_count": 17,
      "outputs": [
        {
          "output_type": "stream",
          "text": [
            "rmdir: failed to remove '/content/tem/temp': No such file or directory\n",
            "mv: cannot move 'hippopotamus' to '/content/tem/hippopotamus': Directory not empty\n",
            "mv: cannot move 'rhino' to '/content/tem/rhino': Directory not empty\n",
            "mv: cannot move 'cow' to '/content/tem/cow': Directory not empty\n",
            "mv: cannot move 'zebra' to '/content/tem/zebra': Directory not empty\n",
            "mv: cannot move 'moose' to '/content/tem/moose': Directory not empty\n",
            "mv: cannot move 'walrus' to '/content/tem/walrus': Directory not empty\n",
            "mv: cannot move 'goat' to '/content/tem/goat': Directory not empty\n",
            "mv: cannot move 'elephant' to '/content/tem/elephant': Directory not empty\n",
            "mv: cannot move 'wolf' to '/content/tem/wolf': Directory not empty\n",
            "mv: cannot move 'horse' to '/content/tem/horse': Directory not empty\n"
          ],
          "name": "stdout"
        }
      ]
    },
    {
      "cell_type": "code",
      "metadata": {
        "id": "wwwTa9DksHLM"
      },
      "source": [
        "#remove unneccessary files\n",
        "for file in os.listdir('/content/'):\n",
        "  if file!=\"tem\":\n",
        "    loc=\"/content/\"+file\n",
        "    !rm -rf $file"
      ],
      "execution_count": 18,
      "outputs": []
    },
    {
      "cell_type": "code",
      "metadata": {
        "id": "wRcO0DshTVdb"
      },
      "source": [
        "!mv tem data"
      ],
      "execution_count": 19,
      "outputs": []
    },
    {
      "cell_type": "code",
      "metadata": {
        "id": "8NZtJBEYTVdb",
        "colab": {
          "base_uri": "https://localhost:8080/"
        },
        "outputId": "1165bcec-3691-45e5-8a3f-8fc1213eb892"
      },
      "source": [
        "# Worked over all the redundancy from data.\n",
        "!cd data\n",
        "!mv /content/data/bobcat/* /content/data/cat/;mv /content/data/cats/* /content/data/cat/;mv /content/data/persian+cat/* /content/data/cat/;\n",
        "!mv /content/data/siamese+cat/* /content/data/cat/;rm -rf /content/data/bobcat/;rm -rf /content/data/cats;rm -rf /content/data/siamese+cat/;\n",
        "!rm -rf /content/data/persian+cat/;mv /content/data/dogs/* /content/data/dog;rmdir /content/data/dogs;mv /content/data/spider+monkey/* /content/data/monkey;\n",
        "!rmdir /content/data/spider+monkey;mv /content/data/german+shepherd/* /content/data/dog/;rmdir /content/data/german+shepherd;mv /content/data/grizzly+bear/* /content/data/bear/;\n",
        "!rmdir /content/data/grizzly+bear;mv /content/data/rhino/* /content/data/rhinoceros/;rmdir /content/data/rhino;rm -rf /content/data/hen;\n",
        "!rm -rf /content/data/butterfly;rm -rf /content/data/spyder;rm -rf /content/data/meta-data/meta-data/; rmdir /content/data/meta-data/meta-data;rmdir /content/data/meta-data;\n",
        "!cd ..  "
      ],
      "execution_count": 20,
      "outputs": [
        {
          "output_type": "stream",
          "text": [
            "rmdir: failed to remove '/content/data/meta-data/meta-data': No such file or directory\n"
          ],
          "name": "stdout"
        }
      ]
    },
    {
      "cell_type": "code",
      "metadata": {
        "id": "PnF398jD0NRj",
        "colab": {
          "base_uri": "https://localhost:8080/"
        },
        "outputId": "53ff042c-a59b-4d32-cc2e-c15e68438bb9"
      },
      "source": [
        "#dropping some data:\n",
        "!rm -rf /content/data/antelope/* \n",
        "!rmdir /content/data/antelope\n",
        "!rm -rf /content/data/beaver/*\n",
        "!rmdir /content/data/beaver\n",
        "!rm -rf /content/data/chihuahua/*\n",
        "!rmdir /content/data/chihuahua/\n",
        "!rm -rf /content/data/collie/*\n",
        "!rmdir /content/data/collie\n",
        "!rm -rf /content/data/dalmatian/*\n",
        "!rmdir /content/data/dalmatian\n",
        "!rm -rf /content/data/killer+whale/*\n",
        "!rmdir /content/data/killer+whale\n",
        "!rm -rf /content/data/meerkat/*\n",
        "!rmdir /content/data/meerkat\n",
        "!rm -rf /content/data/mole/*\n",
        "!rmdir /content/data/mole\n",
        "!rm -rf /content/data/mouse/*\n",
        "!rmdir /content/data/mouse\n",
        "!rm -rf /content/data/otter/*\n",
        "!rmdir /content/data/otter\n",
        "!rm -rf /content/data/ox/*\n",
        "!rmdir /content/data/ox\n",
        "!rm -rf /content/data/porcupine/*\n",
        "!rmdir /content/data/porcupine\n",
        "!rm -rf /content/data/rat/*\n",
        "!rmdir /content/data/rat\n",
        "!rm -rf /content/data/seal/*\n",
        "!rmdir /content/data/seal/\n",
        "!rm -rf /content/data/squirel/*\n",
        "!rmdir /content/data/squirel\n",
        "!rm -rf /content/data/squirrel/*\n",
        "!rmdir /content/data/squirrel/\n",
        "!rm -rf /content/data/weasel/*\n",
        "!rmdir /content/data/weasel\n",
        "!rm -rf /content/data/rabbit/*\n",
        "!rmdir /content/data/rabbit\n",
        "!rm -rf /content/data/crocodiles/*\n",
        "!rmdir /content/data/crocodiles\n",
        "!rm -rf /content/data/goat/*\n",
        "!rmdir /content/data/goat\n",
        "!rm -rf /content/data/ostrich/*\n",
        "!rmdir /content/data/ostrich\n",
        "!rm -rf /content/data/wolf/*\n",
        "!rmdir /content/data/wolf\n"
      ],
      "execution_count": 22,
      "outputs": [
        {
          "output_type": "stream",
          "text": [
            "rmdir: failed to remove '/content/data/antelope': No such file or directory\n",
            "rmdir: failed to remove '/content/data/beaver': No such file or directory\n",
            "rmdir: failed to remove '/content/data/chihuahua/': No such file or directory\n",
            "rmdir: failed to remove '/content/data/collie': No such file or directory\n",
            "rmdir: failed to remove '/content/data/dalmatian': No such file or directory\n",
            "rmdir: failed to remove '/content/data/killer+whale': No such file or directory\n",
            "rmdir: failed to remove '/content/data/meerkat': No such file or directory\n",
            "rmdir: failed to remove '/content/data/mole': No such file or directory\n",
            "rmdir: failed to remove '/content/data/mouse': No such file or directory\n",
            "rmdir: failed to remove '/content/data/otter': No such file or directory\n",
            "rmdir: failed to remove '/content/data/ox': No such file or directory\n",
            "rmdir: failed to remove '/content/data/porcupine': No such file or directory\n",
            "rmdir: failed to remove '/content/data/rat': No such file or directory\n",
            "rmdir: failed to remove '/content/data/seal/': No such file or directory\n",
            "rmdir: failed to remove '/content/data/squirel': No such file or directory\n",
            "rmdir: failed to remove '/content/data/squirrel/': No such file or directory\n",
            "rmdir: failed to remove '/content/data/weasel': No such file or directory\n",
            "rmdir: failed to remove '/content/data/rabbit': No such file or directory\n",
            "rmdir: failed to remove '/content/data/crocodiles': Directory not empty\n",
            "rmdir: failed to remove '/content/data/goat': No such file or directory\n",
            "rmdir: failed to remove '/content/data/ostrich': No such file or directory\n",
            "rmdir: failed to remove '/content/data/wolf': No such file or directory\n"
          ],
          "name": "stdout"
        }
      ]
    },
    {
      "cell_type": "code",
      "metadata": {
        "id": "f96SUFpnYYZH"
      },
      "source": [
        ""
      ],
      "execution_count": 24,
      "outputs": []
    },
    {
      "cell_type": "code",
      "metadata": {
        "id": "gxvcL5JATVdb"
      },
      "source": [
        "#create test data set\n",
        "os.mkdir(\"test_data\")"
      ],
      "execution_count": 25,
      "outputs": []
    },
    {
      "cell_type": "code",
      "metadata": {
        "id": "VysCyJXOTVdb"
      },
      "source": [
        "# make dirctories inside test_data with same name as of data\n",
        "data_path='/content/data/'\n",
        "test_path='/content/test_data/'\n",
        "for name in os.listdir(data_path):\n",
        "    os.mkdir(test_path+name)"
      ],
      "execution_count": 26,
      "outputs": []
    },
    {
      "cell_type": "code",
      "metadata": {
        "id": "UREwRNnCrvy6"
      },
      "source": [
        "mv data train_data"
      ],
      "execution_count": 27,
      "outputs": []
    },
    {
      "cell_type": "code",
      "metadata": {
        "id": "4EoyXOb303iv",
        "colab": {
          "base_uri": "https://localhost:8080/"
        },
        "outputId": "f40e6e71-2791-463e-ff3f-f7a4542838c4"
      },
      "source": [
        "!rm -rf /content/train_data/train_data/data/*\n",
        "!rmdir /content/train_data/train_data/data\n",
        "!rmdir /content/train_data/train_data\n",
        "\n",
        "!rm -rf /content/test_data/train_data/data/*\n",
        "!rmdir /content/test_data/train_data/data\n",
        "!rmdir /content/test_data/train_data\n",
        "\n",
        "!rm -rf /content/train_data/cat/dog/\n",
        "!rmdir /content/train_data/cat/dog\n",
        "!rm -rf /content/train_data/dog/dog/\n",
        "!rmdir /content/train_data/dog/dog\n",
        "\n",
        "!mv /content/train_data/cow/cow/* /content/train_data/cow/\n",
        "!mv /content/train_data/elephant/elephant/* /content/train_data/elephant/\n",
        "#!mv /content/train_data/goat/goat/* /content/train_data/goat/\n",
        "!mv /content/train_data/horse/horse/* /content/train_data/horse/\n",
        "\n",
        "!rmdir /content/train_data/cow/cow\n",
        "!rmdir /content/train_data/elephant/elephant\n",
        "#!rmdir /content/train_data/goat/goat\n",
        "!rmdir /content/train_data/horse/horse\n",
        "\n",
        "!rm -rf /content/train_data/.config/\n",
        "!rmdir /content/train_data/.config/"
      ],
      "execution_count": 28,
      "outputs": [
        {
          "output_type": "stream",
          "text": [
            "rmdir: failed to remove '/content/test_data/train_data/data': No such file or directory\n",
            "rmdir: failed to remove '/content/train_data/cat/dog': No such file or directory\n",
            "rmdir: failed to remove '/content/train_data/dog/dog': No such file or directory\n",
            "rmdir: failed to remove '/content/train_data/.config/': No such file or directory\n"
          ],
          "name": "stdout"
        }
      ]
    },
    {
      "cell_type": "code",
      "metadata": {
        "id": "300GG7lQ6G8h",
        "colab": {
          "base_uri": "https://localhost:8080/"
        },
        "outputId": "2161ecd7-65a5-4139-81de-a5da42a22d31"
      },
      "source": [
        "#remove all extra images from each file\n",
        "path='/content/train_data/'\n",
        "total_images=0\n",
        "for file in os.listdir(path):\n",
        "  size=len(os.listdir(path+file+'/'))\n",
        "  if size>1000:\n",
        "    c=1\n",
        "    while size>1000:\n",
        "      images=os.listdir(path+file+'/')\n",
        "      os.remove(path+file+'/'+images[0])\n",
        "      size=len(os.listdir(path+file+'/'))\n",
        "  total_images+=size\n",
        "  print(file,size)\n",
        "print(\"Total images are : \",total_images)\n",
        "\n"
      ],
      "execution_count": 29,
      "outputs": [
        {
          "output_type": "stream",
          "text": [
            "monkey 1000\n",
            "buffalo 752\n",
            "tiger 721\n",
            "bat 256\n",
            "rhinoceros 1000\n",
            "hippopotamus 464\n",
            "cow 1000\n",
            "lion 806\n",
            "panda 846\n",
            "cat 1000\n",
            "snake 874\n",
            "zebra 752\n",
            "moose 476\n",
            "kangaroo 832\n",
            "cheetah 829\n",
            "walrus 148\n",
            "tortoise 819\n",
            "elephant 1000\n",
            "bear 1000\n",
            "penguins 814\n",
            "raccoon 346\n",
            "chimpanzee 477\n",
            "giraffe 866\n",
            "horse 1000\n",
            "dog 1000\n",
            "deer 920\n",
            "Total images are :  19998\n"
          ],
          "name": "stdout"
        }
      ]
    },
    {
      "cell_type": "code",
      "metadata": {
        "id": "COXyLXJKTVdb",
        "colab": {
          "base_uri": "https://localhost:8080/"
        },
        "outputId": "d5b63400-f26b-43d7-d5b5-0bc456969492"
      },
      "source": [
        "# create test_data by taking 25% images from data\n",
        "\n",
        "total_train_images,total_test_images,total_train_classes,total_test_classes=0,0,0,0\n",
        "path=\"/content/train_data/\"\n",
        "for file in os.listdir(path):\n",
        "    if \"notebook\" not in file:\n",
        "        total_train_classes+=1\n",
        "        total_images=len(os.listdir(path+file+\"/\"))\n",
        "        test_image_count=(25/100)*total_images #25% for test and 75% for train\n",
        "        for i in range(math.ceil(test_image_count)):\n",
        "            img=random.choice(os.listdir(path+file+'/'))\n",
        "            shutil.move(path+file+'/'+img,'/content/test_data/'+file+'/')\n",
        "            #print(img)\n",
        "        print(file,total_images,math.ceil(test_image_count))\n",
        "        total_train_images+=(total_images-math.ceil(test_image_count))\n",
        "        #print(file,math.ceil(test_image_count))\n",
        "print(\"total train images are : \",total_train_images,\" and total train classes are : \",total_train_classes)"
      ],
      "execution_count": 30,
      "outputs": [
        {
          "output_type": "stream",
          "text": [
            "monkey 1000 250\n",
            "buffalo 752 188\n",
            "tiger 721 181\n",
            "bat 256 64\n",
            "rhinoceros 1000 250\n",
            "hippopotamus 464 116\n",
            "cow 1000 250\n",
            "lion 806 202\n",
            "panda 846 212\n",
            "cat 1000 250\n",
            "snake 874 219\n",
            "zebra 752 188\n",
            "moose 476 119\n",
            "kangaroo 832 208\n",
            "cheetah 829 208\n",
            "walrus 148 37\n",
            "tortoise 819 205\n",
            "elephant 1000 250\n",
            "bear 1000 250\n",
            "penguins 814 204\n",
            "raccoon 346 87\n",
            "chimpanzee 477 120\n",
            "giraffe 866 217\n",
            "horse 1000 250\n",
            "dog 1000 250\n",
            "deer 920 230\n",
            "total train images are :  14993  and total train classes are :  26\n"
          ],
          "name": "stdout"
        }
      ]
    },
    {
      "cell_type": "markdown",
      "metadata": {
        "id": "60nQyhnlTVdc"
      },
      "source": [
        "## Task 3: Image Augmentation"
      ]
    },
    {
      "cell_type": "code",
      "metadata": {
        "id": "a6KDDyhmTVdc",
        "colab": {
          "base_uri": "https://localhost:8080/"
        },
        "outputId": "ca60beb2-6007-4568-bfca-bc30f054881a"
      },
      "source": [
        "#url : https://keras.io/api/preprocessing/image/ \n",
        "train_datagen = ImageDataGenerator(\n",
        "        rescale=1./255,\n",
        "        shear_range=0.2,\n",
        "        zoom_range=0.2,\n",
        "        horizontal_flip=True)\n",
        "test_datagen = ImageDataGenerator(rescale=1./255)\n",
        "training_set = train_datagen.flow_from_directory(\n",
        "        '/content/train_data/',\n",
        "        target_size=(32,32),\n",
        "        color_mode=\"grayscale\",\n",
        "        batch_size=64,\n",
        "        class_mode='categorical')\n",
        "test_set = test_datagen.flow_from_directory(\n",
        "        '/content/test_data/',\n",
        "        target_size=(32,32),\n",
        "        color_mode=\"grayscale\",\n",
        "        batch_size=64,\n",
        "        class_mode='categorical')"
      ],
      "execution_count": 31,
      "outputs": [
        {
          "output_type": "stream",
          "text": [
            "Found 14079 images belonging to 26 classes.\n",
            "Found 4689 images belonging to 26 classes.\n"
          ],
          "name": "stdout"
        }
      ]
    },
    {
      "cell_type": "code",
      "metadata": {
        "id": "H_57kEChTVdc",
        "colab": {
          "base_uri": "https://localhost:8080/"
        },
        "outputId": "0b0fe04e-d29b-4e29-fd50-7c90c286846b"
      },
      "source": [
        "training_set.class_indices # to see classes of our dataset"
      ],
      "execution_count": 32,
      "outputs": [
        {
          "output_type": "execute_result",
          "data": {
            "text/plain": [
              "{'bat': 0,\n",
              " 'bear': 1,\n",
              " 'buffalo': 2,\n",
              " 'cat': 3,\n",
              " 'cheetah': 4,\n",
              " 'chimpanzee': 5,\n",
              " 'cow': 6,\n",
              " 'deer': 7,\n",
              " 'dog': 8,\n",
              " 'elephant': 9,\n",
              " 'giraffe': 10,\n",
              " 'hippopotamus': 11,\n",
              " 'horse': 12,\n",
              " 'kangaroo': 13,\n",
              " 'lion': 14,\n",
              " 'monkey': 15,\n",
              " 'moose': 16,\n",
              " 'panda': 17,\n",
              " 'penguins': 18,\n",
              " 'raccoon': 19,\n",
              " 'rhinoceros': 20,\n",
              " 'snake': 21,\n",
              " 'tiger': 22,\n",
              " 'tortoise': 23,\n",
              " 'walrus': 24,\n",
              " 'zebra': 25}"
            ]
          },
          "metadata": {
            "tags": []
          },
          "execution_count": 32
        }
      ]
    },
    {
      "cell_type": "markdown",
      "metadata": {
        "id": "ZBNhp3loTVdb"
      },
      "source": [
        "## Task 4: Model Creation"
      ]
    },
    {
      "cell_type": "code",
      "metadata": {
        "id": "f8j-Tg8nTVdb"
      },
      "source": [
        "#creating an instance of Sequence which is as model\n",
        "model = Sequential()"
      ],
      "execution_count": 33,
      "outputs": []
    },
    {
      "cell_type": "code",
      "metadata": {
        "id": "tk28GqY3TVdb"
      },
      "source": [
        "#inputlayer : apply filters\n",
        "model.add(Convolution2D(filters=32, \n",
        "                        kernel_size=(3,3),\n",
        "                        strides=(1,1),\n",
        "                        padding='same', \n",
        "                        activation='relu',\n",
        "                   input_shape=(32, 32, 1)))"
      ],
      "execution_count": 34,
      "outputs": []
    },
    {
      "cell_type": "code",
      "metadata": {
        "id": "JdgVt1AGTVdb"
      },
      "source": [
        "# pooling layer where we are doing maxpooling\n",
        "model.add(MaxPooling2D(pool_size=(2, 2)))"
      ],
      "execution_count": 35,
      "outputs": []
    },
    {
      "cell_type": "code",
      "metadata": {
        "id": "F3dvdKVATVdb"
      },
      "source": [
        "#adding one more convolution layer for better model\n",
        "model.add(Convolution2D(filters=32, \n",
        "                        kernel_size=(3,3),\n",
        "                        strides=(1,1),\n",
        "                        padding='same', \n",
        "                        activation='relu'\n",
        "                      ))"
      ],
      "execution_count": 36,
      "outputs": []
    },
    {
      "cell_type": "code",
      "metadata": {
        "id": "L_EWOO4_TVdb"
      },
      "source": [
        "#adding one more Pooling layer for better model\n",
        "model.add(MaxPooling2D(pool_size=(2, 2)))"
      ],
      "execution_count": 37,
      "outputs": []
    },
    {
      "cell_type": "code",
      "metadata": {
        "id": "rAOM-Z4SkvxI"
      },
      "source": [
        "#dropout regularlization\n",
        "model.add(Dropout(0.5))"
      ],
      "execution_count": 38,
      "outputs": []
    },
    {
      "cell_type": "code",
      "metadata": {
        "id": "tA6KLdxGTVdb"
      },
      "source": [
        "#layer in which we are converting 2d/3d image to 1d image i.e flattening\n",
        "model.add(Flatten())"
      ],
      "execution_count": 39,
      "outputs": []
    },
    {
      "cell_type": "code",
      "metadata": {
        "id": "k8dS0R9WTVdc"
      },
      "source": [
        "# layer: appling relu to give positive output from here our hidden layerrs starts\n",
        "model.add(Dense(units=80, activation='relu'))"
      ],
      "execution_count": 40,
      "outputs": []
    },
    {
      "cell_type": "code",
      "metadata": {
        "id": "ljwbOVJUlLjw"
      },
      "source": [
        "#dropout regularlization\n",
        "model.add(Dropout(0.5))"
      ],
      "execution_count": 41,
      "outputs": []
    },
    {
      "cell_type": "code",
      "metadata": {
        "id": "zhVeaTXfTVdc"
      },
      "source": [
        "# output layer : Since we have to do multi-class classification so we'll apply softmax activation function \n",
        "# we have 26 classes of animals so output layer would have that many neurons.\n",
        "model.add(Dense(units=26, activation='softmax'))"
      ],
      "execution_count": 42,
      "outputs": []
    },
    {
      "cell_type": "code",
      "metadata": {
        "id": "jir90DtbTVdc"
      },
      "source": [
        "model.compile(optimizer='adam', loss='categorical_crossentropy', metrics=['accuracy'])"
      ],
      "execution_count": 43,
      "outputs": []
    },
    {
      "cell_type": "code",
      "metadata": {
        "id": "Ex886ryATVdc",
        "colab": {
          "base_uri": "https://localhost:8080/"
        },
        "outputId": "5a7ffde9-5801-4055-993f-fba9ce511260"
      },
      "source": [
        "model.summary()"
      ],
      "execution_count": 44,
      "outputs": [
        {
          "output_type": "stream",
          "text": [
            "Model: \"sequential\"\n",
            "_________________________________________________________________\n",
            "Layer (type)                 Output Shape              Param #   \n",
            "=================================================================\n",
            "conv2d (Conv2D)              (None, 32, 32, 32)        320       \n",
            "_________________________________________________________________\n",
            "max_pooling2d (MaxPooling2D) (None, 16, 16, 32)        0         \n",
            "_________________________________________________________________\n",
            "conv2d_1 (Conv2D)            (None, 16, 16, 32)        9248      \n",
            "_________________________________________________________________\n",
            "max_pooling2d_1 (MaxPooling2 (None, 8, 8, 32)          0         \n",
            "_________________________________________________________________\n",
            "dropout (Dropout)            (None, 8, 8, 32)          0         \n",
            "_________________________________________________________________\n",
            "flatten (Flatten)            (None, 2048)              0         \n",
            "_________________________________________________________________\n",
            "dense (Dense)                (None, 80)                163920    \n",
            "_________________________________________________________________\n",
            "dropout_1 (Dropout)          (None, 80)                0         \n",
            "_________________________________________________________________\n",
            "dense_1 (Dense)              (None, 26)                2106      \n",
            "=================================================================\n",
            "Total params: 175,594\n",
            "Trainable params: 175,594\n",
            "Non-trainable params: 0\n",
            "_________________________________________________________________\n"
          ],
          "name": "stdout"
        }
      ]
    },
    {
      "cell_type": "markdown",
      "metadata": {
        "id": "txX70wuOTVdd"
      },
      "source": [
        "## Task 5: Model Training"
      ]
    },
    {
      "cell_type": "code",
      "metadata": {
        "id": "G64XbPI_TVde",
        "colab": {
          "base_uri": "https://localhost:8080/"
        },
        "outputId": "e8cf1499-a326-4be9-c6fd-db81fae06304"
      },
      "source": [
        "history = model.fit(\n",
        "        training_set,\n",
        "        steps_per_epoch=(14079/64),\n",
        "        epochs=200,\n",
        "        verbose=1,\n",
        "        validation_data=test_set,\n",
        "        validation_steps=(4689/64))\n",
        "#Total images in train_data = 14079     \n",
        "#Total images in test_data = 4689     \n",
        "#epoch=200"
      ],
      "execution_count": null,
      "outputs": [
        {
          "output_type": "stream",
          "text": [
            "Epoch 1/200\n",
            "220/219 [==============================] - ETA: 0s - loss: 3.1811 - accuracy: 0.0653"
          ],
          "name": "stdout"
        },
        {
          "output_type": "stream",
          "text": [
            "/usr/local/lib/python3.6/dist-packages/PIL/TiffImagePlugin.py:788: UserWarning: Corrupt EXIF data.  Expecting to read 4 bytes but only got 0. \n",
            "  warnings.warn(str(msg))\n"
          ],
          "name": "stderr"
        },
        {
          "output_type": "stream",
          "text": [
            "\b\b\b\b\b\b\b\b\b\b\b\b\b\b\b\b\b\b\b\b\b\b\b\b\b\b\b\b\b\b\b\b\b\b\b\b\b\b\b\b\b\b\b\b\b\b\b\b\b\b\b\b\b\b\b\b\b\b\b\b\b\b\b\b\b\b\b\b\b\b\b\b\b\b\b\b\b\b\b\b\b\b\b\b\r220/219 [==============================] - 207s 939ms/step - loss: 3.1811 - accuracy: 0.0653 - val_loss: 3.0788 - val_accuracy: 0.1064\n",
            "Epoch 2/200\n",
            "220/219 [==============================] - 178s 809ms/step - loss: 3.0485 - accuracy: 0.1141 - val_loss: 2.9706 - val_accuracy: 0.1284\n",
            "Epoch 3/200\n",
            "220/219 [==============================] - 177s 804ms/step - loss: 2.9469 - accuracy: 0.1378 - val_loss: 2.8282 - val_accuracy: 0.1917\n",
            "Epoch 4/200\n",
            "220/219 [==============================] - 180s 818ms/step - loss: 2.8823 - accuracy: 0.1578 - val_loss: 2.7852 - val_accuracy: 0.1915\n",
            "Epoch 5/200\n",
            "220/219 [==============================] - 181s 823ms/step - loss: 2.8341 - accuracy: 0.1742 - val_loss: 2.7099 - val_accuracy: 0.2105\n",
            "Epoch 6/200\n",
            "220/219 [==============================] - 181s 821ms/step - loss: 2.7994 - accuracy: 0.1857 - val_loss: 2.6820 - val_accuracy: 0.2246\n",
            "Epoch 7/200\n",
            "220/219 [==============================] - 179s 815ms/step - loss: 2.7669 - accuracy: 0.1885 - val_loss: 2.6805 - val_accuracy: 0.2128\n",
            "Epoch 8/200\n",
            "220/219 [==============================] - 178s 810ms/step - loss: 2.7449 - accuracy: 0.1952 - val_loss: 2.5956 - val_accuracy: 0.2331\n",
            "Epoch 9/200\n",
            "220/219 [==============================] - 177s 805ms/step - loss: 2.7083 - accuracy: 0.2070 - val_loss: 2.6140 - val_accuracy: 0.2288\n",
            "Epoch 10/200\n",
            "220/219 [==============================] - 178s 811ms/step - loss: 2.6979 - accuracy: 0.2078 - val_loss: 2.6401 - val_accuracy: 0.2167\n",
            "Epoch 11/200\n",
            "220/219 [==============================] - 179s 811ms/step - loss: 2.6769 - accuracy: 0.2146 - val_loss: 2.5772 - val_accuracy: 0.2316\n",
            "Epoch 12/200\n",
            "220/219 [==============================] - 177s 806ms/step - loss: 2.6683 - accuracy: 0.2159 - val_loss: 2.5499 - val_accuracy: 0.2459\n",
            "Epoch 13/200\n",
            "220/219 [==============================] - 178s 809ms/step - loss: 2.6626 - accuracy: 0.2182 - val_loss: 2.6173 - val_accuracy: 0.2267\n",
            "Epoch 14/200\n",
            "220/219 [==============================] - 177s 806ms/step - loss: 2.6327 - accuracy: 0.2251 - val_loss: 2.5860 - val_accuracy: 0.2384\n",
            "Epoch 15/200\n",
            "220/219 [==============================] - 178s 811ms/step - loss: 2.6217 - accuracy: 0.2249 - val_loss: 2.5686 - val_accuracy: 0.2461\n",
            "Epoch 16/200\n",
            "220/219 [==============================] - 178s 808ms/step - loss: 2.6257 - accuracy: 0.2286 - val_loss: 2.5785 - val_accuracy: 0.2357\n",
            "Epoch 17/200\n",
            "220/219 [==============================] - 179s 814ms/step - loss: 2.6088 - accuracy: 0.2287 - val_loss: 2.5056 - val_accuracy: 0.2587\n",
            "Epoch 18/200\n",
            "220/219 [==============================] - 178s 809ms/step - loss: 2.6060 - accuracy: 0.2308 - val_loss: 2.5488 - val_accuracy: 0.2408\n",
            "Epoch 19/200\n",
            "220/219 [==============================] - 177s 804ms/step - loss: 2.6013 - accuracy: 0.2324 - val_loss: 2.6747 - val_accuracy: 0.2111\n",
            "Epoch 20/200\n",
            "220/219 [==============================] - 177s 807ms/step - loss: 2.5926 - accuracy: 0.2345 - val_loss: 2.5263 - val_accuracy: 0.2585\n",
            "Epoch 21/200\n",
            "220/219 [==============================] - 177s 806ms/step - loss: 2.5832 - accuracy: 0.2386 - val_loss: 2.5314 - val_accuracy: 0.2557\n",
            "Epoch 22/200\n",
            "220/219 [==============================] - 180s 820ms/step - loss: 2.5843 - accuracy: 0.2367 - val_loss: 2.5557 - val_accuracy: 0.2438\n",
            "Epoch 23/200\n",
            "220/219 [==============================] - 177s 805ms/step - loss: 2.5620 - accuracy: 0.2394 - val_loss: 2.4806 - val_accuracy: 0.2689\n",
            "Epoch 24/200\n",
            "220/219 [==============================] - 178s 808ms/step - loss: 2.5721 - accuracy: 0.2384 - val_loss: 2.5007 - val_accuracy: 0.2598\n",
            "Epoch 25/200\n",
            "220/219 [==============================] - 178s 807ms/step - loss: 2.5636 - accuracy: 0.2382 - val_loss: 2.5885 - val_accuracy: 0.2363\n",
            "Epoch 26/200\n",
            "220/219 [==============================] - 177s 805ms/step - loss: 2.5546 - accuracy: 0.2441 - val_loss: 2.4727 - val_accuracy: 0.2785\n",
            "Epoch 27/200\n",
            "220/219 [==============================] - 178s 807ms/step - loss: 2.5626 - accuracy: 0.2422 - val_loss: 2.5199 - val_accuracy: 0.2536\n",
            "Epoch 28/200\n",
            "220/219 [==============================] - 178s 809ms/step - loss: 2.5502 - accuracy: 0.2448 - val_loss: 2.4556 - val_accuracy: 0.2745\n",
            "Epoch 29/200\n",
            "220/219 [==============================] - 178s 807ms/step - loss: 2.5342 - accuracy: 0.2491 - val_loss: 2.5436 - val_accuracy: 0.2521\n",
            "Epoch 30/200\n",
            "220/219 [==============================] - 178s 807ms/step - loss: 2.5285 - accuracy: 0.2531 - val_loss: 2.4664 - val_accuracy: 0.2721\n",
            "Epoch 31/200\n",
            "220/219 [==============================] - 180s 816ms/step - loss: 2.5296 - accuracy: 0.2518 - val_loss: 2.5770 - val_accuracy: 0.2433\n",
            "Epoch 32/200\n",
            "220/219 [==============================] - 178s 810ms/step - loss: 2.5335 - accuracy: 0.2506 - val_loss: 2.4584 - val_accuracy: 0.2753\n",
            "Epoch 33/200\n",
            "220/219 [==============================] - 180s 816ms/step - loss: 2.5184 - accuracy: 0.2504 - val_loss: 2.4647 - val_accuracy: 0.2753\n",
            "Epoch 34/200\n",
            "220/219 [==============================] - 181s 822ms/step - loss: 2.5338 - accuracy: 0.2498 - val_loss: 2.4728 - val_accuracy: 0.2783\n",
            "Epoch 35/200\n",
            "220/219 [==============================] - ETA: 0s - loss: 2.5058 - accuracy: 0.2525"
          ],
          "name": "stdout"
        }
      ]
    },
    {
      "cell_type": "markdown",
      "metadata": {
        "id": "aC0FVyKuTVde"
      },
      "source": [
        "## Task 6: Accuracy"
      ]
    },
    {
      "cell_type": "code",
      "metadata": {
        "id": "Wu9M-AaRTVde"
      },
      "source": [
        "finalAccuracy = history.history[\"accuracy\"]\n",
        "finalAccuracy"
      ],
      "execution_count": null,
      "outputs": []
    },
    {
      "cell_type": "code",
      "metadata": {
        "id": "71kS8wPLw7rV"
      },
      "source": [
        "val_accuracy = history.history['val_accuracy']\n",
        "val_accuracy"
      ],
      "execution_count": null,
      "outputs": []
    },
    {
      "cell_type": "code",
      "metadata": {
        "id": "3EEVE0LkXJku"
      },
      "source": [
        "finalloss = history.history[\"loss\"]\n",
        "finalloss"
      ],
      "execution_count": null,
      "outputs": []
    },
    {
      "cell_type": "code",
      "metadata": {
        "id": "y8ZydUtaXJpa"
      },
      "source": [
        "finalval_loss = history.history[\"val_loss\"]\n",
        "finalval_loss"
      ],
      "execution_count": null,
      "outputs": []
    },
    {
      "cell_type": "code",
      "metadata": {
        "id": "MmNM9U4tTVde"
      },
      "source": [
        "#Graphing our training and validation\n",
        "accuracy = history.history['accuracy']\n",
        "val_accuracy = history.history['val_accuracy']\n",
        "loss = history.history['loss']\n",
        "val_loss = history.history['val_loss']\n",
        "epochs = range(len(accuracy))\n",
        "plt.plot(epochs, accuracy, 'r', label='Training acc')\n",
        "plt.plot(epochs, val_accuracy, 'b', label='Validation acc')\n",
        "plt.title('Training and validation accuracy')\n",
        "plt.ylabel('accuracy') \n",
        "plt.xlabel('epoch')\n",
        "plt.legend()\n",
        "plt.figure()\n",
        "plt.plot(epochs, loss, 'r', label='Training loss')\n",
        "plt.plot(epochs, val_loss, 'b', label='Validation loss')\n",
        "plt.title('Training and validation loss')\n",
        "plt.ylabel('loss') \n",
        "plt.xlabel('epoch')\n",
        "plt.legend()\n",
        "plt.show()"
      ],
      "execution_count": null,
      "outputs": []
    },
    {
      "cell_type": "code",
      "metadata": {
        "id": "aFmVvSjkTVde"
      },
      "source": [
        "model.save(\"iwildcam_model.h5\")#save model"
      ],
      "execution_count": null,
      "outputs": []
    },
    {
      "cell_type": "code",
      "metadata": {
        "id": "yjS9Ur54TVde"
      },
      "source": [
        "from keras.preprocessing import image\n",
        "test_image = image.load_img(\"/content/train_data/zebra/zebra102.jpg\",target_size=(64,64),color_mode='grayscale')\n",
        "test_image \n"
      ],
      "execution_count": null,
      "outputs": []
    },
    {
      "cell_type": "code",
      "metadata": {
        "id": "V5BuM2-yTVde"
      },
      "source": [
        "test_image = image.img_to_array(test_image)\n",
        "test_image = np.expand_dims(test_image,axis=0)\n"
      ],
      "execution_count": null,
      "outputs": []
    },
    {
      "cell_type": "code",
      "metadata": {
        "id": "kjgQKYmLcbKr"
      },
      "source": [
        "test_image.shape"
      ],
      "execution_count": null,
      "outputs": []
    },
    {
      "cell_type": "code",
      "metadata": {
        "id": "38j_lDVPTVde"
      },
      "source": [
        "result = model.predict(test_image)\n",
        "\n",
        "my_dict=training_set.class_indices\n",
        "def get_key(val): \n",
        "    for key, value in my_dict.items(): \n",
        "         if val == value: \n",
        "             return key \n",
        "  \n",
        "    return \"key doesn't exist\"\n",
        "\n",
        "pred=list(result[0])\n",
        "for i in range(len(pred)):\n",
        "    if pred[i]!=0:\n",
        "        print(get_key(i))"
      ],
      "execution_count": null,
      "outputs": []
    },
    {
      "cell_type": "code",
      "metadata": {
        "id": "cN9vlDbQTVde"
      },
      "source": [
        ""
      ],
      "execution_count": null,
      "outputs": []
    }
  ]
}