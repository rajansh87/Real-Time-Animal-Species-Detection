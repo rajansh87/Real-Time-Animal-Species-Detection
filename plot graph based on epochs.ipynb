{
 "cells": [
  {
   "cell_type": "code",
   "execution_count": 22,
   "metadata": {},
   "outputs": [],
   "source": [
    "import matplotlib.pyplot as plt"
   ]
  },
  {
   "cell_type": "code",
   "execution_count": 23,
   "metadata": {},
   "outputs": [],
   "source": [
    "s=\"\"\"Epoch 1/400\n",
    "288/287 [==============================] - 209s 726ms/step - loss: 3.3314 - accuracy: 0.0637 - val_loss: 3.2171 - val_accuracy: 0.1056\n",
    "Epoch 2/400\n",
    "288/287 [==============================] - 180s 626ms/step - loss: 3.1781 - accuracy: 0.1112 - val_loss: 3.0561 - val_accuracy: 0.1435\n",
    "Epoch 3/400\n",
    "288/287 [==============================] - 176s 612ms/step - loss: 3.0905 - accuracy: 0.1328 - val_loss: 3.0052 - val_accuracy: 0.1523\n",
    "Epoch 4/400\n",
    "288/287 [==============================] - 176s 610ms/step - loss: 3.0323 - accuracy: 0.1422 - val_loss: 2.8883 - val_accuracy: 0.1866\n",
    "Epoch 5/400\n",
    "288/287 [==============================] - 175s 608ms/step - loss: 2.9942 - accuracy: 0.1526 - val_loss: 2.8728 - val_accuracy: 0.1957\n",
    "Epoch 6/400\n",
    "288/287 [==============================] - 176s 610ms/step - loss: 2.9501 - accuracy: 0.1628 - val_loss: 2.8400 - val_accuracy: 0.1980\n",
    "Epoch 7/400\n",
    "288/287 [==============================] - 175s 609ms/step - loss: 2.9283 - accuracy: 0.1738 - val_loss: 2.9154 - val_accuracy: 0.1712\n",
    "Epoch 8/400\n",
    "288/287 [==============================] - 176s 612ms/step - loss: 2.9105 - accuracy: 0.1743 - val_loss: 2.8295 - val_accuracy: 0.1911\n",
    "Epoch 9/400\n",
    "288/287 [==============================] - 177s 613ms/step - loss: 2.8891 - accuracy: 0.1804 - val_loss: 2.7929 - val_accuracy: 0.1991\n",
    "Epoch 10/400\n",
    "288/287 [==============================] - 177s 613ms/step - loss: 2.8704 - accuracy: 0.1859 - val_loss: 2.8232 - val_accuracy: 0.1955\n",
    "Epoch 11/400\n",
    "288/287 [==============================] - 175s 609ms/step - loss: 2.8654 - accuracy: 0.1859 - val_loss: 2.7306 - val_accuracy: 0.2229\n",
    "Epoch 12/400\n",
    "288/287 [==============================] - 174s 606ms/step - loss: 2.8444 - accuracy: 0.1907 - val_loss: 2.8108 - val_accuracy: 0.1970\n",
    "Epoch 13/400\n",
    "288/287 [==============================] - 172s 597ms/step - loss: 2.8413 - accuracy: 0.1872 - val_loss: 2.8327 - val_accuracy: 0.1928\n",
    "Epoch 14/400\n",
    "288/287 [==============================] - 172s 597ms/step - loss: 2.8244 - accuracy: 0.1956 - val_loss: 2.7339 - val_accuracy: 0.2244\n",
    "Epoch 15/400\n",
    "288/287 [==============================] - 172s 596ms/step - loss: 2.8058 - accuracy: 0.1991 - val_loss: 2.7197 - val_accuracy: 0.2221\n",
    "Epoch 16/400\n",
    "288/287 [==============================] - 172s 597ms/step - loss: 2.8097 - accuracy: 0.2010 - val_loss: 2.6751 - val_accuracy: 0.2340\n",
    "Epoch 17/400\n",
    "288/287 [==============================] - 174s 605ms/step - loss: 2.7998 - accuracy: 0.2036 - val_loss: 2.7024 - val_accuracy: 0.2257\n",
    "Epoch 18/400\n",
    "288/287 [==============================] - 176s 610ms/step - loss: 2.7925 - accuracy: 0.2014 - val_loss: 2.7419 - val_accuracy: 0.2194\n",
    "Epoch 19/400\n",
    "288/287 [==============================] - 177s 616ms/step - loss: 2.7757 - accuracy: 0.2048 - val_loss: 2.6641 - val_accuracy: 0.2373\n",
    "Epoch 20/400\n",
    "288/287 [==============================] - 176s 610ms/step - loss: 2.7698 - accuracy: 0.2110 - val_loss: 2.6637 - val_accuracy: 0.2357\n",
    "Epoch 21/400\n",
    "288/287 [==============================] - 175s 609ms/step - loss: 2.7654 - accuracy: 0.2077 - val_loss: 2.6710 - val_accuracy: 0.2347\n",
    "Epoch 22/400\n",
    "288/287 [==============================] - 176s 612ms/step - loss: 2.7556 - accuracy: 0.2141 - val_loss: 2.6765 - val_accuracy: 0.2290\n",
    "Epoch 23/400\n",
    "288/287 [==============================] - 175s 608ms/step - loss: 2.7490 - accuracy: 0.2111 - val_loss: 2.6708 - val_accuracy: 0.2349\n",
    "Epoch 24/400\n",
    "288/287 [==============================] - 175s 609ms/step - loss: 2.7409 - accuracy: 0.2154 - val_loss: 2.6869 - val_accuracy: 0.2285\n",
    "Epoch 25/400\n",
    "288/287 [==============================] - 176s 610ms/step - loss: 2.7469 - accuracy: 0.2130 - val_loss: 2.6227 - val_accuracy: 0.2505\n",
    "Epoch 26/400\n",
    "288/287 [==============================] - 176s 613ms/step - loss: 2.7353 - accuracy: 0.2199 - val_loss: 2.7210 - val_accuracy: 0.2221\n",
    "Epoch 27/400\n",
    "288/287 [==============================] - 176s 611ms/step - loss: 2.7307 - accuracy: 0.2170 - val_loss: 2.6895 - val_accuracy: 0.2256\n",
    "Epoch 28/400\n",
    "288/287 [==============================] - 175s 609ms/step - loss: 2.7196 - accuracy: 0.2214 - val_loss: 2.6881 - val_accuracy: 0.2305\n",
    "Epoch 29/400\n",
    "288/287 [==============================] - 175s 609ms/step - loss: 2.7127 - accuracy: 0.2250 - val_loss: 2.6134 - val_accuracy: 0.2510\n",
    "Epoch 30/400\n",
    "288/287 [==============================] - 175s 606ms/step - loss: 2.7056 - accuracy: 0.2190 - val_loss: 2.6246 - val_accuracy: 0.2463\n",
    "Epoch 31/400\n",
    "288/287 [==============================] - 179s 623ms/step - loss: 2.6975 - accuracy: 0.2257 - val_loss: 2.6046 - val_accuracy: 0.2608\n",
    "Epoch 32/400\n",
    "288/287 [==============================] - 181s 628ms/step - loss: 2.7076 - accuracy: 0.2236 - val_loss: 2.6908 - val_accuracy: 0.2287\n",
    "Epoch 33/400\n",
    "288/287 [==============================] - 185s 641ms/step - loss: 2.6963 - accuracy: 0.2252 - val_loss: 2.6521 - val_accuracy: 0.2391\n",
    "Epoch 34/400\n",
    "288/287 [==============================] - 186s 646ms/step - loss: 2.6856 - accuracy: 0.2256 - val_loss: 2.5991 - val_accuracy: 0.2531\n",
    "Epoch 35/400\n",
    "288/287 [==============================] - 183s 636ms/step - loss: 2.7019 - accuracy: 0.2271 - val_loss: 2.6155 - val_accuracy: 0.2561\n",
    "Epoch 36/400\n",
    "288/287 [==============================] - 184s 640ms/step - loss: 2.6897 - accuracy: 0.2263 - val_loss: 2.5991 - val_accuracy: 0.2606\n",
    "Epoch 37/400\n",
    "288/287 [==============================] - 185s 643ms/step - loss: 2.6878 - accuracy: 0.2315 - val_loss: 2.6029 - val_accuracy: 0.2577\n",
    "Epoch 38/400\n",
    "288/287 [==============================] - 179s 621ms/step - loss: 2.6766 - accuracy: 0.2346 - val_loss: 2.6221 - val_accuracy: 0.2512\n",
    "Epoch 39/400\n",
    "288/287 [==============================] - 182s 634ms/step - loss: 2.6758 - accuracy: 0.2301 - val_loss: 2.6060 - val_accuracy: 0.2567\n",
    "Epoch 40/400\n",
    "288/287 [==============================] - 187s 649ms/step - loss: 2.6772 - accuracy: 0.2312 - val_loss: 2.6142 - val_accuracy: 0.2559\n",
    "Epoch 41/400\n",
    "288/287 [==============================] - 187s 651ms/step - loss: 2.6626 - accuracy: 0.2348 - val_loss: 2.6745 - val_accuracy: 0.2347\n",
    "Epoch 42/400\n",
    "288/287 [==============================] - 186s 646ms/step - loss: 2.6647 - accuracy: 0.2355 - val_loss: 2.6010 - val_accuracy: 0.2579\n",
    "Epoch 43/400\n",
    "288/287 [==============================] - 193s 672ms/step - loss: 2.6601 - accuracy: 0.2366 - val_loss: 2.6324 - val_accuracy: 0.2505\n",
    "Epoch 44/400\n",
    "288/287 [==============================] - 193s 670ms/step - loss: 2.6619 - accuracy: 0.2356 - val_loss: 2.6172 - val_accuracy: 0.2517\n",
    "Epoch 45/400\n",
    "288/287 [==============================] - 189s 656ms/step - loss: 2.6621 - accuracy: 0.2320 - val_loss: 2.6376 - val_accuracy: 0.2465\n",
    "Epoch 46/400\n",
    "288/287 [==============================] - 191s 662ms/step - loss: 2.6495 - accuracy: 0.2419 - val_loss: 2.5662 - val_accuracy: 0.2649\n",
    "Epoch 47/400\n",
    "288/287 [==============================] - 192s 665ms/step - loss: 2.6554 - accuracy: 0.2412 - val_loss: 2.6344 - val_accuracy: 0.2430\n",
    "Epoch 48/400\n",
    "288/287 [==============================] - 189s 655ms/step - loss: 2.6441 - accuracy: 0.2379 - val_loss: 2.6320 - val_accuracy: 0.2507\n",
    "Epoch 49/400\n",
    "288/287 [==============================] - 184s 640ms/step - loss: 2.6387 - accuracy: 0.2420 - val_loss: 2.5525 - val_accuracy: 0.2696\n",
    "Epoch 50/400\n",
    "288/287 [==============================] - 174s 606ms/step - loss: 2.6410 - accuracy: 0.2370 - val_loss: 2.6867 - val_accuracy: 0.2300\n",
    "Epoch 51/400\n",
    "288/287 [==============================] - 174s 604ms/step - loss: 2.6313 - accuracy: 0.2392 - val_loss: 2.6296 - val_accuracy: 0.2458\n",
    "Epoch 52/400\n",
    "288/287 [==============================] - 175s 609ms/step - loss: 2.6300 - accuracy: 0.2457 - val_loss: 2.5669 - val_accuracy: 0.2652\n",
    "Epoch 53/400\n",
    "288/287 [==============================] - 176s 610ms/step - loss: 2.6383 - accuracy: 0.2403 - val_loss: 2.6197 - val_accuracy: 0.2499\n",
    "Epoch 54/400\n",
    "288/287 [==============================] - 176s 612ms/step - loss: 2.6278 - accuracy: 0.2455 - val_loss: 2.6291 - val_accuracy: 0.2482\n",
    "Epoch 55/400\n",
    "288/287 [==============================] - 176s 611ms/step - loss: 2.6303 - accuracy: 0.2437 - val_loss: 2.6062 - val_accuracy: 0.2512\n",
    "Epoch 56/400\n",
    "288/287 [==============================] - 176s 611ms/step - loss: 2.6289 - accuracy: 0.2443 - val_loss: 2.6508 - val_accuracy: 0.2425\n",
    "Epoch 57/400\n",
    "288/287 [==============================] - 177s 613ms/step - loss: 2.6313 - accuracy: 0.2402 - val_loss: 2.6322 - val_accuracy: 0.2460\n",
    "Epoch 58/400\n",
    "288/287 [==============================] - 176s 612ms/step - loss: 2.6169 - accuracy: 0.2423 - val_loss: 2.5832 - val_accuracy: 0.2598\n",
    "Epoch 59/400\n",
    "288/287 [==============================] - 176s 610ms/step - loss: 2.6226 - accuracy: 0.2407 - val_loss: 2.6784 - val_accuracy: 0.2316\n",
    "Epoch 60/400\n",
    "288/287 [==============================] - 175s 609ms/step - loss: 2.6246 - accuracy: 0.2467 - val_loss: 2.6021 - val_accuracy: 0.2575\n",
    "Epoch 61/400\n",
    "288/287 [==============================] - 174s 604ms/step - loss: 2.6236 - accuracy: 0.2436 - val_loss: 2.6193 - val_accuracy: 0.2509\n",
    "Epoch 62/400\n",
    "288/287 [==============================] - 174s 605ms/step - loss: 2.6185 - accuracy: 0.2461 - val_loss: 2.5319 - val_accuracy: 0.2765\n",
    "Epoch 63/400\n",
    "288/287 [==============================] - 176s 611ms/step - loss: 2.6134 - accuracy: 0.2550 - val_loss: 2.5521 - val_accuracy: 0.2731\n",
    "Epoch 64/400\n",
    "288/287 [==============================] - 179s 620ms/step - loss: 2.6086 - accuracy: 0.2512 - val_loss: 2.5705 - val_accuracy: 0.2657\n",
    "Epoch 65/400\n",
    "288/287 [==============================] - 179s 621ms/step - loss: 2.6163 - accuracy: 0.2481 - val_loss: 2.5609 - val_accuracy: 0.2672\n",
    "Epoch 66/400\n",
    "288/287 [==============================] - 178s 619ms/step - loss: 2.6047 - accuracy: 0.2465 - val_loss: 2.6663 - val_accuracy: 0.2354\n",
    "Epoch 67/400\n",
    "288/287 [==============================] - 178s 618ms/step - loss: 2.6001 - accuracy: 0.2475 - val_loss: 2.5277 - val_accuracy: 0.2776\n",
    "Epoch 68/400\n",
    "288/287 [==============================] - 181s 628ms/step - loss: 2.6092 - accuracy: 0.2495 - val_loss: 2.6141 - val_accuracy: 0.2476\n",
    "Epoch 69/400\n",
    "288/287 [==============================] - 176s 611ms/step - loss: 2.5969 - accuracy: 0.2510 - val_loss: 2.5344 - val_accuracy: 0.2755\n",
    "Epoch 70/400\n",
    "288/287 [==============================] - 177s 614ms/step - loss: 2.6065 - accuracy: 0.2486 - val_loss: 2.5833 - val_accuracy: 0.2611\n",
    "Epoch 71/400\n",
    "288/287 [==============================] - 176s 610ms/step - loss: 2.5941 - accuracy: 0.2488 - val_loss: 2.5824 - val_accuracy: 0.2652\n",
    "Epoch 72/400\n",
    "288/287 [==============================] - 175s 609ms/step - loss: 2.6066 - accuracy: 0.2440 - val_loss: 2.5460 - val_accuracy: 0.2784\n",
    "Epoch 73/400\n",
    "288/287 [==============================] - 175s 607ms/step - loss: 2.5913 - accuracy: 0.2548 - val_loss: 2.5770 - val_accuracy: 0.2690\n",
    "Epoch 74/400\n",
    "288/287 [==============================] - 175s 609ms/step - loss: 2.6002 - accuracy: 0.2487 - val_loss: 2.5754 - val_accuracy: 0.2660\n",
    "Epoch 75/400\n",
    "288/287 [==============================] - 175s 608ms/step - loss: 2.5918 - accuracy: 0.2522 - val_loss: 2.6797 - val_accuracy: 0.2354\n",
    "Epoch 76/400\n",
    "288/287 [==============================] - 175s 606ms/step - loss: 2.5918 - accuracy: 0.2521 - val_loss: 2.6318 - val_accuracy: 0.2515\n",
    "Epoch 77/400\n",
    "288/287 [==============================] - 175s 608ms/step - loss: 2.5882 - accuracy: 0.2567 - val_loss: 2.6425 - val_accuracy: 0.2416\n",
    "Epoch 78/400\n",
    "288/287 [==============================] - 175s 609ms/step - loss: 2.5919 - accuracy: 0.2564 - val_loss: 2.5884 - val_accuracy: 0.2592\n",
    "Epoch 79/400\n",
    "288/287 [==============================] - 176s 612ms/step - loss: 2.5948 - accuracy: 0.2514 - val_loss: 2.5749 - val_accuracy: 0.2638\n",
    "Epoch 80/400\n",
    "288/287 [==============================] - 175s 608ms/step - loss: 2.5897 - accuracy: 0.2548 - val_loss: 2.5568 - val_accuracy: 0.2708\n",
    "Epoch 81/400\n",
    "288/287 [==============================] - 178s 617ms/step - loss: 2.5809 - accuracy: 0.2527 - val_loss: 2.5433 - val_accuracy: 0.2773\n",
    "Epoch 82/400\n",
    "288/287 [==============================] - 178s 618ms/step - loss: 2.5773 - accuracy: 0.2547 - val_loss: 2.6308 - val_accuracy: 0.2544\n",
    "Epoch 83/400\n",
    "288/287 [==============================] - 181s 627ms/step - loss: 2.5761 - accuracy: 0.2562 - val_loss: 2.5912 - val_accuracy: 0.2633\n",
    "Epoch 84/400\n",
    "288/287 [==============================] - 181s 629ms/step - loss: 2.5827 - accuracy: 0.2544 - val_loss: 2.6075 - val_accuracy: 0.2533\n",
    "Epoch 85/400\n",
    "288/287 [==============================] - 179s 620ms/step - loss: 2.5671 - accuracy: 0.2530 - val_loss: 2.5958 - val_accuracy: 0.2593\n",
    "Epoch 86/400\n",
    "288/287 [==============================] - 177s 616ms/step - loss: 2.5769 - accuracy: 0.2599 - val_loss: 2.6558 - val_accuracy: 0.2345\n",
    "Epoch 87/400\n",
    "288/287 [==============================] - 181s 628ms/step - loss: 2.5791 - accuracy: 0.2533 - val_loss: 2.5822 - val_accuracy: 0.2629\n",
    "Epoch 88/400\n",
    "288/287 [==============================] - 181s 629ms/step - loss: 2.5735 - accuracy: 0.2583 - val_loss: 2.5732 - val_accuracy: 0.2711\n",
    "Epoch 89/400\n",
    "288/287 [==============================] - 186s 647ms/step - loss: 2.5801 - accuracy: 0.2555 - val_loss: 2.5769 - val_accuracy: 0.2631\n",
    "Epoch 90/400\n",
    "288/287 [==============================] - 186s 646ms/step - loss: 2.5778 - accuracy: 0.2583 - val_loss: 2.5531 - val_accuracy: 0.2732\n",
    "Epoch 91/400\n",
    "288/287 [==============================] - 181s 630ms/step - loss: 2.5644 - accuracy: 0.2583 - val_loss: 2.5797 - val_accuracy: 0.2683\n",
    "Epoch 92/400\n",
    "288/287 [==============================] - 183s 636ms/step - loss: 2.5699 - accuracy: 0.2563 - val_loss: 2.5727 - val_accuracy: 0.2670\n",
    "Epoch 93/400\n",
    "288/287 [==============================] - 183s 637ms/step - loss: 2.5612 - accuracy: 0.2668 - val_loss: 2.5907 - val_accuracy: 0.2620\n",
    "Epoch 94/400\n",
    "288/287 [==============================] - 179s 622ms/step - loss: 2.5486 - accuracy: 0.2633 - val_loss: 2.5438 - val_accuracy: 0.2752\n",
    "Epoch 95/400\n",
    "288/287 [==============================] - 180s 626ms/step - loss: 2.5514 - accuracy: 0.2626 - val_loss: 2.5452 - val_accuracy: 0.2750\n",
    "Epoch 96/400\n",
    "288/287 [==============================] - 181s 627ms/step - loss: 2.5631 - accuracy: 0.2566 - val_loss: 2.5808 - val_accuracy: 0.2659\n",
    "Epoch 97/400\n",
    "288/287 [==============================] - 175s 606ms/step - loss: 2.5553 - accuracy: 0.2626 - val_loss: 2.6236 - val_accuracy: 0.2510\n",
    "Epoch 98/400\n",
    "288/287 [==============================] - 176s 612ms/step - loss: 2.5660 - accuracy: 0.2574 - val_loss: 2.5885 - val_accuracy: 0.2651\n",
    "Epoch 99/400\n",
    "288/287 [==============================] - 179s 623ms/step - loss: 2.5439 - accuracy: 0.2614 - val_loss: 2.6101 - val_accuracy: 0.2593\n",
    "Epoch 100/400\n",
    "288/287 [==============================] - 183s 636ms/step - loss: 2.5536 - accuracy: 0.2649 - val_loss: 2.5497 - val_accuracy: 0.2760\n",
    "Epoch 101/400\n",
    "288/287 [==============================] - 179s 621ms/step - loss: 2.5654 - accuracy: 0.2578 - val_loss: 2.6257 - val_accuracy: 0.2548\n",
    "Epoch 102/400\n",
    "288/287 [==============================] - 178s 616ms/step - loss: 2.5611 - accuracy: 0.2604 - val_loss: 2.5419 - val_accuracy: 0.2762\n",
    "Epoch 103/400\n",
    "288/287 [==============================] - 176s 612ms/step - loss: 2.5484 - accuracy: 0.2589 - val_loss: 2.6246 - val_accuracy: 0.2527\n",
    "Epoch 104/400\n",
    "288/287 [==============================] - 175s 609ms/step - loss: 2.5509 - accuracy: 0.2603 - val_loss: 2.5722 - val_accuracy: 0.2649\n",
    "Epoch 105/400\n",
    "288/287 [==============================] - 181s 629ms/step - loss: 2.5593 - accuracy: 0.2597 - val_loss: 2.5237 - val_accuracy: 0.2812\n",
    "Epoch 106/400\n",
    "288/287 [==============================] - 186s 645ms/step - loss: 2.5511 - accuracy: 0.2616 - val_loss: 2.6141 - val_accuracy: 0.2544\n",
    "Epoch 107/400\n",
    "288/287 [==============================] - 186s 647ms/step - loss: 2.5511 - accuracy: 0.2646 - val_loss: 2.5133 - val_accuracy: 0.2832\n",
    "Epoch 108/400\n",
    "288/287 [==============================] - 189s 655ms/step - loss: 2.5483 - accuracy: 0.2661 - val_loss: 2.5956 - val_accuracy: 0.2605\n",
    "Epoch 109/400\n",
    "288/287 [==============================] - 189s 655ms/step - loss: 2.5460 - accuracy: 0.2646 - val_loss: 2.5535 - val_accuracy: 0.2680\n",
    "Epoch 110/400\n",
    "288/287 [==============================] - 187s 648ms/step - loss: 2.5468 - accuracy: 0.2612 - val_loss: 2.5475 - val_accuracy: 0.2731\n",
    "Epoch 111/400\n",
    "288/287 [==============================] - 190s 659ms/step - loss: 2.5472 - accuracy: 0.2647 - val_loss: 2.5747 - val_accuracy: 0.2621\n",
    "Epoch 112/400\n",
    "288/287 [==============================] - 192s 667ms/step - loss: 2.5368 - accuracy: 0.2701 - val_loss: 2.5424 - val_accuracy: 0.2748\n",
    "Epoch 113/400\n",
    "288/287 [==============================] - 191s 663ms/step - loss: 2.5382 - accuracy: 0.2664 - val_loss: 2.6602 - val_accuracy: 0.2450\n",
    "Epoch 114/400\n",
    "288/287 [==============================] - 191s 664ms/step - loss: 2.5355 - accuracy: 0.2658 - val_loss: 2.5581 - val_accuracy: 0.2696\n",
    "Epoch 115/400\n",
    "288/287 [==============================] - 186s 645ms/step - loss: 2.5443 - accuracy: 0.2601 - val_loss: 2.5662 - val_accuracy: 0.2665\n",
    "Epoch 116/400\n",
    "288/287 [==============================] - 181s 627ms/step - loss: 2.5407 - accuracy: 0.2616 - val_loss: 2.5506 - val_accuracy: 0.2750\n",
    "Epoch 117/400\n",
    "288/287 [==============================] - 185s 644ms/step - loss: 2.5314 - accuracy: 0.2654 - val_loss: 2.5607 - val_accuracy: 0.2693\n",
    "Epoch 118/400\n",
    "288/287 [==============================] - 190s 658ms/step - loss: 2.5464 - accuracy: 0.2626 - val_loss: 2.5260 - val_accuracy: 0.2771\n",
    "Epoch 119/400\n",
    "288/287 [==============================] - 193s 669ms/step - loss: 2.5292 - accuracy: 0.2681 - val_loss: 2.5718 - val_accuracy: 0.2706\"\"\"\n",
    "\n",
    "\n",
    "\n",
    "s=s.split('288/287 [==============================] - ')\n",
    "\n",
    "st=[]\n",
    "for i in s:\n",
    "    start=i.find(\"loss\")\n",
    "    end=i.find(\"Epoc\")\n",
    "    st.append(i[start:end])\n",
    "st=st[1::]\n",
    "#print(st)\n",
    "acc=[]\n",
    "val_acc=[]\n",
    "loss=[]\n",
    "val_loss=[]\n",
    "for line in st:\n",
    "    ind=line.find('loss: ')\n",
    "    l=line[ind+6:ind+12]\n",
    "    loss.append(l)\n",
    "\n",
    "    ind=line.find('accuracy: ')\n",
    "    a=line[ind+10:ind+16]\n",
    "    acc.append(a)\n",
    "\n",
    "    ind=line.find('val_loss: ')\n",
    "    vl=line[ind+10:ind+16]\n",
    "    val_loss.append(vl)\n",
    "\n",
    "    ind=line.find('val_accuracy: ')\n",
    "    va=line[ind+14:ind+20]\n",
    "    val_acc.append(va)\n",
    "\n",
    "for i in range(len(loss)):\n",
    "    loss[i]=float(loss[i])\n",
    "    val_loss[i]=float(val_loss[i])\n",
    "    acc[i]=float(acc[i])\n",
    "    val_acc[i]=float(val_acc[i])\n",
    "    \n",
    "    \n",
    "    \n"
   ]
  },
  {
   "cell_type": "code",
   "execution_count": null,
   "metadata": {},
   "outputs": [],
   "source": []
  },
  {
   "cell_type": "code",
   "execution_count": 24,
   "metadata": {},
   "outputs": [
    {
     "data": {
      "text/plain": [
       "Text(0, 0.5, 'accuracy')"
      ]
     },
     "execution_count": 24,
     "metadata": {},
     "output_type": "execute_result"
    },
    {
     "data": {
      "image/png": "[encoded data removed]",
      "text/plain": [
       "<Figure size 432x288 with 1 Axes>"
      ]
     },
     "metadata": {
      "needs_background": "light"
     },
     "output_type": "display_data"
    }
   ],
   "source": [
    "plt.plot(acc,'bo')\n",
    "plt.plot(val_acc,'-rx')\n",
    "plt.xlabel(\"epochs\")\n",
    "plt.ylabel(\"accuracy\")"
   ]
  },
  {
   "cell_type": "code",
   "execution_count": 25,
   "metadata": {},
   "outputs": [
    {
     "data": {
      "text/plain": [
       "Text(0, 0.5, 'loss')"
      ]
     },
     "execution_count": 25,
     "metadata": {},
     "output_type": "execute_result"
    },
    {
     "data": {
      "image/png": "[encoded data removed]",
      "text/plain": [
       "<Figure size 432x288 with 1 Axes>"
      ]
     },
     "metadata": {
      "needs_background": "light"
     },
     "output_type": "display_data"
    }
   ],
   "source": [
    "plt.plot(loss,'bo')\n",
    "plt.plot(val_loss,'-rx')\n",
    "plt.xlabel(\"epochs\")\n",
    "plt.ylabel(\"loss\")"
   ]
  },
  {
   "cell_type": "code",
   "execution_count": null,
   "metadata": {},
   "outputs": [],
   "source": []
  },
  {
   "cell_type": "code",
   "execution_count": 26,
   "metadata": {},
   "outputs": [
    {
     "data": {
      "text/plain": [
       "Text(0, 0.5, 'accuracy')"
      ]
     },
     "execution_count": 26,
     "metadata": {},
     "output_type": "execute_result"
    },
    {
     "data": {
      "image/png": "[encoded data removed]",
      "text/plain": [
       "<Figure size 432x288 with 1 Axes>"
      ]
     },
     "metadata": {
      "needs_background": "light"
     },
     "output_type": "display_data"
    }
   ],
   "source": [
    "plt.plot(acc,'bo')\n",
    "plt.plot(loss,'-rx')\n",
    "plt.xlabel(\"epochs\")\n",
    "plt.ylabel(\"accuracy\")"
   ]
  },
  {
   "cell_type": "code",
   "execution_count": 27,
   "metadata": {},
   "outputs": [
    {
     "data": {
      "text/plain": [
       "Text(0, 0.5, 'accuracy')"
      ]
     },
     "execution_count": 27,
     "metadata": {},
     "output_type": "execute_result"
    },
    {
     "data": {
      "image/png": "[encoded data removed]",
      "text/plain": [
       "<Figure size 432x288 with 1 Axes>"
      ]
     },
     "metadata": {
      "needs_background": "light"
     },
     "output_type": "display_data"
    }
   ],
   "source": [
    "plt.plot(val_acc,'bo')\n",
    "plt.plot(val_loss,'-rx')\n",
    "plt.xlabel(\"epochs\")\n",
    "plt.ylabel(\"accuracy\")"
   ]
  },
  {
   "cell_type": "code",
   "execution_count": 35,
   "metadata": {},
   "outputs": [],
   "source": []
  },
  {
   "cell_type": "code",
   "execution_count": null,
   "metadata": {},
   "outputs": [],
   "source": []
  },
  {
   "cell_type": "code",
   "execution_count": null,
   "metadata": {},
   "outputs": [],
   "source": []
  },
  {
   "cell_type": "code",
   "execution_count": null,
   "metadata": {},
   "outputs": [],
   "source": []
  }
 ],
 "metadata": {
  "kernelspec": {
   "display_name": "Python 3",
   "language": "python",
   "name": "python3"
  },
  "language_info": {
   "codemirror_mode": {
    "name": "ipython",
    "version": 3
   },
   "file_extension": ".py",
   "mimetype": "text/x-python",
   "name": "python",
   "nbconvert_exporter": "python",
   "pygments_lexer": "ipython3",
   "version": "3.6.10"
  }
 },
 "nbformat": 4,
 "nbformat_minor": 4
}
