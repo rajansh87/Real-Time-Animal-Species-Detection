{
  "nbformat": 4,
  "nbformat_minor": 0,
  "metadata": {
    "kernelspec": {
      "name": "python3",
      "display_name": "Python 3",
      "language": "python"
    },
    "language_info": {
      "name": "python",
      "version": "3.7.6",
      "mimetype": "text/x-python",
      "codemirror_mode": {
        "name": "ipython",
        "version": 3
      },
      "pygments_lexer": "ipython3",
      "nbconvert_exporter": "python",
      "file_extension": ".py"
    },
    "colab": {
      "name": "animal-species-detection-project.ipynb",
      "provenance": []
    },
    "accelerator": "GPU"
  },
  "cells": [
    {
      "cell_type": "markdown",
      "metadata": {
        "id": "f7PwkZYqTVdX"
      },
      "source": [
        "## Task 1: Importing Libraries"
      ]
    },
    {
      "cell_type": "code",
      "metadata": {
        "_uuid": "8f2839f25d086af736a60e9eeb907d3b93b6e0e5",
        "_cell_guid": "b1076dfc-b9ad-4769-8c92-a6c4dae69d19",
        "trusted": true,
        "id": "hg441YflTVdY",
        "colab": {
          "base_uri": "https://localhost:8080/"
        },
        "outputId": "69b37f29-6c3d-490d-a305-2df209baee8e"
      },
      "source": [
        "import keras\n",
        "import os\n",
        "import shutil\n",
        "import numpy as np\n",
        "import math\n",
        "import random\n",
        "import matplotlib.pyplot as plt\n",
        "import seaborn as sns\n",
        "sns.set()\n",
        "from platform import python_version\n",
        "\n",
        "print('Python version:', python_version())\n",
        "print('Numpy version:', np.__version__)\n",
        "print('Seaborn version:', sns.__version__)\n",
        "from distutils.dir_util import copy_tree"
      ],
      "execution_count": null,
      "outputs": [
        {
          "output_type": "stream",
          "text": [
            "Python version: 3.6.9\n",
            "Numpy version: 1.18.5\n",
            "Seaborn version: 0.11.0\n"
          ],
          "name": "stdout"
        }
      ]
    },
    {
      "cell_type": "code",
      "metadata": {
        "_uuid": "d629ff2d2480ee46fbb7e2d37f6b5fab8052498a",
        "_cell_guid": "79c7e3d0-c299-4dcb-8224-4455121ee9b0",
        "trusted": true,
        "id": "habuI1bfTVda"
      },
      "source": [
        "from keras.layers import Convolution2D\n",
        "from keras.layers import MaxPooling2D\n",
        "from keras.layers import Flatten\n",
        "from keras.layers import Dense\n",
        "from keras.models import Sequential\n",
        "from keras_preprocessing.image import ImageDataGenerator"
      ],
      "execution_count": null,
      "outputs": []
    },
    {
      "cell_type": "markdown",
      "metadata": {
        "id": "GiSoki39TVda"
      },
      "source": [
        "## Task 2: Dataset Creation"
      ]
    },
    {
      "cell_type": "code",
      "metadata": {
        "id": "wjImpamyTaCN",
        "colab": {
          "resources": {
            "http://localhost:8080/nbextensions/google.colab/files.js": {
              "data": "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",
              "ok": true,
              "headers": [
                [
                  "content-type",
                  "application/javascript"
                ]
              ],
              "status": 200,
              "status_text": ""
            }
          },
          "base_uri": "https://localhost:8080/",
          "height": 91
        },
        "outputId": "a7772f49-fc4a-4f41-c655-65ebdb361c52"
      },
      "source": [
        "from google.colab import files\n",
        "files.upload()"
      ],
      "execution_count": null,
      "outputs": [
        {
          "output_type": "display_data",
          "data": {
            "text/html": [
              "\n",
              "     <input type=\"file\" id=\"files-c0219fc5-9f79-4108-91d0-3449bf2850cd\" name=\"files[]\" multiple disabled\n",
              "        style=\"border:none\" />\n",
              "     <output id=\"result-c0219fc5-9f79-4108-91d0-3449bf2850cd\">\n",
              "      Upload widget is only available when the cell has been executed in the\n",
              "      current browser session. Please rerun this cell to enable.\n",
              "      </output>\n",
              "      <script src=\"/nbextensions/google.colab/files.js\"></script> "
            ],
            "text/plain": [
              "<IPython.core.display.HTML object>"
            ]
          },
          "metadata": {
            "tags": []
          }
        },
        {
          "output_type": "stream",
          "text": [
            "Saving kaggle.json to kaggle.json\n"
          ],
          "name": "stdout"
        },
        {
          "output_type": "execute_result",
          "data": {
            "text/plain": [
              "{'kaggle.json': b'{\"username\":\"rajansh87\",\"key\":\"792ad04bb02c58836d2ee490d28bff93\"}'}"
            ]
          },
          "metadata": {
            "tags": []
          },
          "execution_count": 3
        }
      ]
    },
    {
      "cell_type": "code",
      "metadata": {
        "id": "nxn34HL9TaPy"
      },
      "source": [
        "!pip install -q kaggle\n",
        "!mkdir -p ~/.kaggle\n",
        "!cp kaggle.json ~/.kaggle/"
      ],
      "execution_count": null,
      "outputs": []
    },
    {
      "cell_type": "code",
      "metadata": {
        "id": "2okDzpXOWZbM"
      },
      "source": [
        ""
      ],
      "execution_count": null,
      "outputs": []
    },
    {
      "cell_type": "code",
      "metadata": {
        "colab": {
          "base_uri": "https://localhost:8080/"
        },
        "id": "UqK3KUUHWZhs",
        "outputId": "bcd4e9e1-b043-458f-b83c-e8830fe26a4d"
      },
      "source": [
        "!kaggle datasets list -s https://www.kaggle.com/biancaferreira/african-wildlife"
      ],
      "execution_count": null,
      "outputs": [
        {
          "output_type": "stream",
          "text": [
            "Warning: Your Kaggle API key is readable by other users on this system! To fix this, you can run 'chmod 600 /root/.kaggle/kaggle.json'\n",
            "Warning: Looks like you're using an outdated API Version, please consider updating (server 1.5.10 / client 1.5.4)\n",
            "ref                                        title                        size  lastUpdated          downloadCount  \n",
            "-----------------------------------------  --------------------------  -----  -------------------  -------------  \n",
            "biancaferreira/african-wildlife            African Wildlife            448MB  2020-05-25 13:42:19            833  \n",
            "biancaferreira/simulated-african-wildlife  Simulated African Wildlife    4GB  2020-05-26 12:38:56              0  \n"
          ],
          "name": "stdout"
        }
      ]
    },
    {
      "cell_type": "code",
      "metadata": {
        "colab": {
          "base_uri": "https://localhost:8080/"
        },
        "id": "S3j80q4qWZgG",
        "outputId": "54bf169d-4da2-446c-fa1f-eea013b292e1"
      },
      "source": [
        "!kaggle datasets download -d biancaferreira/african-wildlife\n",
        "!kaggle datasets download -d kdnishanth/animal-classification\n",
        "!kaggle datasets download -d viswatejag/animal-detection-small-dataset\n",
        "!kaggle datasets download -d jerrinbright/cheetahtigerwolf"
      ],
      "execution_count": null,
      "outputs": [
        {
          "output_type": "stream",
          "text": [
            "Warning: Your Kaggle API key is readable by other users on this system! To fix this, you can run 'chmod 600 /root/.kaggle/kaggle.json'\n",
            "Downloading african-wildlife.zip to /content\n",
            " 98% 438M/448M [00:06<00:00, 42.1MB/s]\n",
            "100% 448M/448M [00:06<00:00, 67.1MB/s]\n",
            "Warning: Your Kaggle API key is readable by other users on this system! To fix this, you can run 'chmod 600 /root/.kaggle/kaggle.json'\n",
            "Downloading animal-classification.zip to /content\n",
            " 98% 404M/414M [00:04<00:00, 92.4MB/s]\n",
            "100% 414M/414M [00:04<00:00, 92.9MB/s]\n",
            "Warning: Your Kaggle API key is readable by other users on this system! To fix this, you can run 'chmod 600 /root/.kaggle/kaggle.json'\n",
            "Downloading animal-detection-small-dataset.zip to /content\n",
            "100% 6.40G/6.40G [02:31<00:00, 33.0MB/s]\n",
            "100% 6.40G/6.40G [02:31<00:00, 45.4MB/s]\n",
            "Warning: Your Kaggle API key is readable by other users on this system! To fix this, you can run 'chmod 600 /root/.kaggle/kaggle.json'\n",
            "Downloading cheetahtigerwolf.zip to /content\n",
            "100% 2.50G/2.51G [01:05<00:00, 24.0MB/s]\n",
            "100% 2.51G/2.51G [01:05<00:00, 41.2MB/s]\n"
          ],
          "name": "stdout"
        }
      ]
    },
    {
      "cell_type": "code",
      "metadata": {
        "id": "YdCFYTcEZH_V"
      },
      "source": [
        "os.mkdir(\"/content/train_data\")\n",
        "os.mkdir(\"/content/train_data/data\")\n",
        "os.mkdir(\"/content/tem/\")\n",
        "!rm -rf /content/sample_data/*\n",
        "!rmdir /content/sample_data"
      ],
      "execution_count": null,
      "outputs": []
    },
    {
      "cell_type": "code",
      "metadata": {
        "id": "l8tNHZ7mZIEh"
      },
      "source": [
        "!unzip -q \"/content/african-wildlife.zip\" -d \"/content/temp/\"\n",
        "!unzip -q \"/content/animal-classification.zip\" -d \"/content/temp/\"\n",
        "!unzip -q \"/content/animal-detection-small-dataset.zip\" -d \"/content/temp/\"\n",
        "!unzip -q \"/content/cheetahtigerwolf.zip\" -d \"/content/temp/\"\n",
        "#now after this delete them from disk manually\n",
        "!rm -rf /content/african-wildlife.zip\n",
        "!rm -rf /content/animal-classification.zip\n",
        "!rm -rf /content/animal-detection-small-dataset.zip\n",
        "!rm -rf /content/cheetahtigerwolf.zip\n",
        "!rm -rf /content/kaggle.json"
      ],
      "execution_count": null,
      "outputs": []
    },
    {
      "cell_type": "code",
      "metadata": {
        "id": "slwGUPvSm0UQ"
      },
      "source": [
        "#!rm -rf /content/temp/test/test/*\n",
        "#!rmdir /content/temp/test/test/\n",
        "#!rmdir /content/temp/test/\n",
        "#!mv /content/temp/train/train/* /content/temp/\n",
        "\n",
        "#!rm -rf /content/temp/train/train/\n",
        "#!rmdir /content/temp/train/train/\n",
        "#!rmdir /content/temp/train/\n",
        "#!rm -f /content/temp/data.py\n",
        "\n",
        "#!mv /content/temp/ANIMAL-N30/ANIMALS/* /content/temp/\n",
        "#!mv /content/temp/ANIMALS/ANIMALS/* /content/temp/\n",
        "\n",
        "#!rm -rf /content/temp/ANIMAL-N30/ANIMALS/*\n",
        "#!rm -rf /content/temp/ANIMALS/ANIMALS/*\n",
        "\n",
        "#!rmdir /content/temp/ANIMAL-N30/ANIMALS\n",
        "#!rmdir /content/temp/ANIMALS/ANIMALS\n",
        "\n",
        "#!rmdir /content/temp/ANIMALS\n",
        "#!rmdir /content/temp/ANIMAL-N30\n",
        "\n",
        "#!mv /content/temp /content/tem/"
      ],
      "execution_count": null,
      "outputs": []
    },
    {
      "cell_type": "code",
      "metadata": {
        "trusted": true,
        "id": "8pMsxNb9TVda"
      },
      "source": [
        "#convert names of all sub-directories in our data to lowercase\n",
        "import os\n",
        "path='/content/tem/temp/'\n",
        "for file in os.listdir(path):\n",
        "    if file!=file.lower():\n",
        "        os.rename(path+file,file.lower())\n",
        "#after this all the directories whose names were in uppercase gets converted to lowercase and comes outside ./data/ directory."
      ],
      "execution_count": null,
      "outputs": []
    },
    {
      "cell_type": "code",
      "metadata": {
        "trusted": true,
        "id": "_-oTrob1TVda",
        "colab": {
          "base_uri": "https://localhost:8080/"
        },
        "outputId": "73a3f313-9a33-4b3b-c3bf-33ed340f86ee"
      },
      "source": [
        "#copying all the directories from data which were already in lowercase and didn't came outside the ./data/ directory \n",
        "fromDirectory=\"/content/tem/temp/\"\n",
        "toDirectory=\"/content/tem/\"\n",
        "copy_tree(fromDirectory,toDirectory)\n",
        "#now all data is been converted to lowercase and are at ./\n"
      ],
      "execution_count": null,
      "outputs": [
        {
          "output_type": "execute_result",
          "data": {
            "text/plain": [
              "['/content/tem/antelope/Img-1497.jpg',\n",
              " '/content/tem/antelope/Img-3707.jpg',\n",
              " '/content/tem/antelope/Img-7288.jpg',\n",
              " '/content/tem/antelope/Img-2624.jpg',\n",
              " '/content/tem/antelope/Img-11482.jpg',\n",
              " '/content/tem/antelope/Img-5730.jpg',\n",
              " '/content/tem/antelope/Img-8395.jpg',\n",
              " '/content/tem/antelope/Img-8680.jpg',\n",
              " '/content/tem/antelope/Img-3255.jpg',\n",
              " '/content/tem/antelope/Img-11011.jpg',\n",
              " '/content/tem/antelope/Img-11829.jpg',\n",
              " '/content/tem/antelope/Img-7046.jpg',\n",
              " '/content/tem/antelope/Img-12195.jpg',\n",
              " '/content/tem/antelope/Img-2034.jpg',\n",
              " '/content/tem/antelope/Img-5996.jpg',\n",
              " '/content/tem/antelope/Img-3890.jpg',\n",
              " '/content/tem/antelope/Img-3311.jpg',\n",
              " '/content/tem/antelope/Img-12336.jpg',\n",
              " '/content/tem/antelope/Img-12337.jpg',\n",
              " '/content/tem/antelope/Img-6433.jpg',\n",
              " '/content/tem/antelope/Img-11686.jpg',\n",
              " '/content/tem/antelope/Img-9884.jpg',\n",
              " '/content/tem/antelope/Img-2330.jpg',\n",
              " '/content/tem/antelope/Img-11678.jpg',\n",
              " '/content/tem/antelope/Img-9196.jpg',\n",
              " '/content/tem/antelope/Img-2428.jpg',\n",
              " '/content/tem/antelope/Img-5258.jpg',\n",
              " '/content/tem/antelope/Img-106.jpg',\n",
              " '/content/tem/antelope/Img-2631.jpg',\n",
              " '/content/tem/antelope/Img-12216.jpg',\n",
              " '/content/tem/antelope/Img-1585.jpg',\n",
              " '/content/tem/antelope/Img-4594.jpg',\n",
              " '/content/tem/antelope/Img-149.jpg',\n",
              " '/content/tem/antelope/Img-7685.jpg',\n",
              " '/content/tem/antelope/Img-10831.jpg',\n",
              " '/content/tem/antelope/Img-2137.jpg',\n",
              " '/content/tem/antelope/Img-3073.jpg',\n",
              " '/content/tem/antelope/Img-6547.jpg',\n",
              " '/content/tem/antelope/Img-4758.jpg',\n",
              " '/content/tem/antelope/Img-7706.jpg',\n",
              " '/content/tem/antelope/Img-10224.jpg',\n",
              " '/content/tem/antelope/Img-10366.jpg',\n",
              " '/content/tem/antelope/Img-10385.jpg',\n",
              " '/content/tem/antelope/Img-3357.jpg',\n",
              " '/content/tem/antelope/Img-10567.jpg',\n",
              " '/content/tem/antelope/Img-5766.jpg',\n",
              " '/content/tem/antelope/Img-12381.jpg',\n",
              " '/content/tem/antelope/Img-2801.jpg',\n",
              " '/content/tem/antelope/Img-5548.jpg',\n",
              " '/content/tem/antelope/Img-4339.jpg',\n",
              " '/content/tem/antelope/Img-10897.jpg',\n",
              " '/content/tem/antelope/Img-5732.jpg',\n",
              " '/content/tem/antelope/Img-130.jpg',\n",
              " '/content/tem/antelope/Img-3254.jpg',\n",
              " '/content/tem/antelope/Img-2425.jpg',\n",
              " '/content/tem/antelope/Img-11886.jpg',\n",
              " '/content/tem/antelope/Img-9362.jpg',\n",
              " '/content/tem/antelope/Img-102.jpg',\n",
              " '/content/tem/antelope/Img-12860.jpg',\n",
              " '/content/tem/antelope/Img-1387.jpg',\n",
              " '/content/tem/antelope/Img-8951.jpg',\n",
              " '/content/tem/antelope/Img-11369.jpg',\n",
              " '/content/tem/antelope/Img-4493.jpg',\n",
              " '/content/tem/antelope/Img-2051.jpg',\n",
              " '/content/tem/antelope/Img-9347.jpg',\n",
              " '/content/tem/antelope/Img-6113.jpg',\n",
              " '/content/tem/antelope/Img-77.jpg',\n",
              " '/content/tem/antelope/Img-8196.jpg',\n",
              " '/content/tem/antelope/Img-7834.jpg',\n",
              " '/content/tem/antelope/Img-10468.jpg',\n",
              " '/content/tem/antelope/Img-1618.jpg',\n",
              " '/content/tem/antelope/Img-10830.jpg',\n",
              " '/content/tem/antelope/Img-6886.jpg',\n",
              " '/content/tem/antelope/Img-4374.jpg',\n",
              " '/content/tem/antelope/Img-7725.jpg',\n",
              " '/content/tem/antelope/Img-9295.jpg',\n",
              " '/content/tem/antelope/Img-6029.jpg',\n",
              " '/content/tem/antelope/Img-7845.jpg',\n",
              " '/content/tem/antelope/Img-3195.jpg',\n",
              " '/content/tem/antelope/Img-11635.jpg',\n",
              " '/content/tem/antelope/Img-1570.jpg',\n",
              " '/content/tem/antelope/Img-3958.jpg',\n",
              " '/content/tem/antelope/Img-127.jpg',\n",
              " '/content/tem/antelope/Img-6468.jpg',\n",
              " '/content/tem/antelope/Img-1932.jpg',\n",
              " '/content/tem/antelope/Img-2812.jpg',\n",
              " '/content/tem/antelope/Img-4547.jpg',\n",
              " '/content/tem/antelope/Img-4784.jpg',\n",
              " '/content/tem/antelope/Img-7506.jpg',\n",
              " '/content/tem/antelope/Img-8474.jpg',\n",
              " '/content/tem/antelope/Img-9230.jpg',\n",
              " '/content/tem/antelope/Img-3435.jpg',\n",
              " '/content/tem/antelope/Img-6836.jpg',\n",
              " '/content/tem/antelope/Img-10355.jpg',\n",
              " '/content/tem/antelope/Img-10054.jpg',\n",
              " '/content/tem/antelope/Img-8902.jpg',\n",
              " '/content/tem/antelope/Img-6698.jpg',\n",
              " '/content/tem/antelope/Img-8480.jpg',\n",
              " '/content/tem/antelope/Img-5058.jpg',\n",
              " '/content/tem/antelope/Img-12183.jpg',\n",
              " '/content/tem/antelope/Img-11923.jpg',\n",
              " '/content/tem/antelope/Img-6895.jpg',\n",
              " '/content/tem/antelope/Img-2676.jpg',\n",
              " '/content/tem/antelope/Img-1079.jpg',\n",
              " '/content/tem/antelope/Img-11195.jpg',\n",
              " '/content/tem/antelope/Img-1635.jpg',\n",
              " '/content/tem/antelope/Img-532.jpg',\n",
              " '/content/tem/antelope/Img-12696.jpg',\n",
              " '/content/tem/antelope/Img-5680.jpg',\n",
              " '/content/tem/antelope/Img-10361.jpg',\n",
              " '/content/tem/antelope/Img-5810.jpg',\n",
              " '/content/tem/antelope/Img-10876.jpg',\n",
              " '/content/tem/antelope/Img-6003.jpg',\n",
              " '/content/tem/antelope/Img-9595.jpg',\n",
              " '/content/tem/antelope/Img-10715.jpg',\n",
              " '/content/tem/antelope/Img-11975.jpg',\n",
              " '/content/tem/antelope/Img-4955.jpg',\n",
              " '/content/tem/antelope/Img-7333.jpg',\n",
              " '/content/tem/antelope/Img-1645.jpg',\n",
              " '/content/tem/antelope/Img-7347.jpg',\n",
              " '/content/tem/antelope/Img-7135.jpg',\n",
              " '/content/tem/antelope/Img-2610.jpg',\n",
              " '/content/tem/antelope/Img-6000.jpg',\n",
              " '/content/tem/antelope/Img-12949.jpg',\n",
              " '/content/tem/antelope/Img-2105.jpg',\n",
              " '/content/tem/antelope/Img-5417.jpg',\n",
              " '/content/tem/antelope/Img-1707.jpg',\n",
              " '/content/tem/antelope/Img-6452.jpg',\n",
              " '/content/tem/antelope/Img-5026.jpg',\n",
              " '/content/tem/antelope/Img-4236.jpg',\n",
              " '/content/tem/antelope/Img-60.jpg',\n",
              " '/content/tem/antelope/Img-5054.jpg',\n",
              " '/content/tem/antelope/Img-7340.jpg',\n",
              " '/content/tem/antelope/Img-6041.jpg',\n",
              " '/content/tem/antelope/Img-1353.jpg',\n",
              " '/content/tem/antelope/Img-1335.jpg',\n",
              " '/content/tem/antelope/Img-12189.jpg',\n",
              " '/content/tem/antelope/Img-3771.jpg',\n",
              " '/content/tem/antelope/Img-11234.jpg',\n",
              " '/content/tem/antelope/Img-7869.jpg',\n",
              " '/content/tem/antelope/Img-515.jpg',\n",
              " '/content/tem/antelope/Img-11537.jpg',\n",
              " '/content/tem/antelope/Img-11033.jpg',\n",
              " '/content/tem/antelope/Img-10505.jpg',\n",
              " '/content/tem/antelope/Img-2939.jpg',\n",
              " '/content/tem/antelope/Img-12197.jpg',\n",
              " '/content/tem/antelope/Img-5708.jpg',\n",
              " '/content/tem/antelope/Img-819.jpg',\n",
              " '/content/tem/antelope/Img-3447.jpg',\n",
              " '/content/tem/antelope/Img-5724.jpg',\n",
              " '/content/tem/antelope/Img-9367.jpg',\n",
              " '/content/tem/antelope/Img-3204.jpg',\n",
              " '/content/tem/antelope/Img-1534.jpg',\n",
              " '/content/tem/antelope/Img-11556.jpg',\n",
              " '/content/tem/antelope/Img-8829.jpg',\n",
              " '/content/tem/antelope/Img-1787.jpg',\n",
              " '/content/tem/antelope/Img-2644.jpg',\n",
              " '/content/tem/antelope/Img-5558.jpg',\n",
              " '/content/tem/antelope/Img-9954.jpg',\n",
              " '/content/tem/antelope/Img-7693.jpg',\n",
              " '/content/tem/antelope/Img-7029.jpg',\n",
              " '/content/tem/antelope/Img-3371.jpg',\n",
              " '/content/tem/antelope/Img-10465.jpg',\n",
              " '/content/tem/antelope/Img-6957.jpg',\n",
              " '/content/tem/antelope/Img-5205.jpg',\n",
              " '/content/tem/antelope/Img-12098.jpg',\n",
              " '/content/tem/antelope/Img-2578.jpg',\n",
              " '/content/tem/antelope/Img-863.jpg',\n",
              " '/content/tem/antelope/Img-1340.jpg',\n",
              " '/content/tem/antelope/Img-778.jpg',\n",
              " '/content/tem/antelope/Img-6819.jpg',\n",
              " '/content/tem/antelope/Img-8273.jpg',\n",
              " '/content/tem/antelope/Img-10923.jpg',\n",
              " '/content/tem/antelope/Img-5433.jpg',\n",
              " '/content/tem/antelope/Img-2119.jpg',\n",
              " '/content/tem/antelope/Img-10686.jpg',\n",
              " '/content/tem/antelope/Img-5316.jpg',\n",
              " '/content/tem/antelope/Img-2160.jpg',\n",
              " '/content/tem/antelope/Img-11881.jpg',\n",
              " '/content/tem/antelope/Img-12427.jpg',\n",
              " '/content/tem/antelope/Img-12151.jpg',\n",
              " '/content/tem/antelope/Img-6571.jpg',\n",
              " '/content/tem/antelope/Img-2291.jpg',\n",
              " '/content/tem/antelope/Img-9546.jpg',\n",
              " '/content/tem/antelope/Img-12329.jpg',\n",
              " '/content/tem/antelope/Img-12897.jpg',\n",
              " '/content/tem/antelope/Img-8386.jpg',\n",
              " '/content/tem/antelope/Img-7983.jpg',\n",
              " '/content/tem/antelope/Img-10000.jpg',\n",
              " '/content/tem/antelope/Img-1878.jpg',\n",
              " '/content/tem/antelope/Img-5720.jpg',\n",
              " '/content/tem/antelope/Img-9903.jpg',\n",
              " '/content/tem/antelope/Img-9437.jpg',\n",
              " '/content/tem/antelope/Img-4688.jpg',\n",
              " '/content/tem/antelope/Img-317.jpg',\n",
              " '/content/tem/antelope/Img-9371.jpg',\n",
              " '/content/tem/antelope/Img-10936.jpg',\n",
              " '/content/tem/antelope/Img-5552.jpg',\n",
              " '/content/tem/antelope/Img-9926.jpg',\n",
              " '/content/tem/antelope/Img-3020.jpg',\n",
              " '/content/tem/antelope/Img-11352.jpg',\n",
              " '/content/tem/antelope/Img-9629.jpg',\n",
              " '/content/tem/antelope/Img-9270.jpg',\n",
              " '/content/tem/antelope/Img-11716.jpg',\n",
              " '/content/tem/antelope/Img-6306.jpg',\n",
              " '/content/tem/antelope/Img-12246.jpg',\n",
              " '/content/tem/antelope/Img-3793.jpg',\n",
              " '/content/tem/antelope/Img-4133.jpg',\n",
              " '/content/tem/antelope/Img-12732.jpg',\n",
              " '/content/tem/antelope/Img-5617.jpg',\n",
              " '/content/tem/antelope/Img-11963.jpg',\n",
              " '/content/tem/antelope/Img-4422.jpg',\n",
              " '/content/tem/antelope/Img-11579.jpg',\n",
              " '/content/tem/antelope/Img-10066.jpg',\n",
              " '/content/tem/antelope/Img-144.jpg',\n",
              " '/content/tem/antelope/Img-6792.jpg',\n",
              " '/content/tem/antelope/Img-3552.jpg',\n",
              " '/content/tem/antelope/Img-8986.jpg',\n",
              " '/content/tem/antelope/Img-9687.jpg',\n",
              " '/content/tem/antelope/Img-1114.jpg',\n",
              " '/content/tem/antelope/Img-10323.jpg',\n",
              " '/content/tem/antelope/Img-4499.jpg',\n",
              " '/content/tem/antelope/Img-5156.jpg',\n",
              " '/content/tem/antelope/Img-2931.jpg',\n",
              " '/content/tem/antelope/Img-8512.jpg',\n",
              " '/content/tem/antelope/Img-12515.jpg',\n",
              " '/content/tem/antelope/Img-432.jpg',\n",
              " '/content/tem/antelope/Img-7090.jpg',\n",
              " '/content/tem/antelope/Img-10659.jpg',\n",
              " '/content/tem/antelope/Img-5770.jpg',\n",
              " '/content/tem/antelope/Img-7342.jpg',\n",
              " '/content/tem/antelope/Img-10442.jpg',\n",
              " '/content/tem/antelope/Img-1617.jpg',\n",
              " '/content/tem/antelope/Img-904.jpg',\n",
              " '/content/tem/antelope/Img-12391.jpg',\n",
              " '/content/tem/antelope/Img-545.jpg',\n",
              " '/content/tem/antelope/Img-9515.jpg',\n",
              " '/content/tem/antelope/Img-11651.jpg',\n",
              " '/content/tem/antelope/Img-1400.jpg',\n",
              " '/content/tem/antelope/Img-2505.jpg',\n",
              " '/content/tem/antelope/Img-5657.jpg',\n",
              " '/content/tem/antelope/Img-33.jpg',\n",
              " '/content/tem/antelope/Img-3425.jpg',\n",
              " '/content/tem/antelope/Img-9513.jpg',\n",
              " '/content/tem/antelope/Img-3807.jpg',\n",
              " '/content/tem/antelope/Img-12491.jpg',\n",
              " '/content/tem/antelope/Img-1803.jpg',\n",
              " '/content/tem/antelope/Img-10909.jpg',\n",
              " '/content/tem/antelope/Img-1895.jpg',\n",
              " '/content/tem/antelope/Img-4677.jpg',\n",
              " '/content/tem/antelope/Img-9991.jpg',\n",
              " '/content/tem/antelope/Img-2999.jpg',\n",
              " '/content/tem/antelope/Img-6520.jpg',\n",
              " '/content/tem/antelope/Img-5981.jpg',\n",
              " '/content/tem/antelope/Img-262.jpg',\n",
              " '/content/tem/antelope/Img-7649.jpg',\n",
              " '/content/tem/antelope/Img-4544.jpg',\n",
              " '/content/tem/antelope/Img-11560.jpg',\n",
              " '/content/tem/antelope/Img-357.jpg',\n",
              " '/content/tem/antelope/Img-5725.jpg',\n",
              " '/content/tem/antelope/Img-5115.jpg',\n",
              " '/content/tem/antelope/Img-11924.jpg',\n",
              " '/content/tem/antelope/Img-12978.jpg',\n",
              " '/content/tem/antelope/Img-4353.jpg',\n",
              " '/content/tem/antelope/Img-10498.jpg',\n",
              " '/content/tem/antelope/Img-3155.jpg',\n",
              " '/content/tem/antelope/Img-4659.jpg',\n",
              " '/content/tem/antelope/Img-8401.jpg',\n",
              " '/content/tem/antelope/Img-2229.jpg',\n",
              " '/content/tem/antelope/Img-279.jpg',\n",
              " '/content/tem/antelope/Img-12482.jpg',\n",
              " '/content/tem/antelope/Img-3097.jpg',\n",
              " '/content/tem/antelope/Img-1964.jpg',\n",
              " '/content/tem/antelope/Img-7853.jpg',\n",
              " '/content/tem/antelope/Img-9828.jpg',\n",
              " '/content/tem/antelope/Img-2259.jpg',\n",
              " '/content/tem/antelope/Img-11373.jpg',\n",
              " '/content/tem/antelope/Img-3955.jpg',\n",
              " '/content/tem/antelope/Img-9500.jpg',\n",
              " '/content/tem/antelope/Img-9269.jpg',\n",
              " '/content/tem/antelope/Img-10902.jpg',\n",
              " '/content/tem/antelope/Img-11600.jpg',\n",
              " '/content/tem/antelope/Img-12469.jpg',\n",
              " '/content/tem/antelope/Img-6944.jpg',\n",
              " '/content/tem/antelope/Img-11571.jpg',\n",
              " '/content/tem/antelope/Img-3289.jpg',\n",
              " '/content/tem/antelope/Img-1285.jpg',\n",
              " '/content/tem/antelope/Img-4227.jpg',\n",
              " '/content/tem/antelope/Img-4284.jpg',\n",
              " '/content/tem/antelope/Img-998.jpg',\n",
              " '/content/tem/antelope/Img-6012.jpg',\n",
              " '/content/tem/antelope/Img-1637.jpg',\n",
              " '/content/tem/antelope/Img-3634.jpg',\n",
              " '/content/tem/antelope/Img-6879.jpg',\n",
              " '/content/tem/antelope/Img-12437.jpg',\n",
              " '/content/tem/antelope/Img-2560.jpg',\n",
              " '/content/tem/antelope/Img-12309.jpg',\n",
              " '/content/tem/antelope/Img-4327.jpg',\n",
              " '/content/tem/antelope/Img-9258.jpg',\n",
              " '/content/tem/antelope/Img-12367.jpg',\n",
              " '/content/tem/antelope/Img-7060.jpg',\n",
              " '/content/tem/antelope/Img-12276.jpg',\n",
              " '/content/tem/antelope/Img-2813.jpg',\n",
              " '/content/tem/antelope/Img-1155.jpg',\n",
              " '/content/tem/antelope/Img-10195.jpg',\n",
              " '/content/tem/antelope/Img-2493.jpg',\n",
              " '/content/tem/antelope/Img-10980.jpg',\n",
              " '/content/tem/antelope/Img-3001.jpg',\n",
              " '/content/tem/antelope/Img-8791.jpg',\n",
              " '/content/tem/antelope/Img-11003.jpg',\n",
              " '/content/tem/antelope/Img-1269.jpg',\n",
              " '/content/tem/antelope/Img-6794.jpg',\n",
              " '/content/tem/antelope/Img-10304.jpg',\n",
              " '/content/tem/antelope/Img-3730.jpg',\n",
              " '/content/tem/antelope/Img-964.jpg',\n",
              " '/content/tem/antelope/Img-5168.jpg',\n",
              " '/content/tem/antelope/Img-7569.jpg',\n",
              " '/content/tem/antelope/Img-2165.jpg',\n",
              " '/content/tem/antelope/Img-1539.jpg',\n",
              " '/content/tem/antelope/Img-10016.jpg',\n",
              " '/content/tem/antelope/Img-5244.jpg',\n",
              " '/content/tem/antelope/Img-9573.jpg',\n",
              " '/content/tem/antelope/Img-11994.jpg',\n",
              " '/content/tem/antelope/Img-5320.jpg',\n",
              " '/content/tem/antelope/Img-5522.jpg',\n",
              " '/content/tem/antelope/Img-3693.jpg',\n",
              " '/content/tem/antelope/Img-10707.jpg',\n",
              " '/content/tem/antelope/Img-543.jpg',\n",
              " '/content/tem/antelope/Img-12016.jpg',\n",
              " '/content/tem/antelope/Img-7214.jpg',\n",
              " '/content/tem/antelope/Img-8506.jpg',\n",
              " '/content/tem/antelope/Img-9710.jpg',\n",
              " '/content/tem/antelope/Img-11028.jpg',\n",
              " '/content/tem/antelope/Img-2346.jpg',\n",
              " '/content/tem/antelope/Img-6465.jpg',\n",
              " '/content/tem/antelope/Img-2453.jpg',\n",
              " '/content/tem/antelope/Img-11875.jpg',\n",
              " '/content/tem/antelope/Img-9067.jpg',\n",
              " '/content/tem/antelope/Img-1623.jpg',\n",
              " '/content/tem/antelope/Img-11912.jpg',\n",
              " '/content/tem/antelope/Img-3332.jpg',\n",
              " '/content/tem/antelope/Img-7782.jpg',\n",
              " '/content/tem/antelope/Img-1535.jpg',\n",
              " '/content/tem/antelope/Img-1293.jpg',\n",
              " '/content/tem/antelope/Img-3547.jpg',\n",
              " '/content/tem/antelope/Img-4978.jpg',\n",
              " '/content/tem/antelope/Img-8109.jpg',\n",
              " '/content/tem/antelope/Img-5525.jpg',\n",
              " '/content/tem/antelope/Img-7964.jpg',\n",
              " '/content/tem/antelope/Img-4249.jpg',\n",
              " '/content/tem/antelope/Img-7724.jpg',\n",
              " '/content/tem/antelope/Img-8559.jpg',\n",
              " '/content/tem/antelope/Img-9355.jpg',\n",
              " '/content/tem/antelope/Img-202.jpg',\n",
              " '/content/tem/antelope/Img-4155.jpg',\n",
              " '/content/tem/antelope/Img-5576.jpg',\n",
              " '/content/tem/antelope/Img-9448.jpg',\n",
              " '/content/tem/antelope/Img-11341.jpg',\n",
              " '/content/tem/antelope/Img-12666.jpg',\n",
              " '/content/tem/antelope/Img-1992.jpg',\n",
              " '/content/tem/antelope/Img-9244.jpg',\n",
              " '/content/tem/antelope/Img-3975.jpg',\n",
              " '/content/tem/antelope/Img-1945.jpg',\n",
              " '/content/tem/antelope/Img-215.jpg',\n",
              " '/content/tem/antelope/Img-11909.jpg',\n",
              " '/content/tem/antelope/Img-11009.jpg',\n",
              " '/content/tem/antelope/Img-12567.jpg',\n",
              " '/content/tem/antelope/Img-10389.jpg',\n",
              " '/content/tem/antelope/Img-1642.jpg',\n",
              " '/content/tem/antelope/Img-7163.jpg',\n",
              " '/content/tem/antelope/Img-680.jpg',\n",
              " '/content/tem/antelope/Img-9924.jpg',\n",
              " '/content/tem/antelope/Img-12272.jpg',\n",
              " '/content/tem/antelope/Img-734.jpg',\n",
              " '/content/tem/antelope/Img-4023.jpg',\n",
              " '/content/tem/antelope/Img-9547.jpg',\n",
              " '/content/tem/antelope/Img-10010.jpg',\n",
              " '/content/tem/antelope/Img-7683.jpg',\n",
              " '/content/tem/antelope/Img-8234.jpg',\n",
              " '/content/tem/antelope/Img-12178.jpg',\n",
              " '/content/tem/antelope/Img-7848.jpg',\n",
              " '/content/tem/antelope/Img-9853.jpg',\n",
              " '/content/tem/antelope/Img-9417.jpg',\n",
              " '/content/tem/antelope/Img-11192.jpg',\n",
              " '/content/tem/antelope/Img-7377.jpg',\n",
              " '/content/tem/antelope/Img-4144.jpg',\n",
              " '/content/tem/antelope/Img-4741.jpg',\n",
              " '/content/tem/antelope/Img-2353.jpg',\n",
              " '/content/tem/antelope/Img-7350.jpg',\n",
              " '/content/tem/antelope/Img-1239.jpg',\n",
              " '/content/tem/antelope/Img-8752.jpg',\n",
              " '/content/tem/antelope/Img-9284.jpg',\n",
              " '/content/tem/antelope/Img-1147.jpg',\n",
              " '/content/tem/antelope/Img-1931.jpg',\n",
              " '/content/tem/antelope/Img-8966.jpg',\n",
              " '/content/tem/antelope/Img-8532.jpg',\n",
              " '/content/tem/antelope/Img-9638.jpg',\n",
              " '/content/tem/antelope/Img-12054.jpg',\n",
              " '/content/tem/antelope/Img-5591.jpg',\n",
              " '/content/tem/antelope/Img-5221.jpg',\n",
              " '/content/tem/antelope/Img-1220.jpg',\n",
              " '/content/tem/antelope/Img-2342.jpg',\n",
              " '/content/tem/antelope/Img-12056.jpg',\n",
              " '/content/tem/antelope/Img-11991.jpg',\n",
              " '/content/tem/antelope/Img-4081.jpg',\n",
              " '/content/tem/antelope/Img-6155.jpg',\n",
              " '/content/tem/antelope/Img-8287.jpg',\n",
              " '/content/tem/antelope/Img-6732.jpg',\n",
              " '/content/tem/antelope/Img-8668.jpg',\n",
              " '/content/tem/antelope/Img-4095.jpg',\n",
              " '/content/tem/antelope/Img-11589.jpg',\n",
              " '/content/tem/antelope/Img-6590.jpg',\n",
              " '/content/tem/antelope/Img-1299.jpg',\n",
              " '/content/tem/antelope/Img-7516.jpg',\n",
              " '/content/tem/antelope/Img-4056.jpg',\n",
              " '/content/tem/antelope/Img-5180.jpg',\n",
              " '/content/tem/antelope/Img-12994.jpg',\n",
              " '/content/tem/antelope/Img-12166.jpg',\n",
              " '/content/tem/antelope/Img-7170.jpg',\n",
              " '/content/tem/antelope/Img-7647.jpg',\n",
              " '/content/tem/antelope/Img-7231.jpg',\n",
              " '/content/tem/antelope/Img-5715.jpg',\n",
              " '/content/tem/antelope/Img-4662.jpg',\n",
              " '/content/tem/antelope/Img-11021.jpg',\n",
              " '/content/tem/antelope/Img-9551.jpg',\n",
              " '/content/tem/antelope/Img-11351.jpg',\n",
              " '/content/tem/antelope/Img-3393.jpg',\n",
              " '/content/tem/antelope/Img-12322.jpg',\n",
              " '/content/tem/antelope/Img-5898.jpg',\n",
              " '/content/tem/antelope/Img-6442.jpg',\n",
              " '/content/tem/antelope/Img-9406.jpg',\n",
              " '/content/tem/antelope/Img-11303.jpg',\n",
              " '/content/tem/antelope/Img-9330.jpg',\n",
              " '/content/tem/antelope/Img-11202.jpg',\n",
              " '/content/tem/antelope/Img-9054.jpg',\n",
              " '/content/tem/antelope/Img-6633.jpg',\n",
              " '/content/tem/antelope/Img-10552.jpg',\n",
              " '/content/tem/antelope/Img-8582.jpg',\n",
              " '/content/tem/antelope/Img-6550.jpg',\n",
              " '/content/tem/antelope/Img-5116.jpg',\n",
              " '/content/tem/antelope/Img-12.jpg',\n",
              " '/content/tem/antelope/Img-6395.jpg',\n",
              " '/content/tem/antelope/Img-11714.jpg',\n",
              " '/content/tem/antelope/Img-6296.jpg',\n",
              " '/content/tem/antelope/Img-11942.jpg',\n",
              " '/content/tem/antelope/Img-5270.jpg',\n",
              " '/content/tem/antelope/Img-8424.jpg',\n",
              " '/content/tem/antelope/Img-762.jpg',\n",
              " '/content/tem/antelope/Img-12540.jpg',\n",
              " '/content/tem/antelope/Img-12534.jpg',\n",
              " '/content/tem/antelope/Img-1477.jpg',\n",
              " '/content/tem/antelope/Img-11233.jpg',\n",
              " '/content/tem/antelope/Img-6015.jpg',\n",
              " '/content/tem/antelope/Img-10298.jpg',\n",
              " '/content/tem/antelope/Img-8261.jpg',\n",
              " '/content/tem/antelope/Img-7709.jpg',\n",
              " '/content/tem/antelope/Img-5086.jpg',\n",
              " '/content/tem/antelope/Img-1352.jpg',\n",
              " '/content/tem/antelope/Img-6764.jpg',\n",
              " '/content/tem/antelope/Img-12785.jpg',\n",
              " '/content/tem/antelope/Img-1724.jpg',\n",
              " '/content/tem/antelope/Img-12236.jpg',\n",
              " '/content/tem/antelope/Img-2223.jpg',\n",
              " '/content/tem/antelope/Img-7583.jpg',\n",
              " '/content/tem/antelope/Img-2122.jpg',\n",
              " '/content/tem/antelope/Img-3667.jpg',\n",
              " '/content/tem/antelope/Img-1622.jpg',\n",
              " '/content/tem/antelope/Img-4707.jpg',\n",
              " '/content/tem/antelope/Img-5201.jpg',\n",
              " '/content/tem/antelope/Img-10297.jpg',\n",
              " '/content/tem/antelope/Img-185.jpg',\n",
              " '/content/tem/antelope/Img-7057.jpg',\n",
              " '/content/tem/antelope/Img-7745.jpg',\n",
              " '/content/tem/antelope/Img-6448.jpg',\n",
              " '/content/tem/antelope/Img-11729.jpg',\n",
              " '/content/tem/antelope/Img-12213.jpg',\n",
              " '/content/tem/antelope/Img-8289.jpg',\n",
              " '/content/tem/antelope/Img-11013.jpg',\n",
              " '/content/tem/antelope/Img-1107.jpg',\n",
              " '/content/tem/antelope/Img-3541.jpg',\n",
              " '/content/tem/antelope/Img-5866.jpg',\n",
              " '/content/tem/antelope/Img-2228.jpg',\n",
              " '/content/tem/antelope/Img-7076.jpg',\n",
              " '/content/tem/antelope/Img-7457.jpg',\n",
              " '/content/tem/antelope/Img-7982.jpg',\n",
              " '/content/tem/antelope/Img-5800.jpg',\n",
              " '/content/tem/antelope/Img-9751.jpg',\n",
              " '/content/tem/antelope/Img-7749.jpg',\n",
              " '/content/tem/antelope/Img-3411.jpg',\n",
              " '/content/tem/antelope/Img-7182.jpg',\n",
              " '/content/tem/antelope/Img-9732.jpg',\n",
              " '/content/tem/antelope/Img-7069.jpg',\n",
              " '/content/tem/antelope/Img-2898.jpg',\n",
              " '/content/tem/antelope/Img-1321.jpg',\n",
              " '/content/tem/antelope/Img-12574.jpg',\n",
              " '/content/tem/antelope/Img-9845.jpg',\n",
              " '/content/tem/antelope/Img-2699.jpg',\n",
              " '/content/tem/antelope/Img-7262.jpg',\n",
              " '/content/tem/antelope/Img-7759.jpg',\n",
              " '/content/tem/antelope/Img-5735.jpg',\n",
              " '/content/tem/antelope/Img-2935.jpg',\n",
              " '/content/tem/antelope/Img-373.jpg',\n",
              " '/content/tem/antelope/Img-3692.jpg',\n",
              " '/content/tem/antelope/Img-6719.jpg',\n",
              " '/content/tem/antelope/Img-7373.jpg',\n",
              " '/content/tem/antelope/Img-12754.jpg',\n",
              " '/content/tem/antelope/Img-7919.jpg',\n",
              " '/content/tem/antelope/Img-7327.jpg',\n",
              " '/content/tem/antelope/Img-12770.jpg',\n",
              " '/content/tem/antelope/Img-4523.jpg',\n",
              " '/content/tem/antelope/Img-1868.jpg',\n",
              " '/content/tem/antelope/Img-9454.jpg',\n",
              " '/content/tem/antelope/Img-2070.jpg',\n",
              " '/content/tem/antelope/Img-1701.jpg',\n",
              " '/content/tem/antelope/Img-6594.jpg',\n",
              " '/content/tem/antelope/Img-4520.jpg',\n",
              " '/content/tem/antelope/Img-5294.jpg',\n",
              " '/content/tem/antelope/Img-11055.jpg',\n",
              " '/content/tem/antelope/Img-3630.jpg',\n",
              " '/content/tem/antelope/Img-945.jpg',\n",
              " '/content/tem/antelope/Img-11790.jpg',\n",
              " '/content/tem/antelope/Img-1482.jpg',\n",
              " '/content/tem/antelope/Img-5329.jpg',\n",
              " '/content/tem/antelope/Img-2274.jpg',\n",
              " '/content/tem/antelope/Img-4793.jpg',\n",
              " '/content/tem/antelope/Img-10765.jpg',\n",
              " '/content/tem/antelope/Img-7533.jpg',\n",
              " '/content/tem/antelope/Img-3273.jpg',\n",
              " '/content/tem/antelope/Img-4140.jpg',\n",
              " '/content/tem/antelope/Img-1307.jpg',\n",
              " '/content/tem/antelope/Img-1314.jpg',\n",
              " '/content/tem/antelope/Img-9018.jpg',\n",
              " '/content/tem/antelope/Img-12637.jpg',\n",
              " '/content/tem/antelope/Img-7590.jpg',\n",
              " '/content/tem/antelope/Img-4094.jpg',\n",
              " '/content/tem/antelope/Img-5457.jpg',\n",
              " '/content/tem/antelope/Img-7937.jpg',\n",
              " '/content/tem/antelope/Img-4807.jpg',\n",
              " '/content/tem/antelope/Img-7206.jpg',\n",
              " '/content/tem/antelope/Img-6535.jpg',\n",
              " '/content/tem/antelope/Img-2093.jpg',\n",
              " '/content/tem/antelope/Img-7873.jpg',\n",
              " '/content/tem/antelope/Img-8155.jpg',\n",
              " '/content/tem/antelope/Img-11920.jpg',\n",
              " '/content/tem/antelope/Img-10116.jpg',\n",
              " '/content/tem/antelope/Img-4616.jpg',\n",
              " '/content/tem/antelope/Img-2388.jpg',\n",
              " '/content/tem/antelope/Img-2244.jpg',\n",
              " '/content/tem/antelope/Img-5692.jpg',\n",
              " '/content/tem/antelope/Img-11750.jpg',\n",
              " '/content/tem/antelope/Img-9031.jpg',\n",
              " '/content/tem/antelope/Img-12147.jpg',\n",
              " '/content/tem/antelope/Img-8434.jpg',\n",
              " '/content/tem/antelope/Img-502.jpg',\n",
              " '/content/tem/antelope/Img-1808.jpg',\n",
              " '/content/tem/antelope/Img-9143.jpg',\n",
              " '/content/tem/antelope/Img-10175.jpg',\n",
              " '/content/tem/antelope/Img-8616.jpg',\n",
              " '/content/tem/antelope/Img-9443.jpg',\n",
              " '/content/tem/antelope/Img-6996.jpg',\n",
              " '/content/tem/antelope/Img-4356.jpg',\n",
              " '/content/tem/antelope/Img-9456.jpg',\n",
              " '/content/tem/antelope/Img-4789.jpg',\n",
              " '/content/tem/antelope/Img-6367.jpg',\n",
              " '/content/tem/antelope/Img-7532.jpg',\n",
              " '/content/tem/antelope/Img-5434.jpg',\n",
              " '/content/tem/antelope/Img-5922.jpg',\n",
              " '/content/tem/antelope/Img-10017.jpg',\n",
              " '/content/tem/antelope/Img-7526.jpg',\n",
              " '/content/tem/antelope/Img-5274.jpg',\n",
              " '/content/tem/antelope/Img-12539.jpg',\n",
              " '/content/tem/antelope/Img-11659.jpg',\n",
              " '/content/tem/antelope/Img-5870.jpg',\n",
              " '/content/tem/antelope/Img-3860.jpg',\n",
              " '/content/tem/antelope/Img-9252.jpg',\n",
              " '/content/tem/antelope/Img-2725.jpg',\n",
              " '/content/tem/antelope/Img-5072.jpg',\n",
              " '/content/tem/antelope/Img-6963.jpg',\n",
              " '/content/tem/antelope/Img-911.jpg',\n",
              " '/content/tem/antelope/Img-12403.jpg',\n",
              " '/content/tem/antelope/Img-9305.jpg',\n",
              " '/content/tem/antelope/Img-3015.jpg',\n",
              " '/content/tem/antelope/Img-12414.jpg',\n",
              " '/content/tem/antelope/Img-9821.jpg',\n",
              " '/content/tem/antelope/Img-12864.jpg',\n",
              " '/content/tem/antelope/Img-12085.jpg',\n",
              " '/content/tem/antelope/Img-12846.jpg',\n",
              " '/content/tem/antelope/Img-11099.jpg',\n",
              " '/content/tem/antelope/Img-9956.jpg',\n",
              " '/content/tem/antelope/Img-3265.jpg',\n",
              " '/content/tem/antelope/Img-4378.jpg',\n",
              " '/content/tem/antelope/Img-107.jpg',\n",
              " '/content/tem/antelope/Img-1434.jpg',\n",
              " '/content/tem/antelope/Img-8988.jpg',\n",
              " '/content/tem/antelope/Img-9192.jpg',\n",
              " '/content/tem/antelope/Img-4884.jpg',\n",
              " '/content/tem/antelope/Img-613.jpg',\n",
              " '/content/tem/antelope/Img-1563.jpg',\n",
              " '/content/tem/antelope/Img-4101.jpg',\n",
              " '/content/tem/antelope/Img-9642.jpg',\n",
              " '/content/tem/antelope/Img-6933.jpg',\n",
              " '/content/tem/antelope/Img-326.jpg',\n",
              " '/content/tem/antelope/Img-8226.jpg',\n",
              " '/content/tem/antelope/Img-12030.jpg',\n",
              " '/content/tem/antelope/Img-11767.jpg',\n",
              " '/content/tem/antelope/Img-7429.jpg',\n",
              " '/content/tem/antelope/Img-3041.jpg',\n",
              " '/content/tem/antelope/Img-2209.jpg',\n",
              " '/content/tem/antelope/Img-2612.jpg',\n",
              " '/content/tem/antelope/Img-142.jpg',\n",
              " '/content/tem/antelope/Img-9483.jpg',\n",
              " '/content/tem/antelope/Img-12968.jpg',\n",
              " '/content/tem/antelope/Img-10039.jpg',\n",
              " '/content/tem/antelope/Img-4806.jpg',\n",
              " '/content/tem/antelope/Img-6290.jpg',\n",
              " '/content/tem/antelope/Img-12079.jpg',\n",
              " '/content/tem/antelope/Img-3476.jpg',\n",
              " '/content/tem/antelope/Img-9891.jpg',\n",
              " '/content/tem/antelope/Img-3953.jpg',\n",
              " '/content/tem/antelope/Img-7454.jpg',\n",
              " '/content/tem/antelope/Img-1266.jpg',\n",
              " '/content/tem/antelope/Img-4838.jpg',\n",
              " '/content/tem/antelope/Img-7927.jpg',\n",
              " '/content/tem/antelope/Img-1565.jpg',\n",
              " '/content/tem/antelope/Img-3937.jpg',\n",
              " '/content/tem/antelope/Img-7175.jpg',\n",
              " '/content/tem/antelope/Img-9176.jpg',\n",
              " '/content/tem/antelope/Img-9788.jpg',\n",
              " '/content/tem/antelope/Img-10656.jpg',\n",
              " '/content/tem/antelope/Img-2103.jpg',\n",
              " '/content/tem/antelope/Img-5460.jpg',\n",
              " '/content/tem/antelope/Img-8478.jpg',\n",
              " '/content/tem/antelope/Img-2041.jpg',\n",
              " '/content/tem/antelope/Img-4889.jpg',\n",
              " '/content/tem/antelope/Img-1620.jpg',\n",
              " '/content/tem/antelope/Img-6391.jpg',\n",
              " '/content/tem/antelope/Img-7423.jpg',\n",
              " '/content/tem/antelope/Img-32.jpg',\n",
              " '/content/tem/antelope/Img-5767.jpg',\n",
              " '/content/tem/antelope/Img-6777.jpg',\n",
              " '/content/tem/antelope/Img-4246.jpg',\n",
              " '/content/tem/antelope/Img-3764.jpg',\n",
              " '/content/tem/antelope/Img-8749.jpg',\n",
              " '/content/tem/antelope/Img-6745.jpg',\n",
              " '/content/tem/antelope/Img-312.jpg',\n",
              " '/content/tem/antelope/Img-12011.jpg',\n",
              " '/content/tem/antelope/Img-10663.jpg',\n",
              " '/content/tem/antelope/Img-8328.jpg',\n",
              " '/content/tem/antelope/Img-747.jpg',\n",
              " '/content/tem/antelope/Img-11702.jpg',\n",
              " '/content/tem/antelope/Img-10262.jpg',\n",
              " '/content/tem/antelope/Img-9161.jpg',\n",
              " '/content/tem/antelope/Img-3651.jpg',\n",
              " '/content/tem/antelope/Img-8711.jpg',\n",
              " '/content/tem/antelope/Img-10205.jpg',\n",
              " '/content/tem/antelope/Img-2128.jpg',\n",
              " '/content/tem/antelope/Img-12279.jpg',\n",
              " '/content/tem/antelope/Img-2656.jpg',\n",
              " '/content/tem/antelope/Img-3866.jpg',\n",
              " '/content/tem/antelope/Img-4163.jpg',\n",
              " '/content/tem/antelope/Img-5689.jpg',\n",
              " '/content/tem/antelope/Img-3998.jpg',\n",
              " '/content/tem/antelope/Img-1267.jpg',\n",
              " '/content/tem/antelope/Img-4960.jpg',\n",
              " '/content/tem/antelope/Img-2298.jpg',\n",
              " '/content/tem/antelope/Img-7876.jpg',\n",
              " '/content/tem/antelope/Img-12927.jpg',\n",
              " '/content/tem/antelope/Img-5413.jpg',\n",
              " '/content/tem/antelope/Img-10996.jpg',\n",
              " '/content/tem/antelope/Img-3057.jpg',\n",
              " '/content/tem/antelope/Img-6980.jpg',\n",
              " '/content/tem/antelope/Img-9221.jpg',\n",
              " '/content/tem/antelope/Img-2387.jpg',\n",
              " '/content/tem/antelope/Img-11335.jpg',\n",
              " '/content/tem/antelope/Img-628.jpg',\n",
              " '/content/tem/antelope/Img-1444.jpg',\n",
              " '/content/tem/antelope/Img-3710.jpg',\n",
              " '/content/tem/antelope/Img-1162.jpg',\n",
              " '/content/tem/antelope/Img-1874.jpg',\n",
              " '/content/tem/antelope/Img-8718.jpg',\n",
              " '/content/tem/antelope/Img-7031.jpg',\n",
              " '/content/tem/antelope/Img-2594.jpg',\n",
              " '/content/tem/antelope/Img-1828.jpg',\n",
              " '/content/tem/antelope/Img-5802.jpg',\n",
              " '/content/tem/antelope/Img-12790.jpg',\n",
              " '/content/tem/antelope/Img-4615.jpg',\n",
              " '/content/tem/antelope/Img-8476.jpg',\n",
              " '/content/tem/antelope/Img-3186.jpg',\n",
              " '/content/tem/antelope/Img-11949.jpg',\n",
              " '/content/tem/antelope/Img-5982.jpg',\n",
              " '/content/tem/antelope/Img-11647.jpg',\n",
              " '/content/tem/antelope/Img-4122.jpg',\n",
              " '/content/tem/antelope/Img-5510.jpg',\n",
              " '/content/tem/antelope/Img-12585.jpg',\n",
              " '/content/tem/antelope/Img-12262.jpg',\n",
              " '/content/tem/weasel/Img-806.jpg',\n",
              " '/content/tem/weasel/Img-12465.jpg',\n",
              " '/content/tem/weasel/Img-5360.jpg',\n",
              " '/content/tem/weasel/Img-11180.jpg',\n",
              " '/content/tem/weasel/Img-7847.jpg',\n",
              " '/content/tem/weasel/Img-12560.jpg',\n",
              " '/content/tem/weasel/Img-10500.jpg',\n",
              " '/content/tem/weasel/Img-10074.jpg',\n",
              " '/content/tem/weasel/Img-8260.jpg',\n",
              " '/content/tem/weasel/Img-192.jpg',\n",
              " '/content/tem/weasel/Img-2001.jpg',\n",
              " '/content/tem/weasel/Img-2406.jpg',\n",
              " '/content/tem/weasel/Img-9757.jpg',\n",
              " '/content/tem/weasel/Img-614.jpg',\n",
              " '/content/tem/weasel/Img-8315.jpg',\n",
              " '/content/tem/weasel/Img-4765.jpg',\n",
              " '/content/tem/weasel/Img-4540.jpg',\n",
              " '/content/tem/weasel/Img-6911.jpg',\n",
              " '/content/tem/weasel/Img-12368.jpg',\n",
              " '/content/tem/weasel/Img-1820.jpg',\n",
              " '/content/tem/weasel/Img-12916.jpg',\n",
              " '/content/tem/weasel/Img-9567.jpg',\n",
              " '/content/tem/weasel/Img-11242.jpg',\n",
              " '/content/tem/weasel/Img-766.jpg',\n",
              " '/content/tem/weasel/Img-8681.jpg',\n",
              " '/content/tem/weasel/Img-7263.jpg',\n",
              " '/content/tem/weasel/Img-7213.jpg',\n",
              " '/content/tem/weasel/Img-6471.jpg',\n",
              " '/content/tem/weasel/Img-2870.jpg',\n",
              " '/content/tem/weasel/Img-10758.jpg',\n",
              " '/content/tem/weasel/Img-2190.jpg',\n",
              " '/content/tem/weasel/Img-5304.jpg',\n",
              " '/content/tem/weasel/Img-10947.jpg',\n",
              " '/content/tem/weasel/Img-8784.jpg',\n",
              " '/content/tem/weasel/Img-12896.jpg',\n",
              " '/content/tem/weasel/Img-2283.jpg',\n",
              " '/content/tem/weasel/Img-11948.jpg',\n",
              " '/content/tem/weasel/Img-8058.jpg',\n",
              " '/content/tem/weasel/Img-6772.jpg',\n",
              " '/content/tem/weasel/Img-2988.jpg',\n",
              " '/content/tem/weasel/Img-4107.jpg',\n",
              " '/content/tem/weasel/Img-7668.jpg',\n",
              " '/content/tem/weasel/Img-9090.jpg',\n",
              " '/content/tem/weasel/Img-12395.jpg',\n",
              " '/content/tem/weasel/Img-6120.jpg',\n",
              " '/content/tem/weasel/Img-7549.jpg',\n",
              " '/content/tem/weasel/Img-770.jpg',\n",
              " '/content/tem/weasel/Img-6665.jpg',\n",
              " '/content/tem/weasel/Img-10337.jpg',\n",
              " '/content/tem/weasel/Img-9704.jpg',\n",
              " '/content/tem/weasel/Img-6729.jpg',\n",
              " '/content/tem/weasel/Img-3912.jpg',\n",
              " '/content/tem/weasel/Img-6558.jpg',\n",
              " '/content/tem/weasel/Img-105.jpg',\n",
              " '/content/tem/weasel/Img-10721.jpg',\n",
              " '/content/tem/weasel/Img-12783.jpg',\n",
              " '/content/tem/weasel/Img-12849.jpg',\n",
              " '/content/tem/weasel/Img-7474.jpg',\n",
              " '/content/tem/weasel/Img-6398.jpg',\n",
              " '/content/tem/weasel/Img-3276.jpg',\n",
              " '/content/tem/weasel/Img-11936.jpg',\n",
              " '/content/tem/weasel/Img-11427.jpg',\n",
              " '/content/tem/weasel/Img-7475.jpg',\n",
              " '/content/tem/weasel/Img-8566.jpg',\n",
              " '/content/tem/weasel/Img-8432.jpg',\n",
              " '/content/tem/weasel/Img-5571.jpg',\n",
              " '/content/tem/weasel/Img-10840.jpg',\n",
              " '/content/tem/weasel/Img-9344.jpg',\n",
              " '/content/tem/weasel/Img-10155.jpg',\n",
              " '/content/tem/weasel/Img-276.jpg',\n",
              " '/content/tem/weasel/Img-3003.jpg',\n",
              " '/content/tem/weasel/Img-4443.jpg',\n",
              " '/content/tem/weasel/Img-3034.jpg',\n",
              " '/content/tem/weasel/Img-8300.jpg',\n",
              " '/content/tem/weasel/Img-6516.jpg',\n",
              " '/content/tem/weasel/Img-12173.jpg',\n",
              " '/content/tem/weasel/Img-5162.jpg',\n",
              " '/content/tem/weasel/Img-6140.jpg',\n",
              " '/content/tem/weasel/Img-9669.jpg',\n",
              " '/content/tem/weasel/Img-8115.jpg',\n",
              " '/content/tem/weasel/Img-7814.jpg',\n",
              " '/content/tem/weasel/Img-5520.jpg',\n",
              " '/content/tem/weasel/Img-255.jpg',\n",
              " '/content/tem/weasel/Img-6989.jpg',\n",
              " '/content/tem/weasel/Img-11671.jpg',\n",
              " '/content/tem/weasel/Img-10755.jpg',\n",
              " '/content/tem/weasel/Img-9285.jpg',\n",
              " '/content/tem/weasel/Img-12772.jpg',\n",
              " '/content/tem/weasel/Img-1881.jpg',\n",
              " '/content/tem/weasel/Img-1206.jpg',\n",
              " '/content/tem/weasel/Img-9014.jpg',\n",
              " '/content/tem/weasel/Img-1862.jpg',\n",
              " '/content/tem/weasel/Img-4031.jpg',\n",
              " '/content/tem/weasel/Img-2497.jpg',\n",
              " '/content/tem/weasel/Img-12676.jpg',\n",
              " '/content/tem/weasel/Img-7384.jpg',\n",
              " '/content/tem/weasel/Img-6065.jpg',\n",
              " '/content/tem/weasel/Img-7353.jpg',\n",
              " '/content/tem/weasel/Img-9414.jpg',\n",
              " '/content/tem/weasel/Img-6877.jpg',\n",
              " '/content/tem/weasel/Img-11810.jpg',\n",
              " '/content/tem/weasel/Img-7422.jpg',\n",
              " '/content/tem/weasel/Img-2216.jpg',\n",
              " '/content/tem/weasel/Img-2461.jpg',\n",
              " '/content/tem/weasel/Img-2400.jpg',\n",
              " '/content/tem/weasel/Img-3206.jpg',\n",
              " '/content/tem/weasel/Img-5536.jpg',\n",
              " '/content/tem/weasel/Img-1578.jpg',\n",
              " '/content/tem/weasel/Img-7955.jpg',\n",
              " '/content/tem/weasel/Img-11542.jpg',\n",
              " '/content/tem/weasel/Img-1572.jpg',\n",
              " '/content/tem/weasel/Img-591.jpg',\n",
              " '/content/tem/weasel/Img-2880.jpg',\n",
              " '/content/tem/weasel/Img-7449.jpg',\n",
              " '/content/tem/weasel/Img-916.jpg',\n",
              " '/content/tem/weasel/Img-1573.jpg',\n",
              " '/content/tem/weasel/Img-9019.jpg',\n",
              " '/content/tem/weasel/Img-4091.jpg',\n",
              " '/content/tem/weasel/Img-8416.jpg',\n",
              " '/content/tem/weasel/Img-1682.jpg',\n",
              " '/content/tem/weasel/Img-10823.jpg',\n",
              " '/content/tem/weasel/Img-11336.jpg',\n",
              " '/content/tem/weasel/Img-11160.jpg',\n",
              " '/content/tem/weasel/Img-12898.jpg',\n",
              " '/content/tem/weasel/Img-6035.jpg',\n",
              " '/content/tem/weasel/Img-12662.jpg',\n",
              " '/content/tem/weasel/Img-12374.jpg',\n",
              " '/content/tem/weasel/Img-11119.jpg',\n",
              " '/content/tem/weasel/Img-3532.jpg',\n",
              " '/content/tem/weasel/Img-5794.jpg',\n",
              " '/content/tem/weasel/Img-1993.jpg',\n",
              " '/content/tem/weasel/Img-7187.jpg',\n",
              " '/content/tem/weasel/Img-4490.jpg',\n",
              " '/content/tem/weasel/Img-10317.jpg',\n",
              " '/content/tem/weasel/Img-11546.jpg',\n",
              " '/content/tem/weasel/Img-6428.jpg',\n",
              " '/content/tem/weasel/Img-7509.jpg',\n",
              " '/content/tem/weasel/Img-12382.jpg',\n",
              " '/content/tem/weasel/Img-5972.jpg',\n",
              " '/content/tem/weasel/Img-9613.jpg',\n",
              " '/content/tem/weasel/Img-9485.jpg',\n",
              " '/content/tem/weasel/Img-917.jpg',\n",
              " '/content/tem/weasel/Img-11167.jpg',\n",
              " '/content/tem/weasel/Img-12365.jpg',\n",
              " '/content/tem/weasel/Img-9647.jpg',\n",
              " '/content/tem/weasel/Img-8233.jpg',\n",
              " '/content/tem/weasel/Img-1952.jpg',\n",
              " '/content/tem/weasel/Img-12823.jpg',\n",
              " '/content/tem/weasel/Img-8128.jpg',\n",
              " '/content/tem/weasel/Img-8676.jpg',\n",
              " '/content/tem/weasel/Img-12727.jpg',\n",
              " '/content/tem/weasel/Img-9191.jpg',\n",
              " '/content/tem/weasel/Img-11065.jpg',\n",
              " '/content/tem/weasel/Img-10161.jpg',\n",
              " '/content/tem/weasel/Img-6363.jpg',\n",
              " '/content/tem/weasel/Img-5529.jpg',\n",
              " '/content/tem/weasel/Img-5824.jpg',\n",
              " '/content/tem/weasel/Img-135.jpg',\n",
              " '/content/tem/weasel/Img-12526.jpg',\n",
              " '/content/tem/weasel/Img-6655.jpg',\n",
              " '/content/tem/weasel/Img-6917.jpg',\n",
              " '/content/tem/weasel/Img-12292.jpg',\n",
              " '/content/tem/weasel/Img-4553.jpg',\n",
              " '/content/tem/weasel/Img-2851.jpg',\n",
              " '/content/tem/weasel/Img-5818.jpg',\n",
              " '/content/tem/weasel/Img-55.jpg',\n",
              " '/content/tem/weasel/Img-7776.jpg',\n",
              " '/content/tem/weasel/Img-9940.jpg',\n",
              " '/content/tem/weasel/Img-12706.jpg',\n",
              " '/content/tem/weasel/Img-4410.jpg',\n",
              " '/content/tem/weasel/Img-3701.jpg',\n",
              " '/content/tem/weasel/Img-11761.jpg',\n",
              " '/content/tem/weasel/Img-6751.jpg',\n",
              " '/content/tem/weasel/Img-6400.jpg',\n",
              " '/content/tem/weasel/Img-12341.jpg',\n",
              " '/content/tem/weasel/Img-3351.jpg',\n",
              " '/content/tem/weasel/Img-5936.jpg',\n",
              " '/content/tem/weasel/Img-11308.jpg',\n",
              " '/content/tem/weasel/Img-8465.jpg',\n",
              " '/content/tem/weasel/Img-9495.jpg',\n",
              " '/content/tem/weasel/Img-138.jpg',\n",
              " '/content/tem/weasel/Img-12831.jpg',\n",
              " '/content/tem/weasel/Img-9775.jpg',\n",
              " '/content/tem/weasel/Img-7920.jpg',\n",
              " '/content/tem/wolf/Img-12747.jpg',\n",
              " '/content/tem/wolf/Img-1165.jpg',\n",
              " '/content/tem/wolf/Img-866.jpg',\n",
              " '/content/tem/wolf/Img-4302.jpg',\n",
              " '/content/tem/wolf/Img-11090.jpg',\n",
              " '/content/tem/wolf/Img-9907.jpg',\n",
              " '/content/tem/wolf/Img-705.jpg',\n",
              " '/content/tem/wolf/Img-9852.jpg',\n",
              " '/content/tem/wolf/Img-8345.jpg',\n",
              " '/content/tem/wolf/Img-7476.jpg',\n",
              " '/content/tem/wolf/Img-9945.jpg',\n",
              " '/content/tem/wolf/Img-3508.jpg',\n",
              " '/content/tem/wolf/Img-4536.jpg',\n",
              " '/content/tem/wolf/Img-2333.jpg',\n",
              " '/content/tem/wolf/Img-12467.jpg',\n",
              " '/content/tem/wolf/Img-11471.jpg',\n",
              " '/content/tem/wolf/Img-3427.jpg',\n",
              " '/content/tem/wolf/Img-5142.jpg',\n",
              " '/content/tem/wolf/Img-11796.jpg',\n",
              " '/content/tem/wolf/Img-1599.jpg',\n",
              " '/content/tem/wolf/Img-2116.jpg',\n",
              " '/content/tem/wolf/Img-183.jpg',\n",
              " '/content/tem/wolf/Img-6902.jpg',\n",
              " '/content/tem/wolf/Img-2755.jpg',\n",
              " '/content/tem/wolf/Img-281.jpg',\n",
              " '/content/tem/wolf/Img-10090.jpg',\n",
              " '/content/tem/wolf/Img-8577.jpg',\n",
              " '/content/tem/wolf/Img-9696.jpg',\n",
              " '/content/tem/wolf/Img-7831.jpg',\n",
              " '/content/tem/wolf/Img-1961.jpg',\n",
              " '/content/tem/wolf/Img-6995.jpg',\n",
              " '/content/tem/wolf/Img-6524.jpg',\n",
              " '/content/tem/wolf/Img-11845.jpg',\n",
              " '/content/tem/wolf/Img-6387.jpg',\n",
              " '/content/tem/wolf/Img-8570.jpg',\n",
              " '/content/tem/wolf/Img-240.jpg',\n",
              " '/content/tem/wolf/Img-9779.jpg',\n",
              " '/content/tem/wolf/Img-6264.jpg',\n",
              " '/content/tem/wolf/Img-10289.jpg',\n",
              " '/content/tem/wolf/Img-10015.jpg',\n",
              " '/content/tem/wolf/Img-9707.jpg',\n",
              " '/content/tem/wolf/Img-6716.jpg',\n",
              " '/content/tem/wolf/Img-6708.jpg',\n",
              " '/content/tem/wolf/Img-4277.jpg',\n",
              " '/content/tem/wolf/Img-6087.jpg',\n",
              " '/content/tem/wolf/Img-8106.jpg',\n",
              " '/content/tem/wolf/Img-9525.jpg',\n",
              " '/content/tem/wolf/Img-8811.jpg',\n",
              " '/content/tem/wolf/Img-12641.jpg',\n",
              " '/content/tem/wolf/Img-1406.jpg',\n",
              " '/content/tem/wolf/Img-7752.jpg',\n",
              " '/content/tem/wolf/Img-7576.jpg',\n",
              " '/content/tem/wolf/Img-8088.jpg',\n",
              " '/content/tem/wolf/Img-9086.jpg',\n",
              " '/content/tem/wolf/Img-11375.jpg',\n",
              " '/content/tem/wolf/Img-10455.jpg',\n",
              " '/content/tem/wolf/Img-4130.jpg',\n",
              " '/content/tem/wolf/Img-8204.jpg',\n",
              " '/content/tem/wolf/Img-1235.jpg',\n",
              " '/content/tem/wolf/Img-3325.jpg',\n",
              " '/content/tem/wolf/Img-11597.jpg',\n",
              " '/content/tem/wolf/Img-7802.jpg',\n",
              " '/content/tem/wolf/Img-10919.jpg',\n",
              " '/content/tem/wolf/Img-7736.jpg',\n",
              " '/content/tem/wolf/Img-1999.jpg',\n",
              " '/content/tem/wolf/Img-7221.jpg',\n",
              " '/content/tem/wolf/Img-12436.jpg',\n",
              " '/content/tem/wolf/Img-6372.jpg',\n",
              " '/content/tem/wolf/Img-11603.jpg',\n",
              " '/content/tem/wolf/Img-4754.jpg',\n",
              " '/content/tem/wolf/Img-6469.jpg',\n",
              " '/content/tem/wolf/Img-4491.jpg',\n",
              " '/content/tem/wolf/Img-8628.jpg',\n",
              " '/content/tem/wolf/Img-4592.jpg',\n",
              " '/content/tem/wolf/Img-8941.jpg',\n",
              " '/content/tem/wolf/Img-3920.jpg',\n",
              " '/content/tem/wolf/Img-9227.jpg',\n",
              " '/content/tem/wolf/Img-8843.jpg',\n",
              " '/content/tem/wolf/Img-10780.jpg',\n",
              " '/content/tem/wolf/Img-11974.jpg',\n",
              " '/content/tem/wolf/Img-8111.jpg',\n",
              " '/content/tem/wolf/Img-4394.jpg',\n",
              " '/content/tem/wolf/Img-7540.jpg',\n",
              " '/content/tem/wolf/Img-9614.jpg',\n",
              " '/content/tem/wolf/Img-9764.jpg',\n",
              " '/content/tem/wolf/Img-11990.jpg',\n",
              " '/content/tem/wolf/Img-7822.jpg',\n",
              " '/content/tem/wolf/Img-8183.jpg',\n",
              " '/content/tem/wolf/Img-10159.jpg',\n",
              " '/content/tem/wolf/Img-7038.jpg',\n",
              " '/content/tem/wolf/Img-3665.jpg',\n",
              " '/content/tem/wolf/Img-8774.jpg',\n",
              " '/content/tem/wolf/Img-649.jpg',\n",
              " '/content/tem/wolf/Img-2569.jpg',\n",
              " '/content/tem/wolf/Img-1750.jpg',\n",
              " '/content/tem/wolf/Img-6203.jpg',\n",
              " '/content/tem/wolf/Img-5530.jpg',\n",
              " '/content/tem/wolf/Img-8357.jpg',\n",
              " '/content/tem/wolf/Img-12229.jpg',\n",
              " '/content/tem/wolf/Img-1037.jpg',\n",
              " '/content/tem/wolf/Img-10474.jpg',\n",
              " '/content/tem/wolf/Img-7343.jpg',\n",
              " '/content/tem/wolf/Img-1104.jpg',\n",
              " '/content/tem/wolf/Img-10346.jpg',\n",
              " '/content/tem/wolf/Img-2356.jpg',\n",
              " '/content/tem/wolf/Img-4285.jpg',\n",
              " '/content/tem/wolf/Img-9672.jpg',\n",
              " '/content/tem/wolf/Img-8604.jpg',\n",
              " '/content/tem/wolf/Img-9210.jpg',\n",
              " '/content/tem/wolf/Img-103.jpg',\n",
              " '/content/tem/wolf/Img-9204.jpg',\n",
              " '/content/tem/wolf/Img-11432.jpg',\n",
              " '/content/tem/wolf/Img-6835.jpg',\n",
              " '/content/tem/wolf/Img-3267.jpg',\n",
              " '/content/tem/wolf/Img-5747.jpg',\n",
              " '/content/tem/wolf/Img-704.jpg',\n",
              " '/content/tem/wolf/Img-8371.jpg',\n",
              " '/content/tem/wolf/Img-11683.jpg',\n",
              " '/content/tem/wolf/Img-11027.jpg',\n",
              " '/content/tem/wolf/Img-8107.jpg',\n",
              " '/content/tem/wolf/Img-2183.jpg',\n",
              " ...]"
            ]
          },
          "metadata": {
            "tags": []
          },
          "execution_count": 19
        }
      ]
    },
    {
      "cell_type": "code",
      "metadata": {
        "trusted": true,
        "id": "ENhcQecFTVdb",
        "colab": {
          "base_uri": "https://localhost:8080/"
        },
        "outputId": "02803adc-e029-4187-877a-ed72e90af29a"
      },
      "source": [
        "#delete all files inside ./data/\n",
        "!rm -rf /content/tem/temp/\n",
        "!rmdir /content/tem/temp\n",
        "for file in os.listdir('/content/'):\n",
        "  if file!=\"tem\":\n",
        "    loc=\"/content/\"+file\n",
        "    !mv $file /content/tem/"
      ],
      "execution_count": null,
      "outputs": [
        {
          "output_type": "stream",
          "text": [
            "rmdir: failed to remove '/content/tem/temp': No such file or directory\n",
            "mv: cannot move 'wolf' to '/content/tem/wolf': Directory not empty\n",
            "mv: cannot move 'cow' to '/content/tem/cow': Directory not empty\n",
            "mv: cannot move 'moose' to '/content/tem/moose': Directory not empty\n",
            "mv: cannot move 'rhino' to '/content/tem/rhino': Directory not empty\n",
            "mv: cannot move 'horse' to '/content/tem/horse': Directory not empty\n",
            "mv: cannot move 'elephant' to '/content/tem/elephant': Directory not empty\n",
            "mv: cannot move 'walrus' to '/content/tem/walrus': Directory not empty\n",
            "mv: cannot move 'goat' to '/content/tem/goat': Directory not empty\n",
            "mv: cannot move 'hippopotamus' to '/content/tem/hippopotamus': Directory not empty\n",
            "mv: cannot move 'zebra' to '/content/tem/zebra': Directory not empty\n"
          ],
          "name": "stdout"
        }
      ]
    },
    {
      "cell_type": "code",
      "metadata": {
        "id": "wwwTa9DksHLM"
      },
      "source": [
        "for file in os.listdir('/content/'):\n",
        "  if file!=\"tem\":\n",
        "    loc=\"/content/\"+file\n",
        "    !rm -rf $file"
      ],
      "execution_count": null,
      "outputs": []
    },
    {
      "cell_type": "code",
      "metadata": {
        "trusted": true,
        "id": "wRcO0DshTVdb"
      },
      "source": [
        "!mv tem data\n"
      ],
      "execution_count": null,
      "outputs": []
    },
    {
      "cell_type": "code",
      "metadata": {
        "trusted": true,
        "id": "8NZtJBEYTVdb",
        "colab": {
          "base_uri": "https://localhost:8080/"
        },
        "outputId": "9cca55a6-f48f-4123-c68d-33259db89dca"
      },
      "source": [
        "# Remove all the redundancy from data manually.\n",
        "!cd data\n",
        "!mv /content/data/bobcat/* /content/data/cat/;mv /content/data/cats/* /content/data/cat/;mv /content/data/persian+cat/* /content/data/cat/;\n",
        "!mv /content/data/siamese+cat/* /content/data/cat/;rm -rf /content/data/bobcat/;rm -rf /content/data/cats;rm -rf /content/data/siamese+cat/;\n",
        "!rm -rf /content/data/persian+cat/;mv /content/data/dogs/* /content/data/dog;rmdir /content/data/dogs;mv /content/data/spider+monkey/* /content/data/monkey;\n",
        "!rmdir /content/data/spider+monkey;mv /content/data/german+shepherd/* /content/data/dog/;rmdir /content/data/german+shepherd;mv /content/data/grizzly+bear/* /content/data/bear/;\n",
        "!rmdir /content/data/grizzly+bear;mv /content/data/rhino/* /content/data/rhinoceros/;rmdir /content/data/rhino;rm -rf /content/data/hen;\n",
        "!rm -rf /content/data/butterfly;rm -rf /content/data/spyder;rm -rf /content/data/meta-data/meta-data/; rmdir /content/data/meta-data/meta-data;rmdir /content/data/meta-data;\n",
        "!cd ..  "
      ],
      "execution_count": null,
      "outputs": [
        {
          "output_type": "stream",
          "text": [
            "rmdir: failed to remove '/content/data/meta-data/meta-data': No such file or directory\n"
          ],
          "name": "stdout"
        }
      ]
    },
    {
      "cell_type": "code",
      "metadata": {
        "trusted": true,
        "id": "gxvcL5JATVdb"
      },
      "source": [
        "#create test data set\n",
        "os.mkdir(\"test_data\")"
      ],
      "execution_count": null,
      "outputs": []
    },
    {
      "cell_type": "code",
      "metadata": {
        "id": "GUhZAstHgolN"
      },
      "source": [
        ""
      ],
      "execution_count": null,
      "outputs": []
    },
    {
      "cell_type": "code",
      "metadata": {
        "trusted": true,
        "id": "VysCyJXOTVdb"
      },
      "source": [
        "# make dirctories inside test_data with same name as of data\n",
        "data_path='/content/data/'\n",
        "test_path='/content/test_data/'\n",
        "\n",
        "for name in os.listdir(data_path):\n",
        "    os.mkdir(test_path+name)\n",
        "  "
      ],
      "execution_count": null,
      "outputs": []
    },
    {
      "cell_type": "code",
      "metadata": {
        "id": "UREwRNnCrvy6"
      },
      "source": [
        "mv data train_data"
      ],
      "execution_count": null,
      "outputs": []
    },
    {
      "cell_type": "code",
      "metadata": {
        "colab": {
          "base_uri": "https://localhost:8080/"
        },
        "id": "4EoyXOb303iv",
        "outputId": "2cb88926-2cb8-408a-ad72-6e9f680686ee"
      },
      "source": [
        "!rm -rf /content/train_data/train_data/data/*\n",
        "!rmdir /content/train_data/train_data/data\n",
        "!rmdir /content/train_data/train_data\n",
        "\n",
        "!rm -rf /content/test_data/train_data/data/*\n",
        "!rmdir /content/test_data/train_data/data\n",
        "!rmdir /content/test_data/train_data\n",
        "\n"
      ],
      "execution_count": null,
      "outputs": [
        {
          "output_type": "stream",
          "text": [
            "rmdir: failed to remove '/content/test_data/train_data/data': No such file or directory\n",
            "rmdir: failed to remove '/content/test_data/train_data': No such file or directory\n"
          ],
          "name": "stdout"
        }
      ]
    },
    {
      "cell_type": "code",
      "metadata": {
        "trusted": true,
        "id": "COXyLXJKTVdb",
        "colab": {
          "base_uri": "https://localhost:8080/"
        },
        "outputId": "e368865c-940e-408f-a14b-1aa7a09a5353"
      },
      "source": [
        "# create test_data by taking 25% images from data\n",
        "\n",
        "total_train_images,total_test_images,total_train_classes,total_test_classes=0,0,0,0\n",
        "path=\"/content/train_data/\"\n",
        "for file in os.listdir(path):\n",
        "    if \"notebook\" not in file:\n",
        "        total_train_classes+=1\n",
        "        total_images=len(os.listdir(path+file+\"/\"))\n",
        "        test_image_count=(25/100)*total_images #25% for test and 75% for train\n",
        "        for i in range(math.ceil(test_image_count)):\n",
        "            img=random.choice(os.listdir(path+file+'/'))\n",
        "            shutil.move(path+file+'/'+img,'/content/test_data/'+file+'/')\n",
        "            #print(img)\n",
        "        print(file,total_images,math.ceil(test_image_count))\n",
        "        total_train_images+=(total_images-math.ceil(test_image_count))\n",
        "        #print(file,math.ceil(test_image_count))\n",
        "print(\"total train images are : \",total_train_images,\" and total train classes are : \",total_train_classes)"
      ],
      "execution_count": null,
      "outputs": [
        {
          "output_type": "stream",
          "text": [
            "antelope 695 174\n",
            "weasel 184 46\n",
            "panda 846 212\n",
            "wolf 403 101\n",
            "cow 1 1\n",
            "bear 1501 376\n",
            "cheetah 829 208\n",
            "killer+whale 193 49\n",
            "raccoon 346 87\n",
            "ox 501 126\n",
            "giraffe 866 217\n",
            "ostrich 810 203\n",
            "moose 476 119\n",
            "tiger 721 181\n",
            "squirel 834 209\n",
            "squirrel 808 202\n",
            "snake 874 219\n",
            "cat 2138 535\n",
            "bat 256 64\n",
            "mouse 124 31\n",
            "meerkat 858 215\n",
            "otter 519 130\n",
            "chimpanzee 477 120\n",
            "dog 1664 416\n",
            "horse 1 1\n",
            "seal 665 167\n",
            "porcupine 814 204\n",
            "rat 220 55\n",
            "rhinoceros 1229 308\n",
            "elephant 753 189\n",
            "mole 60 15\n",
            "walrus 148 37\n",
            "monkey 1034 259\n",
            "lion 806 202\n",
            "penguins 814 204\n",
            "beaver 133 34\n",
            "crocodiles 801 201\n",
            "goat 1 1\n",
            "chihuahua 386 97\n",
            "tortoise 819 205\n",
            "hippopotamus 464 116\n",
            "deer 920 230\n",
            "zebra 752 188\n",
            "buffalo 752 188\n",
            "rabbit 837 210\n",
            ".config 9 3\n",
            "kangaroo 832 208\n",
            "dalmatian 359 90\n",
            "collie 680 170\n",
            "total train images are :  23390  and total train classes are :  49\n"
          ],
          "name": "stdout"
        }
      ]
    },
    {
      "cell_type": "code",
      "metadata": {
        "id": "04M8yGw6uerN"
      },
      "source": [
        ""
      ],
      "execution_count": null,
      "outputs": []
    },
    {
      "cell_type": "code",
      "metadata": {
        "trusted": true,
        "id": "jU7RFWguTVdb"
      },
      "source": [
        "#rename data as train data\n",
        "\n",
        "#!mv data train_data"
      ],
      "execution_count": null,
      "outputs": []
    },
    {
      "cell_type": "code",
      "metadata": {
        "trusted": true,
        "id": "ViiAjsx5TVdb"
      },
      "source": [
        ""
      ],
      "execution_count": null,
      "outputs": []
    },
    {
      "cell_type": "code",
      "metadata": {
        "trusted": true,
        "id": "sGexYfdYTVdb"
      },
      "source": [
        "#Total images in train_data = 24521 \n",
        "#Total images in test_data = 17520 "
      ],
      "execution_count": null,
      "outputs": []
    },
    {
      "cell_type": "markdown",
      "metadata": {
        "id": "ZBNhp3loTVdb"
      },
      "source": [
        "## Task 3: Model Creation"
      ]
    },
    {
      "cell_type": "code",
      "metadata": {
        "trusted": true,
        "id": "ZWeOPIbeTVdb"
      },
      "source": [
        ""
      ],
      "execution_count": null,
      "outputs": []
    },
    {
      "cell_type": "code",
      "metadata": {
        "trusted": true,
        "id": "f8j-Tg8nTVdb"
      },
      "source": [
        "model = Sequential()"
      ],
      "execution_count": null,
      "outputs": []
    },
    {
      "cell_type": "code",
      "metadata": {
        "trusted": true,
        "id": "tk28GqY3TVdb"
      },
      "source": [
        "#inputlayer : apply filters\n",
        "model.add(Convolution2D(filters=32, \n",
        "                        kernel_size=(3,3), \n",
        "                        activation='relu',\n",
        "                   input_shape=(64, 64, 3)\n",
        "                       ))"
      ],
      "execution_count": null,
      "outputs": []
    },
    {
      "cell_type": "code",
      "metadata": {
        "trusted": true,
        "id": "JdgVt1AGTVdb"
      },
      "source": [
        "# pooling layer where we are doing maxpooling\n",
        "model.add(MaxPooling2D(pool_size=(2, 2)))"
      ],
      "execution_count": null,
      "outputs": []
    },
    {
      "cell_type": "code",
      "metadata": {
        "trusted": true,
        "id": "F3dvdKVATVdb"
      },
      "source": [
        "#adding one more convolution layer for better model\n",
        "model.add(Convolution2D(filters=32, \n",
        "                        kernel_size=(3,3), \n",
        "                        activation='relu',\n",
        "                       ))"
      ],
      "execution_count": null,
      "outputs": []
    },
    {
      "cell_type": "code",
      "metadata": {
        "trusted": true,
        "id": "L_EWOO4_TVdb"
      },
      "source": [
        "#adding one more Pooling layer for better model\n",
        "model.add(MaxPooling2D(pool_size=(2, 2)))"
      ],
      "execution_count": null,
      "outputs": []
    },
    {
      "cell_type": "code",
      "metadata": {
        "trusted": true,
        "id": "RzeEFGxqTVdb"
      },
      "source": [
        "#adding one more convolution layer for better model\n",
        "model.add(Convolution2D(filters=32, \n",
        "                        kernel_size=(3,3), \n",
        "                        activation='relu',\n",
        "                       ))"
      ],
      "execution_count": null,
      "outputs": []
    },
    {
      "cell_type": "code",
      "metadata": {
        "trusted": true,
        "id": "ZSN8KpXTTVdb"
      },
      "source": [
        "#adding one more Pooling layer for better model\n",
        "model.add(MaxPooling2D(pool_size=(2, 2)))"
      ],
      "execution_count": null,
      "outputs": []
    },
    {
      "cell_type": "code",
      "metadata": {
        "trusted": true,
        "id": "tA6KLdxGTVdb"
      },
      "source": [
        "#layer in which we are converting 2d/3d image to 1d image i.e flattening\n",
        "model.add(Flatten())"
      ],
      "execution_count": null,
      "outputs": []
    },
    {
      "cell_type": "code",
      "metadata": {
        "trusted": true,
        "id": "4vxT162YTVdc"
      },
      "source": [
        "# layer: appling relu to give positive output from here our hidden layerrs starts\n",
        "model.add(Dense(units=256, activation='relu'))"
      ],
      "execution_count": null,
      "outputs": []
    },
    {
      "cell_type": "code",
      "metadata": {
        "trusted": true,
        "id": "k8dS0R9WTVdc"
      },
      "source": [
        "# layer: appling relu to give positive output from here our hidden layerrs starts\n",
        "model.add(Dense(units=128, activation='relu'))"
      ],
      "execution_count": null,
      "outputs": []
    },
    {
      "cell_type": "code",
      "metadata": {
        "trusted": true,
        "id": "PpA-sdLrTVdc"
      },
      "source": [
        "# layer: appling relu to give positive output from here our hidden layerrs starts\n",
        "model.add(Dense(units=64, activation='relu'))"
      ],
      "execution_count": null,
      "outputs": []
    },
    {
      "cell_type": "code",
      "metadata": {
        "trusted": true,
        "id": "zhVeaTXfTVdc"
      },
      "source": [
        "# output layer : Since we have to do multi-class classification so we'll apply softmax activation function \n",
        "# we have 49  classes of animals so output layer would have that many neurons.\n",
        "model.add(Dense(units=49, activation='softmax'))"
      ],
      "execution_count": null,
      "outputs": []
    },
    {
      "cell_type": "code",
      "metadata": {
        "trusted": true,
        "id": "jir90DtbTVdc"
      },
      "source": [
        "model.compile(optimizer='adam', loss='categorical_crossentropy', metrics=['accuracy'])"
      ],
      "execution_count": null,
      "outputs": []
    },
    {
      "cell_type": "code",
      "metadata": {
        "trusted": true,
        "id": "Ex886ryATVdc",
        "colab": {
          "base_uri": "https://localhost:8080/"
        },
        "outputId": "7adac518-65bb-4274-e9a3-03199708ab94"
      },
      "source": [
        "model.summary()"
      ],
      "execution_count": null,
      "outputs": [
        {
          "output_type": "stream",
          "text": [
            "Model: \"sequential\"\n",
            "_________________________________________________________________\n",
            "Layer (type)                 Output Shape              Param #   \n",
            "=================================================================\n",
            "conv2d (Conv2D)              (None, 62, 62, 32)        896       \n",
            "_________________________________________________________________\n",
            "max_pooling2d (MaxPooling2D) (None, 31, 31, 32)        0         \n",
            "_________________________________________________________________\n",
            "conv2d_1 (Conv2D)            (None, 29, 29, 32)        9248      \n",
            "_________________________________________________________________\n",
            "max_pooling2d_1 (MaxPooling2 (None, 14, 14, 32)        0         \n",
            "_________________________________________________________________\n",
            "conv2d_2 (Conv2D)            (None, 12, 12, 32)        9248      \n",
            "_________________________________________________________________\n",
            "max_pooling2d_2 (MaxPooling2 (None, 6, 6, 32)          0         \n",
            "_________________________________________________________________\n",
            "flatten (Flatten)            (None, 1152)              0         \n",
            "_________________________________________________________________\n",
            "dense (Dense)                (None, 256)               295168    \n",
            "_________________________________________________________________\n",
            "dense_1 (Dense)              (None, 128)               32896     \n",
            "_________________________________________________________________\n",
            "dense_2 (Dense)              (None, 64)                8256      \n",
            "_________________________________________________________________\n",
            "dense_3 (Dense)              (None, 49)                3185      \n",
            "=================================================================\n",
            "Total params: 358,897\n",
            "Trainable params: 358,897\n",
            "Non-trainable params: 0\n",
            "_________________________________________________________________\n"
          ],
          "name": "stdout"
        }
      ]
    },
    {
      "cell_type": "markdown",
      "metadata": {
        "id": "60nQyhnlTVdc"
      },
      "source": [
        "## Task 4: Image Augmentation"
      ]
    },
    {
      "cell_type": "code",
      "metadata": {
        "trusted": true,
        "id": "a6KDDyhmTVdc",
        "colab": {
          "base_uri": "https://localhost:8080/"
        },
        "outputId": "afa7ddae-87a1-4bff-f4a5-7a4ece3bf094"
      },
      "source": [
        "#url : https://keras.io/api/preprocessing/image/ \n",
        "train_datagen = ImageDataGenerator(\n",
        "        rescale=1./255,\n",
        "        shear_range=0.2,\n",
        "        zoom_range=0.2,\n",
        "        horizontal_flip=True)\n",
        "test_datagen = ImageDataGenerator(rescale=1./255)\n",
        "training_set = train_datagen.flow_from_directory(\n",
        "        '/content/train_data/',\n",
        "        target_size=(64,64),\n",
        "        batch_size=32,\n",
        "        class_mode='categorical')\n",
        "test_set = test_datagen.flow_from_directory(\n",
        "        '/content/test_data/',\n",
        "        target_size=(64,64),\n",
        "        batch_size=32,\n",
        "        class_mode='categorical')"
      ],
      "execution_count": null,
      "outputs": [
        {
          "output_type": "stream",
          "text": [
            "Found 23701 images belonging to 49 classes.\n",
            "Found 18340 images belonging to 49 classes.\n"
          ],
          "name": "stdout"
        }
      ]
    },
    {
      "cell_type": "code",
      "metadata": {
        "trusted": true,
        "id": "H_57kEChTVdc",
        "colab": {
          "base_uri": "https://localhost:8080/"
        },
        "outputId": "4032532f-a5af-423a-f6d8-9ae126c9ed94"
      },
      "source": [
        "training_set.class_indices # to see classes of our dataset"
      ],
      "execution_count": null,
      "outputs": [
        {
          "output_type": "execute_result",
          "data": {
            "text/plain": [
              "{'.config': 0,\n",
              " 'antelope': 1,\n",
              " 'bat': 2,\n",
              " 'bear': 3,\n",
              " 'beaver': 4,\n",
              " 'buffalo': 5,\n",
              " 'cat': 6,\n",
              " 'cheetah': 7,\n",
              " 'chihuahua': 8,\n",
              " 'chimpanzee': 9,\n",
              " 'collie': 10,\n",
              " 'cow': 11,\n",
              " 'crocodiles': 12,\n",
              " 'dalmatian': 13,\n",
              " 'deer': 14,\n",
              " 'dog': 15,\n",
              " 'elephant': 16,\n",
              " 'giraffe': 17,\n",
              " 'goat': 18,\n",
              " 'hippopotamus': 19,\n",
              " 'horse': 20,\n",
              " 'kangaroo': 21,\n",
              " 'killer+whale': 22,\n",
              " 'lion': 23,\n",
              " 'meerkat': 24,\n",
              " 'mole': 25,\n",
              " 'monkey': 26,\n",
              " 'moose': 27,\n",
              " 'mouse': 28,\n",
              " 'ostrich': 29,\n",
              " 'otter': 30,\n",
              " 'ox': 31,\n",
              " 'panda': 32,\n",
              " 'penguins': 33,\n",
              " 'porcupine': 34,\n",
              " 'rabbit': 35,\n",
              " 'raccoon': 36,\n",
              " 'rat': 37,\n",
              " 'rhinoceros': 38,\n",
              " 'seal': 39,\n",
              " 'snake': 40,\n",
              " 'squirel': 41,\n",
              " 'squirrel': 42,\n",
              " 'tiger': 43,\n",
              " 'tortoise': 44,\n",
              " 'walrus': 45,\n",
              " 'weasel': 46,\n",
              " 'wolf': 47,\n",
              " 'zebra': 48}"
            ]
          },
          "metadata": {
            "tags": []
          },
          "execution_count": 47
        }
      ]
    },
    {
      "cell_type": "code",
      "metadata": {
        "trusted": true,
        "id": "SxNUWd2qTVdd"
      },
      "source": [
        ""
      ],
      "execution_count": null,
      "outputs": []
    },
    {
      "cell_type": "markdown",
      "metadata": {
        "id": "txX70wuOTVdd"
      },
      "source": [
        "## Task 5: Model Training"
      ]
    },
    {
      "cell_type": "code",
      "metadata": {
        "trusted": true,
        "id": "G64XbPI_TVde",
        "colab": {
          "base_uri": "https://localhost:8080/"
        },
        "outputId": "7a49580a-7f71-4ff2-c3a6-54509fdcea61"
      },
      "source": [
        "history = model.fit(\n",
        "        training_set,\n",
        "        steps_per_epoch=(23701/32),\n",
        "        epochs=100,\n",
        "        validation_data=test_set,\n",
        "        validation_steps=(18340/32))\n",
        "#Total images in train_data = 24521 \n",
        "#Total images in test_data = 17520 \n",
        "#epoch=100"
      ],
      "execution_count": null,
      "outputs": [
        {
          "output_type": "stream",
          "text": [
            "Epoch 1/100\n",
            "270/740 [=========>....................] - ETA: 2:26 - loss: 3.1558 - accuracy: 0.1664"
          ],
          "name": "stdout"
        },
        {
          "output_type": "stream",
          "text": [
            "/usr/local/lib/python3.6/dist-packages/PIL/TiffImagePlugin.py:788: UserWarning: Corrupt EXIF data.  Expecting to read 4 bytes but only got 0. \n",
            "  warnings.warn(str(msg))\n"
          ],
          "name": "stderr"
        },
        {
          "output_type": "stream",
          "text": [
            "741/740 [==============================] - 349s 471ms/step - loss: 3.0794 - accuracy: 0.1834 - val_loss: 7.5556 - val_accuracy: 0.0857\n",
            "Epoch 2/100\n",
            "741/740 [==============================] - 309s 417ms/step - loss: 2.8898 - accuracy: 0.2245 - val_loss: 7.7186 - val_accuracy: 0.1248\n",
            "Epoch 3/100\n",
            "741/740 [==============================] - 311s 419ms/step - loss: 2.7504 - accuracy: 0.2583 - val_loss: 8.0919 - val_accuracy: 0.0905\n",
            "Epoch 4/100\n",
            "741/740 [==============================] - 295s 398ms/step - loss: 2.6512 - accuracy: 0.2774 - val_loss: 8.9076 - val_accuracy: 0.1290\n",
            "Epoch 5/100\n",
            "741/740 [==============================] - 294s 396ms/step - loss: 2.5673 - accuracy: 0.3000 - val_loss: 8.2120 - val_accuracy: 0.1357\n",
            "Epoch 6/100\n",
            "741/740 [==============================] - 292s 394ms/step - loss: 2.4882 - accuracy: 0.3184 - val_loss: 8.6966 - val_accuracy: 0.1319\n",
            "Epoch 7/100\n",
            "741/740 [==============================] - 299s 404ms/step - loss: 2.4232 - accuracy: 0.3320 - val_loss: 10.1839 - val_accuracy: 0.1363\n",
            "Epoch 8/100\n",
            "741/740 [==============================] - 306s 413ms/step - loss: 2.3573 - accuracy: 0.3493 - val_loss: 9.4533 - val_accuracy: 0.1468\n",
            "Epoch 9/100\n",
            "741/740 [==============================] - 310s 418ms/step - loss: 2.3081 - accuracy: 0.3625 - val_loss: 9.7709 - val_accuracy: 0.1293\n",
            "Epoch 10/100\n",
            "741/740 [==============================] - 309s 417ms/step - loss: 2.2560 - accuracy: 0.3754 - val_loss: 11.5011 - val_accuracy: 0.1383\n",
            "Epoch 11/100\n",
            "741/740 [==============================] - 316s 427ms/step - loss: 2.2175 - accuracy: 0.3847 - val_loss: 9.3078 - val_accuracy: 0.1412\n",
            "Epoch 12/100\n",
            "741/740 [==============================] - 319s 430ms/step - loss: 2.1764 - accuracy: 0.3939 - val_loss: 11.0956 - val_accuracy: 0.1369\n",
            "Epoch 13/100\n",
            "741/740 [==============================] - 319s 431ms/step - loss: 2.1266 - accuracy: 0.4072 - val_loss: 11.4282 - val_accuracy: 0.1403\n",
            "Epoch 14/100\n",
            "741/740 [==============================] - 319s 430ms/step - loss: 2.1001 - accuracy: 0.4148 - val_loss: 10.8540 - val_accuracy: 0.1496\n",
            "Epoch 15/100\n",
            "741/740 [==============================] - 318s 430ms/step - loss: 2.0650 - accuracy: 0.4220 - val_loss: 12.1866 - val_accuracy: 0.1711\n",
            "Epoch 16/100\n",
            "741/740 [==============================] - 320s 432ms/step - loss: 2.0250 - accuracy: 0.4295 - val_loss: 12.1560 - val_accuracy: 0.1462\n",
            "Epoch 17/100\n",
            "741/740 [==============================] - 317s 427ms/step - loss: 2.0015 - accuracy: 0.4371 - val_loss: 12.3803 - val_accuracy: 0.1527\n",
            "Epoch 18/100\n",
            "741/740 [==============================] - 317s 428ms/step - loss: 1.9638 - accuracy: 0.4456 - val_loss: 13.0271 - val_accuracy: 0.1539\n",
            "Epoch 19/100\n",
            "741/740 [==============================] - 320s 432ms/step - loss: 1.9292 - accuracy: 0.4574 - val_loss: 12.8285 - val_accuracy: 0.1475\n",
            "Epoch 20/100\n",
            "741/740 [==============================] - 322s 434ms/step - loss: 1.9149 - accuracy: 0.4578 - val_loss: 12.4959 - val_accuracy: 0.1701\n",
            "Epoch 21/100\n",
            "741/740 [==============================] - 321s 433ms/step - loss: 1.8758 - accuracy: 0.4699 - val_loss: 13.6507 - val_accuracy: 0.1530\n",
            "Epoch 22/100\n",
            "741/740 [==============================] - 319s 431ms/step - loss: 1.8717 - accuracy: 0.4683 - val_loss: 13.8370 - val_accuracy: 0.1557\n",
            "Epoch 23/100\n",
            "741/740 [==============================] - 325s 438ms/step - loss: 1.8396 - accuracy: 0.4774 - val_loss: 14.8281 - val_accuracy: 0.1517\n",
            "Epoch 24/100\n",
            "741/740 [==============================] - 321s 434ms/step - loss: 1.8059 - accuracy: 0.4861 - val_loss: 14.2253 - val_accuracy: 0.1670\n",
            "Epoch 25/100\n",
            "741/740 [==============================] - 319s 431ms/step - loss: 1.7964 - accuracy: 0.4847 - val_loss: 16.4515 - val_accuracy: 0.1467\n",
            "Epoch 26/100\n",
            "741/740 [==============================] - 323s 436ms/step - loss: 1.7721 - accuracy: 0.4978 - val_loss: 14.9649 - val_accuracy: 0.1505\n",
            "Epoch 27/100\n",
            "741/740 [==============================] - 319s 430ms/step - loss: 1.7438 - accuracy: 0.4999 - val_loss: 15.4482 - val_accuracy: 0.1533\n",
            "Epoch 28/100\n",
            "741/740 [==============================] - 315s 425ms/step - loss: 1.7251 - accuracy: 0.5067 - val_loss: 15.3466 - val_accuracy: 0.1689\n",
            "Epoch 29/100\n",
            "741/740 [==============================] - 314s 423ms/step - loss: 1.7133 - accuracy: 0.5066 - val_loss: 15.2649 - val_accuracy: 0.1758\n",
            "Epoch 30/100\n",
            "741/740 [==============================] - 318s 429ms/step - loss: 1.6891 - accuracy: 0.5160 - val_loss: 16.7364 - val_accuracy: 0.1480\n",
            "Epoch 31/100\n",
            "741/740 [==============================] - 322s 435ms/step - loss: 1.6654 - accuracy: 0.5193 - val_loss: 16.4489 - val_accuracy: 0.1626\n",
            "Epoch 32/100\n",
            "741/740 [==============================] - 322s 434ms/step - loss: 1.6579 - accuracy: 0.5208 - val_loss: 16.6208 - val_accuracy: 0.1716\n",
            "Epoch 33/100\n",
            "741/740 [==============================] - 323s 436ms/step - loss: 1.6371 - accuracy: 0.5239 - val_loss: 16.4795 - val_accuracy: 0.1698\n",
            "Epoch 34/100\n",
            "741/740 [==============================] - 323s 436ms/step - loss: 1.6129 - accuracy: 0.5346 - val_loss: 16.8992 - val_accuracy: 0.1502\n",
            "Epoch 35/100\n",
            "741/740 [==============================] - 319s 430ms/step - loss: 1.6126 - accuracy: 0.5347 - val_loss: 16.3089 - val_accuracy: 0.1678\n",
            "Epoch 36/100\n",
            "741/740 [==============================] - 321s 433ms/step - loss: 1.5925 - accuracy: 0.5453 - val_loss: 17.0519 - val_accuracy: 0.1589\n",
            "Epoch 37/100\n",
            "741/740 [==============================] - 320s 432ms/step - loss: 1.5765 - accuracy: 0.5431 - val_loss: 17.8394 - val_accuracy: 0.1705\n",
            "Epoch 38/100\n",
            "741/740 [==============================] - 321s 434ms/step - loss: 1.5516 - accuracy: 0.5502 - val_loss: 17.4676 - val_accuracy: 0.1521\n",
            "Epoch 39/100\n",
            "741/740 [==============================] - 317s 428ms/step - loss: 1.5327 - accuracy: 0.5556 - val_loss: 17.6021 - val_accuracy: 0.1667\n",
            "Epoch 40/100\n",
            "741/740 [==============================] - 303s 410ms/step - loss: 1.5409 - accuracy: 0.5523 - val_loss: 16.8189 - val_accuracy: 0.1713\n",
            "Epoch 41/100\n",
            "741/740 [==============================] - 314s 423ms/step - loss: 1.5178 - accuracy: 0.5592 - val_loss: 17.7614 - val_accuracy: 0.1490\n",
            "Epoch 42/100\n",
            "741/740 [==============================] - 312s 422ms/step - loss: 1.5306 - accuracy: 0.5557 - val_loss: 17.7731 - val_accuracy: 0.1724\n",
            "Epoch 43/100\n",
            "741/740 [==============================] - 299s 403ms/step - loss: 1.4959 - accuracy: 0.5646 - val_loss: 17.6538 - val_accuracy: 0.1603\n",
            "Epoch 44/100\n",
            "741/740 [==============================] - 301s 406ms/step - loss: 1.4619 - accuracy: 0.5739 - val_loss: 19.9117 - val_accuracy: 0.1457\n",
            "Epoch 45/100\n",
            "408/740 [===============>..............] - ETA: 1:37 - loss: 1.4457 - accuracy: 0.5797"
          ],
          "name": "stdout"
        }
      ]
    },
    {
      "cell_type": "code",
      "metadata": {
        "trusted": true,
        "id": "ms2d7X93TVde"
      },
      "source": [
        ""
      ],
      "execution_count": null,
      "outputs": []
    },
    {
      "cell_type": "markdown",
      "metadata": {
        "id": "aC0FVyKuTVde"
      },
      "source": [
        "## Task 6: Accuracy"
      ]
    },
    {
      "cell_type": "code",
      "metadata": {
        "trusted": true,
        "id": "Wu9M-AaRTVde"
      },
      "source": [
        "finalAccuracy = history.history[\"accuracy\"]\n",
        "finalAccuracy"
      ],
      "execution_count": null,
      "outputs": []
    },
    {
      "cell_type": "code",
      "metadata": {
        "trusted": true,
        "id": "MmNM9U4tTVde"
      },
      "source": [
        "#Graphing our training and validation\n",
        "accuracy = history.history['accuracy']\n",
        "val_accuracy = history.history['val_accuracy']\n",
        "loss = history.history['loss']\n",
        "val_loss = history.history['val_loss']\n",
        "epochs = range(len(accuracy))\n",
        "plt.plot(epochs, accuracy, 'r', label='Training acc')\n",
        "plt.plot(epochs, val_accuracy, 'b', label='Validation acc')\n",
        "plt.title('Training and validation accuracy')\n",
        "plt.ylabel('accuracy') \n",
        "plt.xlabel('epoch')\n",
        "plt.legend()\n",
        "plt.figure()\n",
        "plt.plot(epochs, loss, 'r', label='Training loss')\n",
        "plt.plot(epochs, val_loss, 'b', label='Validation loss')\n",
        "plt.title('Training and validation loss')\n",
        "plt.ylabel('loss') \n",
        "plt.xlabel('epoch')\n",
        "plt.legend()\n",
        "plt.show()"
      ],
      "execution_count": null,
      "outputs": []
    },
    {
      "cell_type": "code",
      "metadata": {
        "trusted": true,
        "id": "nENx26iITVde"
      },
      "source": [
        ""
      ],
      "execution_count": null,
      "outputs": []
    },
    {
      "cell_type": "code",
      "metadata": {
        "trusted": true,
        "id": "aFmVvSjkTVde"
      },
      "source": [
        "model.save(\"animal_classification_model.h5\")#save model"
      ],
      "execution_count": null,
      "outputs": []
    },
    {
      "cell_type": "code",
      "metadata": {
        "trusted": true,
        "id": "fZ1pAh8XTVde"
      },
      "source": [
        ""
      ],
      "execution_count": null,
      "outputs": []
    },
    {
      "cell_type": "code",
      "metadata": {
        "trusted": true,
        "id": "8WH1BoXbTVde"
      },
      "source": [
        ""
      ],
      "execution_count": null,
      "outputs": []
    },
    {
      "cell_type": "code",
      "metadata": {
        "trusted": true,
        "id": "yjS9Ur54TVde"
      },
      "source": [
        "from keras.preprocessing import image\n",
        "test_image = image.load_img(\"../input/animal-classification/butterfly/butterfly/buttefly.1001.jpeg\",target_size=(64,64))\n",
        "test_image \n"
      ],
      "execution_count": null,
      "outputs": []
    },
    {
      "cell_type": "code",
      "metadata": {
        "trusted": true,
        "id": "V5BuM2-yTVde"
      },
      "source": [
        "test_image = image.img_to_array(test_image)\n",
        "test_image = np.expand_dims(test_image,axis=0)"
      ],
      "execution_count": null,
      "outputs": []
    },
    {
      "cell_type": "code",
      "metadata": {
        "trusted": true,
        "id": "38j_lDVPTVde"
      },
      "source": [
        "result = model.predict(test_image)\n",
        "\n",
        "my_dict=training_set.class_indices\n",
        "def get_key(val): \n",
        "    for key, value in my_dict.items(): \n",
        "         if val == value: \n",
        "             return key \n",
        "  \n",
        "    return \"key doesn't exist\"\n",
        "\n",
        "pred=list(result[0])\n",
        "for i in range(len(pred)):\n",
        "    if pred[i]!=0:\n",
        "        print(get_key(i))"
      ],
      "execution_count": null,
      "outputs": []
    },
    {
      "cell_type": "code",
      "metadata": {
        "trusted": true,
        "id": "1GAEV8fxTVde"
      },
      "source": [
        "\n",
        "import os\n",
        "import torch\n",
        "import torch.nn as nn\n",
        "import torch.nn.functional as F\n",
        "import torchvision.models as models\n",
        "from torchvision.datasets import ImageFolder\n",
        "from torchvision.transforms import ToTensor\n",
        "from torchvision.utils import make_grid\n",
        "from torch.utils.data import random_split\n",
        "from torch.utils.data.dataloader import DataLoader\n",
        "import matplotlib.pyplot as plt\n",
        "%matplotlib inline\n",
        "dataset1 = ImageFolder('./train_data/', transform=ToTensor())\n",
        "print('Size of training dataset :', len(dataset1))\n",
        "dataset2 = ImageFolder('./test_data/', transform=ToTensor())\n",
        "print('Size of test dataset :', len(dataset2))"
      ],
      "execution_count": null,
      "outputs": []
    },
    {
      "cell_type": "code",
      "metadata": {
        "trusted": true,
        "id": "BMF5kIi9TVde"
      },
      "source": [
        ""
      ],
      "execution_count": null,
      "outputs": []
    },
    {
      "cell_type": "code",
      "metadata": {
        "trusted": true,
        "id": "cN9vlDbQTVde"
      },
      "source": [
        ""
      ],
      "execution_count": null,
      "outputs": []
    }
  ]
}