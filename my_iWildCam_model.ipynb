{
  "nbformat": 4,
  "nbformat_minor": 0,
  "metadata": {
    "accelerator": "GPU",
    "colab": {
      "name": "iWildCam.ipynb",
      "provenance": [],
      "collapsed_sections": []
    },
    "kernelspec": {
      "display_name": "Python 3",
      "language": "python",
      "name": "python3"
    },
    "language_info": {
      "codemirror_mode": {
        "name": "ipython",
        "version": 3
      },
      "file_extension": ".py",
      "mimetype": "text/x-python",
      "name": "python",
      "nbconvert_exporter": "python",
      "pygments_lexer": "ipython3",
      "version": "3.7.6"
    }
  },
  "cells": [
    {
      "cell_type": "markdown",
      "metadata": {
        "id": "f7PwkZYqTVdX"
      },
      "source": [
        "## Task 1: Importing Libraries"
      ]
    },
    {
      "cell_type": "code",
      "metadata": {
        "colab": {
          "base_uri": "https://localhost:8080/"
        },
        "id": "hg441YflTVdY",
        "outputId": "1c76a430-ec1d-4adf-a2e4-5ea7ee953a30"
      },
      "source": [
        "import keras\n",
        "import os\n",
        "import shutil\n",
        "import numpy as np\n",
        "import math\n",
        "import random\n",
        "import matplotlib.pyplot as plt\n",
        "import seaborn as sns\n",
        "sns.set()\n",
        "from platform import python_version\n",
        "import cv2\n",
        "from keras.preprocessing.image import load_img\n",
        "from keras.preprocessing.image import save_img\n",
        "\n",
        "print('Python version:', python_version())\n",
        "print('Numpy version:', np.__version__)\n",
        "print('Seaborn version:', sns.__version__)\n",
        "from distutils.dir_util import copy_tree\n",
        "#!rm -rf /content/*"
      ],
      "execution_count": 1,
      "outputs": [
        {
          "output_type": "stream",
          "text": [
            "Python version: 3.6.9\n",
            "Numpy version: 1.18.5\n",
            "Seaborn version: 0.11.0\n"
          ],
          "name": "stdout"
        }
      ]
    },
    {
      "cell_type": "code",
      "metadata": {
        "id": "habuI1bfTVda"
      },
      "source": [
        "from keras.layers import Convolution2D\n",
        "from keras.layers import MaxPooling2D\n",
        "from keras.layers import Flatten\n",
        "from keras.layers import Dense\n",
        "from keras.models import Sequential\n",
        "from keras.layers import Dropout\n",
        "from keras_preprocessing.image import ImageDataGenerator"
      ],
      "execution_count": 2,
      "outputs": []
    },
    {
      "cell_type": "markdown",
      "metadata": {
        "id": "GiSoki39TVda"
      },
      "source": [
        "## Task 2: Dataset Creation"
      ]
    },
    {
      "cell_type": "code",
      "metadata": {
        "colab": {
          "resources": {
            "http://localhost:8080/nbextensions/google.colab/files.js": {
              "data": "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",
              "ok": true,
              "headers": [
                [
                  "content-type",
                  "application/javascript"
                ]
              ],
              "status": 200,
              "status_text": ""
            }
          },
          "base_uri": "https://localhost:8080/",
          "height": 109
        },
        "id": "wjImpamyTaCN",
        "outputId": "eca9a4e1-7d4a-4de1-b5ef-252c37b7c936"
      },
      "source": [
        "#Loading my kaggle API Key\n",
        "from google.colab import files\n",
        "files.upload()"
      ],
      "execution_count": 3,
      "outputs": [
        {
          "output_type": "display_data",
          "data": {
            "text/html": [
              "\n",
              "     <input type=\"file\" id=\"files-6fe2cbc4-c1f9-4c05-a953-5eb5cbe90512\" name=\"files[]\" multiple disabled\n",
              "        style=\"border:none\" />\n",
              "     <output id=\"result-6fe2cbc4-c1f9-4c05-a953-5eb5cbe90512\">\n",
              "      Upload widget is only available when the cell has been executed in the\n",
              "      current browser session. Please rerun this cell to enable.\n",
              "      </output>\n",
              "      <script src=\"/nbextensions/google.colab/files.js\"></script> "
            ],
            "text/plain": [
              "<IPython.core.display.HTML object>"
            ]
          },
          "metadata": {
            "tags": []
          }
        },
        {
          "output_type": "stream",
          "text": [
            "Saving kaggle.json to kaggle.json\n"
          ],
          "name": "stdout"
        },
        {
          "output_type": "execute_result",
          "data": {
            "text/plain": [
              "{'kaggle.json': b'{\"username\":\"rajansh87\",\"key\":\"792ad04bb02c58836d2ee490d28bff93\"}'}"
            ]
          },
          "metadata": {
            "tags": []
          },
          "execution_count": 3
        }
      ]
    },
    {
      "cell_type": "code",
      "metadata": {
        "id": "nxn34HL9TaPy"
      },
      "source": [
        "!pip install -q kaggle\n",
        "!mkdir -p ~/.kaggle\n",
        "!cp kaggle.json ~/.kaggle/"
      ],
      "execution_count": 4,
      "outputs": []
    },
    {
      "cell_type": "code",
      "metadata": {
        "colab": {
          "base_uri": "https://localhost:8080/"
        },
        "id": "S3j80q4qWZgG",
        "outputId": "4b3e7049-7f12-42a5-e9ad-4c46ec3b9707"
      },
      "source": [
        "# Get datasets from kaggle\n",
        "!kaggle datasets download -d biancaferreira/african-wildlife\n",
        "!kaggle datasets download -d kdnishanth/animal-classification\n",
        "!kaggle datasets download -d viswatejag/animal-detection-small-dataset\n",
        "!kaggle datasets download -d jerrinbright/cheetahtigerwolf"
      ],
      "execution_count": 5,
      "outputs": [
        {
          "output_type": "stream",
          "text": [
            "Warning: Your Kaggle API key is readable by other users on this system! To fix this, you can run 'chmod 600 /root/.kaggle/kaggle.json'\n",
            "Downloading african-wildlife.zip to /content\n",
            " 97% 436M/448M [00:03<00:00, 202MB/s]\n",
            "100% 448M/448M [00:03<00:00, 120MB/s]\n",
            "Warning: Your Kaggle API key is readable by other users on this system! To fix this, you can run 'chmod 600 /root/.kaggle/kaggle.json'\n",
            "Downloading animal-classification.zip to /content\n",
            " 95% 392M/414M [00:01<00:00, 229MB/s]\n",
            "100% 414M/414M [00:01<00:00, 248MB/s]\n",
            "Warning: Your Kaggle API key is readable by other users on this system! To fix this, you can run 'chmod 600 /root/.kaggle/kaggle.json'\n",
            "Downloading animal-detection-small-dataset.zip to /content\n",
            "100% 6.39G/6.40G [02:37<00:00, 53.0MB/s]\n",
            "100% 6.40G/6.40G [02:37<00:00, 43.7MB/s]\n",
            "Warning: Your Kaggle API key is readable by other users on this system! To fix this, you can run 'chmod 600 /root/.kaggle/kaggle.json'\n",
            "Downloading cheetahtigerwolf.zip to /content\n",
            " 99% 2.49G/2.51G [01:01<00:00, 51.6MB/s]\n",
            "100% 2.51G/2.51G [01:01<00:00, 43.6MB/s]\n"
          ],
          "name": "stdout"
        }
      ]
    },
    {
      "cell_type": "code",
      "metadata": {
        "id": "YdCFYTcEZH_V",
        "colab": {
          "base_uri": "https://localhost:8080/"
        },
        "outputId": "b07418af-fa87-4b39-944f-6906860d5d5b"
      },
      "source": [
        "os.mkdir(\"/content/train_data\")\n",
        "os.mkdir(\"/content/train_data/data\")\n",
        "os.mkdir(\"/content/tem/\")\n",
        "!rm -rf /content/sample_data/*\n",
        "!rmdir /content/sample_data"
      ],
      "execution_count": 6,
      "outputs": [
        {
          "output_type": "stream",
          "text": [
            "rmdir: failed to remove '/content/sample_data': No such file or directory\n"
          ],
          "name": "stdout"
        }
      ]
    },
    {
      "cell_type": "code",
      "metadata": {
        "id": "l8tNHZ7mZIEh"
      },
      "source": [
        "#unzip datasets to local directory\n",
        "!unzip -q \"/content/african-wildlife.zip\" -d \"/content/temp/\"\n",
        "!unzip -q \"/content/animal-classification.zip\" -d \"/content/temp/\"\n",
        "!unzip -q \"/content/animal-detection-small-dataset.zip\" -d \"/content/temp/\"\n",
        "!unzip -q \"/content/cheetahtigerwolf.zip\" -d \"/content/temp/\"\n",
        "#now after this delete them from disk manually\n",
        "!rm -rf /content/african-wildlife.zip\n",
        "!rm -rf /content/animal-classification.zip\n",
        "!rm -rf /content/animal-detection-small-dataset.zip\n",
        "!rm -rf /content/cheetahtigerwolf.zip\n",
        "!rm -rf /content/kaggle.json"
      ],
      "execution_count": 7,
      "outputs": []
    },
    {
      "cell_type": "code",
      "metadata": {
        "colab": {
          "base_uri": "https://localhost:8080/"
        },
        "id": "slwGUPvSm0UQ",
        "outputId": "27a6acf8-ef12-4d65-a544-84024831c16e"
      },
      "source": [
        "!rm -rf /content/temp/test/test/*\n",
        "!rmdir /content/temp/test/test/\n",
        "!rmdir /content/temp/test/\n",
        "!mv /content/temp/train/train/* /content/temp/"
      ],
      "execution_count": 8,
      "outputs": [
        {
          "output_type": "stream",
          "text": [
            "mv: cannot move '/content/temp/train/train/buffalo' to '/content/temp/buffalo': Directory not empty\n",
            "mv: cannot move '/content/temp/train/train/horse' to '/content/temp/horse': Directory not empty\n"
          ],
          "name": "stdout"
        }
      ]
    },
    {
      "cell_type": "code",
      "metadata": {
        "colab": {
          "base_uri": "https://localhost:8080/"
        },
        "id": "pozumtEkQl86",
        "outputId": "e8b5f9ad-8a2a-42d9-b513-e2f22e03b7d1"
      },
      "source": [
        "!rm -rf /content/temp/train/train/\n",
        "!rmdir /content/temp/train/train/\n",
        "!rmdir /content/temp/train/\n",
        "!rm -f /content/temp/data.py"
      ],
      "execution_count": 9,
      "outputs": [
        {
          "output_type": "stream",
          "text": [
            "rmdir: failed to remove '/content/temp/train/train/': No such file or directory\n"
          ],
          "name": "stdout"
        }
      ]
    },
    {
      "cell_type": "code",
      "metadata": {
        "colab": {
          "base_uri": "https://localhost:8080/"
        },
        "id": "ek5nV6rOQmHl",
        "outputId": "a7f7ad0c-1d54-4241-dd22-8e580acb6e6d"
      },
      "source": [
        "!mv /content/temp/ANIMAL-N30/ANIMALS/* /content/temp/\n",
        "!mv /content/temp/ANIMALS/ANIMALS/* /content/temp/"
      ],
      "execution_count": 10,
      "outputs": [
        {
          "output_type": "stream",
          "text": [
            "mv: cannot move '/content/temp/ANIMALS/ANIMALS/CHEETAH' to '/content/temp/CHEETAH': Directory not empty\n",
            "mv: cannot move '/content/temp/ANIMALS/ANIMALS/CROCODILES' to '/content/temp/CROCODILES': Directory not empty\n",
            "mv: cannot move '/content/temp/ANIMALS/ANIMALS/ELEPHANT' to '/content/temp/ELEPHANT': Directory not empty\n",
            "mv: cannot move '/content/temp/ANIMALS/ANIMALS/GIRAFFE' to '/content/temp/GIRAFFE': Directory not empty\n",
            "mv: cannot move '/content/temp/ANIMALS/ANIMALS/LION' to '/content/temp/LION': Directory not empty\n",
            "mv: cannot move '/content/temp/ANIMALS/ANIMALS/PANDA' to '/content/temp/PANDA': Directory not empty\n",
            "mv: cannot move '/content/temp/ANIMALS/ANIMALS/RHINO' to '/content/temp/RHINO': Directory not empty\n",
            "mv: cannot move '/content/temp/ANIMALS/ANIMALS/TIGER' to '/content/temp/TIGER': Directory not empty\n",
            "mv: cannot move '/content/temp/ANIMALS/ANIMALS/WOLF' to '/content/temp/WOLF': Directory not empty\n",
            "mv: cannot move '/content/temp/ANIMALS/ANIMALS/ZEBRA' to '/content/temp/ZEBRA': Directory not empty\n"
          ],
          "name": "stdout"
        }
      ]
    },
    {
      "cell_type": "code",
      "metadata": {
        "id": "r8_T4T_9QmQs"
      },
      "source": [
        "!rm -rf /content/temp/ANIMAL-N30/ANIMALS/*\n",
        "!rm -rf /content/temp/ANIMALS/ANIMALS/*"
      ],
      "execution_count": 11,
      "outputs": []
    },
    {
      "cell_type": "code",
      "metadata": {
        "id": "_gyabJDeQtNZ"
      },
      "source": [
        "!rmdir /content/temp/ANIMAL-N30/ANIMALS\n",
        "!rmdir /content/temp/ANIMALS/ANIMALS"
      ],
      "execution_count": 12,
      "outputs": []
    },
    {
      "cell_type": "code",
      "metadata": {
        "id": "7t41TknDQtP_"
      },
      "source": [
        "!rmdir /content/temp/ANIMALS\n",
        "!rmdir /content/temp/ANIMAL-N30\n",
        "!mv /content/temp /content/tem/"
      ],
      "execution_count": 13,
      "outputs": []
    },
    {
      "cell_type": "code",
      "metadata": {
        "id": "8pMsxNb9TVda"
      },
      "source": [
        "#convert names of all sub-directories in our data to lowercase\n",
        "import os\n",
        "path='/content/tem/temp/'\n",
        "for file in os.listdir(path):\n",
        "    if file!=file.lower():\n",
        "        os.rename(path+file,file.lower())\n",
        "#after this all the directories whose names were in uppercase gets converted to lowercase and comes outside /temp/ directory."
      ],
      "execution_count": 14,
      "outputs": []
    },
    {
      "cell_type": "code",
      "metadata": {
        "id": "_-oTrob1TVda",
        "colab": {
          "base_uri": "https://localhost:8080/"
        },
        "outputId": "25b6e6ca-680a-4338-89fe-ac1bf726d34c"
      },
      "source": [
        "#copying all the directories from data which were already in lowercase and didn't came outside the /temp/ directory \n",
        "fromDirectory=\"/content/tem/temp/\"\n",
        "toDirectory=\"/content/tem/\"\n",
        "copy_tree(fromDirectory,toDirectory)\n",
        "#now all data is been converted to lowercase and are at /tem/\n"
      ],
      "execution_count": 15,
      "outputs": [
        {
          "output_type": "execute_result",
          "data": {
            "text/plain": [
              "['/content/tem/cow/cow/cow.133.jpeg',\n",
              " '/content/tem/cow/cow/cow.658.jpeg',\n",
              " '/content/tem/cow/cow/cow.186.jpeg',\n",
              " '/content/tem/cow/cow/cow.1681.jpeg',\n",
              " '/content/tem/cow/cow/cow.1188.jpeg',\n",
              " '/content/tem/cow/cow/cow.1714.jpeg',\n",
              " '/content/tem/cow/cow/cow.32.jpeg',\n",
              " '/content/tem/cow/cow/cow.1519.jpeg',\n",
              " '/content/tem/cow/cow/cow.1206.jpeg',\n",
              " '/content/tem/cow/cow/cow.14.jpeg',\n",
              " '/content/tem/cow/cow/cow.1506.jpeg',\n",
              " '/content/tem/cow/cow/cow.1513.jpeg',\n",
              " '/content/tem/cow/cow/cow.106.jpeg',\n",
              " '/content/tem/cow/cow/cow.613.jpeg',\n",
              " '/content/tem/cow/cow/cow.1722.jpeg',\n",
              " '/content/tem/cow/cow/cow.148.jpeg',\n",
              " '/content/tem/cow/cow/cow.426.jpeg',\n",
              " '/content/tem/cow/cow/cow.55.jpeg',\n",
              " '/content/tem/cow/cow/cow.946.jpeg',\n",
              " '/content/tem/cow/cow/cow.1484.jpeg',\n",
              " '/content/tem/cow/cow/cow.1347.jpeg',\n",
              " '/content/tem/cow/cow/cow.1289.jpeg',\n",
              " '/content/tem/cow/cow/cow.72.jpeg',\n",
              " '/content/tem/cow/cow/cow.395.jpeg',\n",
              " '/content/tem/cow/cow/cow.1772.jpeg',\n",
              " '/content/tem/cow/cow/cow.640.jpeg',\n",
              " '/content/tem/cow/cow/cow.1013.jpeg',\n",
              " '/content/tem/cow/cow/cow.521.jpeg',\n",
              " '/content/tem/cow/cow/cow.1630.jpeg',\n",
              " '/content/tem/cow/cow/cow.217.jpeg',\n",
              " '/content/tem/cow/cow/cow.1480.jpeg',\n",
              " '/content/tem/cow/cow/cow.678.jpeg',\n",
              " '/content/tem/cow/cow/cow.537.jpeg',\n",
              " '/content/tem/cow/cow/cow.416.jpeg',\n",
              " '/content/tem/cow/cow/cow.889.jpeg',\n",
              " '/content/tem/cow/cow/cow.488.jpeg',\n",
              " '/content/tem/cow/cow/cow.1495.jpeg',\n",
              " '/content/tem/cow/cow/cow.1699.jpeg',\n",
              " '/content/tem/cow/cow/cow.1618.jpeg',\n",
              " '/content/tem/cow/cow/cow.153.jpeg',\n",
              " '/content/tem/cow/cow/cow.1353.jpeg',\n",
              " '/content/tem/cow/cow/cow.1092.jpeg',\n",
              " '/content/tem/cow/cow/cow.260.jpeg',\n",
              " '/content/tem/cow/cow/cow.1410.jpeg',\n",
              " '/content/tem/cow/cow/cow.1025.jpeg',\n",
              " '/content/tem/cow/cow/cow.1514.jpeg',\n",
              " '/content/tem/cow/cow/cow.525.jpeg',\n",
              " '/content/tem/cow/cow/cow.137.jpeg',\n",
              " '/content/tem/cow/cow/cow.445.jpeg',\n",
              " '/content/tem/cow/cow/cow.1401.jpeg',\n",
              " '/content/tem/cow/cow/cow.1674.jpeg',\n",
              " '/content/tem/cow/cow/cow.1032.jpeg',\n",
              " '/content/tem/cow/cow/cow.1359.jpeg',\n",
              " '/content/tem/cow/cow/cow.1146.jpeg',\n",
              " '/content/tem/cow/cow/cow.1799.jpeg',\n",
              " '/content/tem/cow/cow/cow.757.jpeg',\n",
              " '/content/tem/cow/cow/cow.924.jpeg',\n",
              " '/content/tem/cow/cow/cow.1535.jpeg',\n",
              " '/content/tem/cow/cow/cow.58.jpeg',\n",
              " '/content/tem/cow/cow/cow.387.jpeg',\n",
              " '/content/tem/cow/cow/cow.1725.jpeg',\n",
              " '/content/tem/cow/cow/cow.3.jpeg',\n",
              " '/content/tem/cow/cow/cow.403.jpeg',\n",
              " '/content/tem/cow/cow/cow.1724.jpeg',\n",
              " '/content/tem/cow/cow/cow.1135.jpeg',\n",
              " '/content/tem/cow/cow/cow.227.jpeg',\n",
              " '/content/tem/cow/cow/cow.1091.jpeg',\n",
              " '/content/tem/cow/cow/cow.1400.jpeg',\n",
              " '/content/tem/cow/cow/cow.582.jpeg',\n",
              " '/content/tem/cow/cow/cow.1512.jpeg',\n",
              " '/content/tem/cow/cow/cow.354.jpeg',\n",
              " '/content/tem/cow/cow/cow.1611.jpeg',\n",
              " '/content/tem/cow/cow/cow.1169.jpeg',\n",
              " '/content/tem/cow/cow/cow.1022.jpeg',\n",
              " '/content/tem/cow/cow/cow.1074.jpeg',\n",
              " '/content/tem/cow/cow/cow.1267.jpeg',\n",
              " '/content/tem/cow/cow/cow.918.jpeg',\n",
              " '/content/tem/cow/cow/cow.1572.jpeg',\n",
              " '/content/tem/cow/cow/cow.779.jpeg',\n",
              " '/content/tem/cow/cow/cow.687.jpeg',\n",
              " '/content/tem/cow/cow/cow.561.jpeg',\n",
              " '/content/tem/cow/cow/cow.1702.jpeg',\n",
              " '/content/tem/cow/cow/cow.1396.jpeg',\n",
              " '/content/tem/cow/cow/cow.1554.jpeg',\n",
              " '/content/tem/cow/cow/cow.33.jpeg',\n",
              " '/content/tem/cow/cow/cow.573.jpeg',\n",
              " '/content/tem/cow/cow/cow.873.jpeg',\n",
              " '/content/tem/cow/cow/cow.664.jpeg',\n",
              " '/content/tem/cow/cow/cow.1115.jpeg',\n",
              " '/content/tem/cow/cow/cow.1017.jpeg',\n",
              " '/content/tem/cow/cow/cow.730.jpeg',\n",
              " '/content/tem/cow/cow/cow.340.jpeg',\n",
              " '/content/tem/cow/cow/cow.1056.jpeg',\n",
              " '/content/tem/cow/cow/cow.1012.jpeg',\n",
              " '/content/tem/cow/cow/cow.880.jpeg',\n",
              " '/content/tem/cow/cow/cow.470.jpeg',\n",
              " '/content/tem/cow/cow/cow.44.jpeg',\n",
              " '/content/tem/cow/cow/cow.1805.jpeg',\n",
              " '/content/tem/cow/cow/cow.154.jpeg',\n",
              " '/content/tem/cow/cow/cow.1152.jpeg',\n",
              " '/content/tem/cow/cow/cow.690.jpeg',\n",
              " '/content/tem/cow/cow/cow.1744.jpeg',\n",
              " '/content/tem/cow/cow/cow.1427.jpeg',\n",
              " '/content/tem/cow/cow/cow.535.jpeg',\n",
              " '/content/tem/cow/cow/cow.876.jpeg',\n",
              " '/content/tem/cow/cow/cow.334.jpeg',\n",
              " '/content/tem/cow/cow/cow.224.jpeg',\n",
              " '/content/tem/cow/cow/cow.632.jpeg',\n",
              " '/content/tem/cow/cow/cow.30.jpeg',\n",
              " '/content/tem/cow/cow/cow.1024.jpeg',\n",
              " '/content/tem/cow/cow/cow.1605.jpeg',\n",
              " '/content/tem/cow/cow/cow.1290.jpeg',\n",
              " '/content/tem/cow/cow/cow.674.jpeg',\n",
              " '/content/tem/cow/cow/cow.874.jpeg',\n",
              " '/content/tem/cow/cow/cow.1156.jpeg',\n",
              " '/content/tem/cow/cow/cow.1269.jpeg',\n",
              " '/content/tem/cow/cow/cow.992.jpeg',\n",
              " '/content/tem/cow/cow/cow.1438.jpeg',\n",
              " '/content/tem/cow/cow/cow.1310.jpeg',\n",
              " '/content/tem/cow/cow/cow.989.jpeg',\n",
              " '/content/tem/cow/cow/cow.681.jpeg',\n",
              " '/content/tem/cow/cow/cow.1858.jpeg',\n",
              " '/content/tem/cow/cow/cow.62.jpeg',\n",
              " '/content/tem/cow/cow/cow.91.jpeg',\n",
              " '/content/tem/cow/cow/cow.197.jpeg',\n",
              " '/content/tem/cow/cow/cow.973.jpeg',\n",
              " '/content/tem/cow/cow/cow.459.jpeg',\n",
              " '/content/tem/cow/cow/cow.1751.jpeg',\n",
              " '/content/tem/cow/cow/cow.1585.jpeg',\n",
              " '/content/tem/cow/cow/cow.1377.jpeg',\n",
              " '/content/tem/cow/cow/cow.174.jpeg',\n",
              " '/content/tem/cow/cow/cow.366.jpeg',\n",
              " '/content/tem/cow/cow/cow.1260.jpeg',\n",
              " '/content/tem/cow/cow/cow.46.jpeg',\n",
              " '/content/tem/cow/cow/cow.1649.jpeg',\n",
              " '/content/tem/cow/cow/cow.776.jpeg',\n",
              " '/content/tem/cow/cow/cow.438.jpeg',\n",
              " '/content/tem/cow/cow/cow.1173.jpeg',\n",
              " '/content/tem/cow/cow/cow.805.jpeg',\n",
              " '/content/tem/cow/cow/cow.1089.jpeg',\n",
              " '/content/tem/cow/cow/cow.1243.jpeg',\n",
              " '/content/tem/cow/cow/cow.576.jpeg',\n",
              " '/content/tem/cow/cow/cow.189.jpeg',\n",
              " '/content/tem/cow/cow/cow.223.jpeg',\n",
              " '/content/tem/cow/cow/cow.855.jpeg',\n",
              " '/content/tem/cow/cow/cow.167.jpeg',\n",
              " '/content/tem/cow/cow/cow.1415.jpeg',\n",
              " '/content/tem/cow/cow/cow.503.jpeg',\n",
              " '/content/tem/cow/cow/cow.169.jpeg',\n",
              " '/content/tem/cow/cow/cow.649.jpeg',\n",
              " '/content/tem/cow/cow/cow.407.jpeg',\n",
              " '/content/tem/cow/cow/cow.97.jpeg',\n",
              " '/content/tem/cow/cow/cow.1068.jpeg',\n",
              " '/content/tem/cow/cow/cow.462.jpeg',\n",
              " '/content/tem/cow/cow/cow.491.jpeg',\n",
              " '/content/tem/cow/cow/cow.1491.jpeg',\n",
              " '/content/tem/cow/cow/cow.1624.jpeg',\n",
              " '/content/tem/cow/cow/cow.252.jpeg',\n",
              " '/content/tem/cow/cow/cow.971.jpeg',\n",
              " '/content/tem/cow/cow/cow.1643.jpeg',\n",
              " '/content/tem/cow/cow/cow.257.jpeg',\n",
              " '/content/tem/cow/cow/cow.1537.jpeg',\n",
              " '/content/tem/cow/cow/cow.48.jpeg',\n",
              " '/content/tem/cow/cow/cow.410.jpeg',\n",
              " '/content/tem/cow/cow/cow.1053.jpeg',\n",
              " '/content/tem/cow/cow/cow.1131.jpeg',\n",
              " '/content/tem/cow/cow/cow.127.jpeg',\n",
              " '/content/tem/cow/cow/cow.842.jpeg',\n",
              " '/content/tem/cow/cow/cow.593.jpeg',\n",
              " '/content/tem/cow/cow/cow.1802.jpeg',\n",
              " '/content/tem/cow/cow/cow.1405.jpeg',\n",
              " '/content/tem/cow/cow/cow.1379.jpeg',\n",
              " '/content/tem/cow/cow/cow.52.jpeg',\n",
              " '/content/tem/cow/cow/cow.309.jpeg',\n",
              " '/content/tem/cow/cow/cow.1685.jpeg',\n",
              " '/content/tem/cow/cow/cow.1803.jpeg',\n",
              " '/content/tem/cow/cow/cow.1204.jpeg',\n",
              " '/content/tem/cow/cow/cow.1602.jpeg',\n",
              " '/content/tem/cow/cow/cow.1250.jpeg',\n",
              " '/content/tem/cow/cow/cow.1777.jpeg',\n",
              " '/content/tem/cow/cow/cow.838.jpeg',\n",
              " '/content/tem/cow/cow/cow.1181.jpeg',\n",
              " '/content/tem/cow/cow/cow.233.jpeg',\n",
              " '/content/tem/cow/cow/cow.567.jpeg',\n",
              " '/content/tem/cow/cow/cow.22.jpeg',\n",
              " '/content/tem/cow/cow/cow.234.jpeg',\n",
              " '/content/tem/cow/cow/cow.339.jpeg',\n",
              " '/content/tem/cow/cow/cow.550.jpeg',\n",
              " '/content/tem/cow/cow/cow.875.jpeg',\n",
              " '/content/tem/cow/cow/cow.422.jpeg',\n",
              " '/content/tem/cow/cow/cow.1374.jpeg',\n",
              " '/content/tem/cow/cow/cow.1160.jpeg',\n",
              " '/content/tem/cow/cow/cow.1277.jpeg',\n",
              " '/content/tem/cow/cow/cow.1226.jpeg',\n",
              " '/content/tem/cow/cow/cow.1854.jpeg',\n",
              " '/content/tem/cow/cow/cow.800.jpeg',\n",
              " '/content/tem/cow/cow/cow.256.jpeg',\n",
              " '/content/tem/cow/cow/cow.284.jpeg',\n",
              " '/content/tem/cow/cow/cow.375.jpeg',\n",
              " '/content/tem/cow/cow/cow.1319.jpeg',\n",
              " '/content/tem/cow/cow/cow.96.jpeg',\n",
              " '/content/tem/cow/cow/cow.1829.jpeg',\n",
              " '/content/tem/cow/cow/cow.1536.jpeg',\n",
              " '/content/tem/cow/cow/cow.709.jpeg',\n",
              " '/content/tem/cow/cow/cow.847.jpeg',\n",
              " '/content/tem/cow/cow/cow.1381.jpeg',\n",
              " '/content/tem/cow/cow/cow.755.jpeg',\n",
              " '/content/tem/cow/cow/cow.814.jpeg',\n",
              " '/content/tem/cow/cow/cow.1819.jpeg',\n",
              " '/content/tem/cow/cow/cow.600.jpeg',\n",
              " '/content/tem/cow/cow/cow.1127.jpeg',\n",
              " '/content/tem/cow/cow/cow.1031.jpeg',\n",
              " '/content/tem/cow/cow/cow.844.jpeg',\n",
              " '/content/tem/cow/cow/cow.510.jpeg',\n",
              " '/content/tem/cow/cow/cow.86.jpeg',\n",
              " '/content/tem/cow/cow/cow.1354.jpeg',\n",
              " '/content/tem/cow/cow/cow.163.jpeg',\n",
              " '/content/tem/cow/cow/cow.1424.jpeg',\n",
              " '/content/tem/cow/cow/cow.379.jpeg',\n",
              " '/content/tem/cow/cow/cow.1085.jpeg',\n",
              " '/content/tem/cow/cow/cow.759.jpeg',\n",
              " '/content/tem/cow/cow/cow.1197.jpeg',\n",
              " '/content/tem/cow/cow/cow.1509.jpeg',\n",
              " '/content/tem/cow/cow/cow.206.jpeg',\n",
              " '/content/tem/cow/cow/cow.557.jpeg',\n",
              " '/content/tem/cow/cow/cow.785.jpeg',\n",
              " '/content/tem/cow/cow/cow.602.jpeg',\n",
              " '/content/tem/cow/cow/cow.1367.jpeg',\n",
              " '/content/tem/cow/cow/cow.1402.jpeg',\n",
              " '/content/tem/cow/cow/cow.1100.jpeg',\n",
              " '/content/tem/cow/cow/cow.132.jpeg',\n",
              " '/content/tem/cow/cow/cow.626.jpeg',\n",
              " '/content/tem/cow/cow/cow.762.jpeg',\n",
              " '/content/tem/cow/cow/cow.1664.jpeg',\n",
              " '/content/tem/cow/cow/cow.1467.jpeg',\n",
              " '/content/tem/cow/cow/cow.1648.jpeg',\n",
              " '/content/tem/cow/cow/cow.497.jpeg',\n",
              " '/content/tem/cow/cow/cow.1765.jpeg',\n",
              " '/content/tem/cow/cow/cow.1210.jpeg',\n",
              " '/content/tem/cow/cow/cow.131.jpeg',\n",
              " '/content/tem/cow/cow/cow.238.jpeg',\n",
              " '/content/tem/cow/cow/cow.703.jpeg',\n",
              " '/content/tem/cow/cow/cow.441.jpeg',\n",
              " '/content/tem/cow/cow/cow.176.jpeg',\n",
              " '/content/tem/cow/cow/cow.1015.jpeg',\n",
              " '/content/tem/cow/cow/cow.1301.jpeg',\n",
              " '/content/tem/cow/cow/cow.1608.jpeg',\n",
              " '/content/tem/cow/cow/cow.1064.jpeg',\n",
              " '/content/tem/cow/cow/cow.1113.jpeg',\n",
              " '/content/tem/cow/cow/cow.1033.jpeg',\n",
              " '/content/tem/cow/cow/cow.827.jpeg',\n",
              " '/content/tem/cow/cow/cow.1629.jpeg',\n",
              " '/content/tem/cow/cow/cow.1678.jpeg',\n",
              " '/content/tem/cow/cow/cow.804.jpeg',\n",
              " '/content/tem/cow/cow/cow.1464.jpeg',\n",
              " '/content/tem/cow/cow/cow.204.jpeg',\n",
              " '/content/tem/cow/cow/cow.388.jpeg',\n",
              " '/content/tem/cow/cow/cow.5.jpeg',\n",
              " '/content/tem/cow/cow/cow.1811.jpeg',\n",
              " '/content/tem/cow/cow/cow.1789.jpeg',\n",
              " '/content/tem/cow/cow/cow.899.jpeg',\n",
              " '/content/tem/cow/cow/cow.1507.jpeg',\n",
              " '/content/tem/cow/cow/cow.591.jpeg',\n",
              " '/content/tem/cow/cow/cow.302.jpeg',\n",
              " '/content/tem/cow/cow/cow.1707.jpeg',\n",
              " '/content/tem/cow/cow/cow.558.jpeg',\n",
              " '/content/tem/cow/cow/cow.1325.jpeg',\n",
              " '/content/tem/cow/cow/cow.157.jpeg',\n",
              " '/content/tem/cow/cow/cow.1167.jpeg',\n",
              " '/content/tem/cow/cow/cow.1125.jpeg',\n",
              " '/content/tem/cow/cow/cow.1209.jpeg',\n",
              " '/content/tem/cow/cow/cow.958.jpeg',\n",
              " '/content/tem/cow/cow/cow.1447.jpeg',\n",
              " '/content/tem/cow/cow/cow.706.jpeg',\n",
              " '/content/tem/cow/cow/cow.869.jpeg',\n",
              " '/content/tem/cow/cow/cow.1518.jpeg',\n",
              " '/content/tem/cow/cow/cow.1408.jpeg',\n",
              " '/content/tem/cow/cow/cow.396.jpeg',\n",
              " '/content/tem/cow/cow/cow.105.jpeg',\n",
              " '/content/tem/cow/cow/cow.1471.jpeg',\n",
              " '/content/tem/cow/cow/cow.341.jpeg',\n",
              " '/content/tem/cow/cow/cow.170.jpeg',\n",
              " '/content/tem/cow/cow/cow.816.jpeg',\n",
              " '/content/tem/cow/cow/cow.629.jpeg',\n",
              " '/content/tem/cow/cow/cow.608.jpeg',\n",
              " '/content/tem/cow/cow/cow.267.jpeg',\n",
              " '/content/tem/cow/cow/cow.1238.jpeg',\n",
              " '/content/tem/cow/cow/cow.365.jpeg',\n",
              " '/content/tem/cow/cow/cow.1594.jpeg',\n",
              " '/content/tem/cow/cow/cow.710.jpeg',\n",
              " '/content/tem/cow/cow/cow.1759.jpeg',\n",
              " '/content/tem/cow/cow/cow.1105.jpeg',\n",
              " '/content/tem/cow/cow/cow.1770.jpeg',\n",
              " '/content/tem/cow/cow/cow.1023.jpeg',\n",
              " '/content/tem/cow/cow/cow.900.jpeg',\n",
              " '/content/tem/cow/cow/cow.1463.jpeg',\n",
              " '/content/tem/cow/cow/cow.767.jpeg',\n",
              " '/content/tem/cow/cow/cow.551.jpeg',\n",
              " '/content/tem/cow/cow/cow.447.jpeg',\n",
              " '/content/tem/cow/cow/cow.702.jpeg',\n",
              " '/content/tem/cow/cow/cow.1203.jpeg',\n",
              " '/content/tem/cow/cow/cow.425.jpeg',\n",
              " '/content/tem/cow/cow/cow.1791.jpeg',\n",
              " '/content/tem/cow/cow/cow.590.jpeg',\n",
              " '/content/tem/cow/cow/cow.1704.jpeg',\n",
              " '/content/tem/cow/cow/cow.288.jpeg',\n",
              " '/content/tem/cow/cow/cow.939.jpeg',\n",
              " '/content/tem/cow/cow/cow.612.jpeg',\n",
              " '/content/tem/cow/cow/cow.312.jpeg',\n",
              " '/content/tem/cow/cow/cow.615.jpeg',\n",
              " '/content/tem/cow/cow/cow.1230.jpeg',\n",
              " '/content/tem/cow/cow/cow.547.jpeg',\n",
              " '/content/tem/cow/cow/cow.967.jpeg',\n",
              " '/content/tem/cow/cow/cow.1201.jpeg',\n",
              " '/content/tem/cow/cow/cow.1619.jpeg',\n",
              " '/content/tem/cow/cow/cow.210.jpeg',\n",
              " '/content/tem/cow/cow/cow.1730.jpeg',\n",
              " '/content/tem/cow/cow/cow.1232.jpeg',\n",
              " '/content/tem/cow/cow/cow.42.jpeg',\n",
              " '/content/tem/cow/cow/cow.1655.jpeg',\n",
              " '/content/tem/cow/cow/cow.66.jpeg',\n",
              " '/content/tem/cow/cow/cow.812.jpeg',\n",
              " '/content/tem/cow/cow/cow.182.jpeg',\n",
              " '/content/tem/cow/cow/cow.1256.jpeg',\n",
              " '/content/tem/cow/cow/cow.1257.jpeg',\n",
              " '/content/tem/cow/cow/cow.295.jpeg',\n",
              " '/content/tem/cow/cow/cow.991.jpeg',\n",
              " '/content/tem/cow/cow/cow.90.jpeg',\n",
              " '/content/tem/cow/cow/cow.1117.jpeg',\n",
              " '/content/tem/cow/cow/cow.1202.jpeg',\n",
              " '/content/tem/cow/cow/cow.98.jpeg',\n",
              " '/content/tem/cow/cow/cow.253.jpeg',\n",
              " '/content/tem/cow/cow/cow.419.jpeg',\n",
              " '/content/tem/cow/cow/cow.263.jpeg',\n",
              " '/content/tem/cow/cow/cow.439.jpeg',\n",
              " '/content/tem/cow/cow/cow.523.jpeg',\n",
              " '/content/tem/cow/cow/cow.172.jpeg',\n",
              " '/content/tem/cow/cow/cow.890.jpeg',\n",
              " '/content/tem/cow/cow/cow.1614.jpeg',\n",
              " '/content/tem/cow/cow/cow.919.jpeg',\n",
              " '/content/tem/cow/cow/cow.715.jpeg',\n",
              " '/content/tem/cow/cow/cow.476.jpeg',\n",
              " '/content/tem/cow/cow/cow.1626.jpeg',\n",
              " '/content/tem/cow/cow/cow.1609.jpeg',\n",
              " '/content/tem/cow/cow/cow.737.jpeg',\n",
              " '/content/tem/cow/cow/cow.294.jpeg',\n",
              " '/content/tem/cow/cow/cow.849.jpeg',\n",
              " '/content/tem/cow/cow/cow.496.jpeg',\n",
              " '/content/tem/cow/cow/cow.1621.jpeg',\n",
              " '/content/tem/cow/cow/cow.1322.jpeg',\n",
              " '/content/tem/cow/cow/cow.1350.jpeg',\n",
              " '/content/tem/cow/cow/cow.679.jpeg',\n",
              " '/content/tem/cow/cow/cow.789.jpeg',\n",
              " '/content/tem/cow/cow/cow.1186.jpeg',\n",
              " '/content/tem/cow/cow/cow.401.jpeg',\n",
              " '/content/tem/cow/cow/cow.139.jpeg',\n",
              " '/content/tem/cow/cow/cow.881.jpeg',\n",
              " '/content/tem/cow/cow/cow.164.jpeg',\n",
              " '/content/tem/cow/cow/cow.1589.jpeg',\n",
              " '/content/tem/cow/cow/cow.196.jpeg',\n",
              " '/content/tem/cow/cow/cow.605.jpeg',\n",
              " '/content/tem/cow/cow/cow.1528.jpeg',\n",
              " '/content/tem/cow/cow/cow.504.jpeg',\n",
              " '/content/tem/cow/cow/cow.322.jpeg',\n",
              " '/content/tem/cow/cow/cow.1761.jpeg',\n",
              " '/content/tem/cow/cow/cow.315.jpeg',\n",
              " '/content/tem/cow/cow/cow.1525.jpeg',\n",
              " '/content/tem/cow/cow/cow.1574.jpeg',\n",
              " '/content/tem/cow/cow/cow.1172.jpeg',\n",
              " '/content/tem/cow/cow/cow.184.jpeg',\n",
              " '/content/tem/cow/cow/cow.1689.jpeg',\n",
              " '/content/tem/cow/cow/cow.468.jpeg',\n",
              " '/content/tem/cow/cow/cow.1604.jpeg',\n",
              " '/content/tem/cow/cow/cow.134.jpeg',\n",
              " '/content/tem/cow/cow/cow.119.jpeg',\n",
              " '/content/tem/cow/cow/cow.123.jpeg',\n",
              " '/content/tem/cow/cow/cow.1061.jpeg',\n",
              " '/content/tem/cow/cow/cow.563.jpeg',\n",
              " '/content/tem/cow/cow/cow.205.jpeg',\n",
              " '/content/tem/cow/cow/cow.1122.jpeg',\n",
              " '/content/tem/cow/cow/cow.657.jpeg',\n",
              " '/content/tem/cow/cow/cow.532.jpeg',\n",
              " '/content/tem/cow/cow/cow.1110.jpeg',\n",
              " '/content/tem/cow/cow/cow.988.jpeg',\n",
              " '/content/tem/cow/cow/cow.1852.jpeg',\n",
              " '/content/tem/cow/cow/cow.1002.jpeg',\n",
              " '/content/tem/cow/cow/cow.922.jpeg',\n",
              " '/content/tem/cow/cow/cow.1114.jpeg',\n",
              " '/content/tem/cow/cow/cow.1183.jpeg',\n",
              " '/content/tem/cow/cow/cow.307.jpeg',\n",
              " '/content/tem/cow/cow/cow.12.jpeg',\n",
              " '/content/tem/cow/cow/cow.654.jpeg',\n",
              " '/content/tem/cow/cow/cow.1668.jpeg',\n",
              " '/content/tem/cow/cow/cow.1393.jpeg',\n",
              " '/content/tem/cow/cow/cow.1748.jpeg',\n",
              " '/content/tem/cow/cow/cow.17.jpeg',\n",
              " '/content/tem/cow/cow/cow.559.jpeg',\n",
              " '/content/tem/cow/cow/cow.327.jpeg',\n",
              " '/content/tem/cow/cow/cow.1758.jpeg',\n",
              " '/content/tem/cow/cow/cow.1018.jpeg',\n",
              " '/content/tem/cow/cow/cow.430.jpeg',\n",
              " '/content/tem/cow/cow/cow.831.jpeg',\n",
              " '/content/tem/cow/cow/cow.331.jpeg',\n",
              " '/content/tem/cow/cow/cow.728.jpeg',\n",
              " '/content/tem/cow/cow/cow.1600.jpeg',\n",
              " '/content/tem/cow/cow/cow.914.jpeg',\n",
              " '/content/tem/cow/cow/cow.1235.jpeg',\n",
              " '/content/tem/cow/cow/cow.1205.jpeg',\n",
              " '/content/tem/cow/cow/cow.1247.jpeg',\n",
              " '/content/tem/cow/cow/cow.1369.jpeg',\n",
              " '/content/tem/cow/cow/cow.1355.jpeg',\n",
              " '/content/tem/cow/cow/cow.1824.jpeg',\n",
              " '/content/tem/cow/cow/cow.282.jpeg',\n",
              " '/content/tem/cow/cow/cow.1705.jpeg',\n",
              " '/content/tem/cow/cow/cow.1272.jpeg',\n",
              " '/content/tem/cow/cow/cow.151.jpeg',\n",
              " '/content/tem/cow/cow/cow.1457.jpeg',\n",
              " '/content/tem/cow/cow/cow.851.jpeg',\n",
              " '/content/tem/cow/cow/cow.1575.jpeg',\n",
              " '/content/tem/cow/cow/cow.1449.jpeg',\n",
              " '/content/tem/cow/cow/cow.361.jpeg',\n",
              " '/content/tem/cow/cow/cow.1278.jpeg',\n",
              " '/content/tem/cow/cow/cow.187.jpeg',\n",
              " '/content/tem/cow/cow/cow.624.jpeg',\n",
              " '/content/tem/cow/cow/cow.155.jpeg',\n",
              " '/content/tem/cow/cow/cow.23.jpeg',\n",
              " '/content/tem/cow/cow/cow.318.jpeg',\n",
              " '/content/tem/cow/cow/cow.565.jpeg',\n",
              " '/content/tem/cow/cow/cow.21.jpeg',\n",
              " '/content/tem/cow/cow/cow.289.jpeg',\n",
              " '/content/tem/cow/cow/cow.1612.jpeg',\n",
              " '/content/tem/cow/cow/cow.1241.jpeg',\n",
              " '/content/tem/cow/cow/cow.815.jpeg',\n",
              " '/content/tem/cow/cow/cow.644.jpeg',\n",
              " '/content/tem/cow/cow/cow.1468.jpeg',\n",
              " '/content/tem/cow/cow/cow.161.jpeg',\n",
              " '/content/tem/cow/cow/cow.269.jpeg',\n",
              " '/content/tem/cow/cow/cow.274.jpeg',\n",
              " '/content/tem/cow/cow/cow.240.jpeg',\n",
              " '/content/tem/cow/cow/cow.498.jpeg',\n",
              " '/content/tem/cow/cow/cow.1414.jpeg',\n",
              " '/content/tem/cow/cow/cow.406.jpeg',\n",
              " '/content/tem/cow/cow/cow.1579.jpeg',\n",
              " '/content/tem/cow/cow/cow.995.jpeg',\n",
              " '/content/tem/cow/cow/cow.1708.jpeg',\n",
              " '/content/tem/cow/cow/cow.1603.jpeg',\n",
              " '/content/tem/cow/cow/cow.1847.jpeg',\n",
              " '/content/tem/cow/cow/cow.1798.jpeg',\n",
              " '/content/tem/cow/cow/cow.985.jpeg',\n",
              " '/content/tem/cow/cow/cow.1233.jpeg',\n",
              " '/content/tem/cow/cow/cow.1544.jpeg',\n",
              " '/content/tem/cow/cow/cow.41.jpeg',\n",
              " '/content/tem/cow/cow/cow.758.jpeg',\n",
              " '/content/tem/cow/cow/cow.1694.jpeg',\n",
              " '/content/tem/cow/cow/cow.1047.jpeg',\n",
              " '/content/tem/cow/cow/cow.350.jpeg',\n",
              " '/content/tem/cow/cow/cow.484.jpeg',\n",
              " '/content/tem/cow/cow/cow.457.jpeg',\n",
              " '/content/tem/cow/cow/cow.934.jpeg',\n",
              " '/content/tem/cow/cow/cow.1622.jpeg',\n",
              " '/content/tem/cow/cow/cow.1302.jpeg',\n",
              " '/content/tem/cow/cow/cow.539.jpeg',\n",
              " '/content/tem/cow/cow/cow.999.jpeg',\n",
              " '/content/tem/cow/cow/cow.1521.jpeg',\n",
              " '/content/tem/cow/cow/cow.1441.jpeg',\n",
              " '/content/tem/cow/cow/cow.258.jpeg',\n",
              " '/content/tem/cow/cow/cow.1853.jpeg',\n",
              " '/content/tem/cow/cow/cow.1150.jpeg',\n",
              " '/content/tem/cow/cow/cow.453.jpeg',\n",
              " '/content/tem/cow/cow/cow.4.jpeg',\n",
              " '/content/tem/cow/cow/cow.228.jpeg',\n",
              " '/content/tem/cow/cow/cow.47.jpeg',\n",
              " '/content/tem/cow/cow/cow.122.jpeg',\n",
              " '/content/tem/cow/cow/cow.423.jpeg',\n",
              " '/content/tem/cow/cow/cow.693.jpeg',\n",
              " '/content/tem/cow/cow/cow.15.jpeg',\n",
              " '/content/tem/cow/cow/cow.27.jpeg',\n",
              " '/content/tem/cow/cow/cow.937.jpeg',\n",
              " '/content/tem/cow/cow/cow.338.jpeg',\n",
              " '/content/tem/cow/cow/cow.885.jpeg',\n",
              " '/content/tem/cow/cow/cow.801.jpeg',\n",
              " '/content/tem/cow/cow/cow.1165.jpeg',\n",
              " '/content/tem/cow/cow/cow.903.jpeg',\n",
              " '/content/tem/cow/cow/cow.408.jpeg',\n",
              " '/content/tem/cow/cow/cow.435.jpeg',\n",
              " '/content/tem/cow/cow/cow.1303.jpeg',\n",
              " '/content/tem/cow/cow/cow.921.jpeg',\n",
              " '/content/tem/cow/cow/cow.1776.jpeg',\n",
              " '/content/tem/cow/cow/cow.639.jpeg',\n",
              " '/content/tem/cow/cow/cow.761.jpeg',\n",
              " '/content/tem/cow/cow/cow.1045.jpeg',\n",
              " '/content/tem/cow/cow/cow.598.jpeg',\n",
              " '/content/tem/cow/cow/cow.821.jpeg',\n",
              " '/content/tem/cow/cow/cow.1539.jpeg',\n",
              " '/content/tem/cow/cow/cow.666.jpeg',\n",
              " '/content/tem/cow/cow/cow.1723.jpeg',\n",
              " '/content/tem/cow/cow/cow.26.jpeg',\n",
              " '/content/tem/cow/cow/cow.621.jpeg',\n",
              " '/content/tem/cow/cow/cow.1754.jpeg',\n",
              " '/content/tem/cow/cow/cow.1808.jpeg',\n",
              " '/content/tem/cow/cow/cow.645.jpeg',\n",
              " '/content/tem/cow/cow/cow.638.jpeg',\n",
              " '/content/tem/cow/cow/cow.603.jpeg',\n",
              " '/content/tem/cow/cow/cow.725.jpeg',\n",
              " '/content/tem/cow/cow/cow.1386.jpeg',\n",
              " '/content/tem/cow/cow/cow.335.jpeg',\n",
              " '/content/tem/cow/cow/cow.731.jpeg',\n",
              " '/content/tem/cow/cow/cow.886.jpeg',\n",
              " '/content/tem/cow/cow/cow.1762.jpeg',\n",
              " '/content/tem/cow/cow/cow.490.jpeg',\n",
              " '/content/tem/cow/cow/cow.1742.jpeg',\n",
              " '/content/tem/cow/cow/cow.1444.jpeg',\n",
              " '/content/tem/cow/cow/cow.1838.jpeg',\n",
              " '/content/tem/cow/cow/cow.1448.jpeg',\n",
              " '/content/tem/cow/cow/cow.1282.jpeg',\n",
              " '/content/tem/cow/cow/cow.1083.jpeg',\n",
              " '/content/tem/cow/cow/cow.1.jpeg',\n",
              " '/content/tem/cow/cow/cow.836.jpeg',\n",
              " '/content/tem/cow/cow/cow.887.jpeg',\n",
              " '/content/tem/cow/cow/cow.966.jpeg',\n",
              " '/content/tem/cow/cow/cow.126.jpeg',\n",
              " '/content/tem/cow/cow/cow.633.jpeg',\n",
              " '/content/tem/cow/cow/cow.146.jpeg',\n",
              " '/content/tem/cow/cow/cow.781.jpeg',\n",
              " '/content/tem/cow/cow/cow.1145.jpeg',\n",
              " '/content/tem/cow/cow/cow.40.jpeg',\n",
              " '/content/tem/cow/cow/cow.1651.jpeg',\n",
              " '/content/tem/cow/cow/cow.1075.jpeg',\n",
              " '/content/tem/cow/cow/cow.1637.jpeg',\n",
              " '/content/tem/cow/cow/cow.1356.jpeg',\n",
              " '/content/tem/cow/cow/cow.519.jpeg',\n",
              " '/content/tem/cow/cow/cow.150.jpeg',\n",
              " '/content/tem/cow/cow/cow.1446.jpeg',\n",
              " '/content/tem/cow/cow/cow.1511.jpeg',\n",
              " '/content/tem/cow/cow/cow.298.jpeg',\n",
              " '/content/tem/cow/cow/cow.894.jpeg',\n",
              " '/content/tem/cow/cow/cow.684.jpeg',\n",
              " '/content/tem/cow/cow/cow.905.jpeg',\n",
              " '/content/tem/cow/cow/cow.1486.jpeg',\n",
              " '/content/tem/cow/cow/cow.916.jpeg',\n",
              " '/content/tem/cow/cow/cow.417.jpeg',\n",
              " '/content/tem/cow/cow/cow.895.jpeg',\n",
              " '/content/tem/cow/cow/cow.724.jpeg',\n",
              " '/content/tem/cow/cow/cow.970.jpeg',\n",
              " '/content/tem/cow/cow/cow.79.jpeg',\n",
              " '/content/tem/cow/cow/cow.1657.jpeg',\n",
              " '/content/tem/cow/cow/cow.1137.jpeg',\n",
              " '/content/tem/cow/cow/cow.346.jpeg',\n",
              " '/content/tem/cow/cow/cow.883.jpeg',\n",
              " '/content/tem/cow/cow/cow.455.jpeg',\n",
              " '/content/tem/cow/cow/cow.961.jpeg',\n",
              " '/content/tem/cow/cow/cow.901.jpeg',\n",
              " '/content/tem/cow/cow/cow.517.jpeg',\n",
              " '/content/tem/cow/cow/cow.1349.jpeg',\n",
              " '/content/tem/cow/cow/cow.512.jpeg',\n",
              " '/content/tem/cow/cow/cow.1712.jpeg',\n",
              " '/content/tem/cow/cow/cow.778.jpeg',\n",
              " '/content/tem/cow/cow/cow.969.jpeg',\n",
              " '/content/tem/cow/cow/cow.1001.jpeg',\n",
              " '/content/tem/cow/cow/cow.1740.jpeg',\n",
              " '/content/tem/cow/cow/cow.230.jpeg',\n",
              " '/content/tem/cow/cow/cow.1016.jpeg',\n",
              " '/content/tem/cow/cow/cow.947.jpeg',\n",
              " '/content/tem/cow/cow/cow.1768.jpeg',\n",
              " '/content/tem/cow/cow/cow.1555.jpeg',\n",
              " '/content/tem/cow/cow/cow.1546.jpeg',\n",
              " '/content/tem/cow/cow/cow.101.jpeg',\n",
              " '/content/tem/cow/cow/cow.385.jpeg',\n",
              " '/content/tem/cow/cow/cow.546.jpeg',\n",
              " '/content/tem/cow/cow/cow.1788.jpeg',\n",
              " '/content/tem/cow/cow/cow.1255.jpeg',\n",
              " '/content/tem/cow/cow/cow.1059.jpeg',\n",
              " '/content/tem/cow/cow/cow.1168.jpeg',\n",
              " '/content/tem/cow/cow/cow.1164.jpeg',\n",
              " '/content/tem/cow/cow/cow.1737.jpeg',\n",
              " '/content/tem/cow/cow/cow.53.jpeg',\n",
              " '/content/tem/cow/cow/cow.275.jpeg',\n",
              " '/content/tem/cow/cow/cow.351.jpeg',\n",
              " '/content/tem/cow/cow/cow.1296.jpeg',\n",
              " '/content/tem/cow/cow/cow.431.jpeg',\n",
              " '/content/tem/cow/cow/cow.244.jpeg',\n",
              " '/content/tem/cow/cow/cow.487.jpeg',\n",
              " '/content/tem/cow/cow/cow.1040.jpeg',\n",
              " '/content/tem/cow/cow/cow.1095.jpeg',\n",
              " '/content/tem/cow/cow/cow.1732.jpeg',\n",
              " '/content/tem/cow/cow/cow.35.jpeg',\n",
              " '/content/tem/cow/cow/cow.330.jpeg',\n",
              " '/content/tem/cow/cow/cow.1790.jpeg',\n",
              " '/content/tem/cow/cow/cow.141.jpeg',\n",
              " '/content/tem/cow/cow/cow.1380.jpeg',\n",
              " '/content/tem/cow/cow/cow.297.jpeg',\n",
              " '/content/tem/cow/cow/cow.1846.jpeg',\n",
              " '/content/tem/cow/cow/cow.1219.jpeg',\n",
              " '/content/tem/cow/cow/cow.209.jpeg',\n",
              " '/content/tem/cow/cow/cow.1136.jpeg',\n",
              " '/content/tem/cow/cow/cow.84.jpeg',\n",
              " '/content/tem/cow/cow/cow.1375.jpeg',\n",
              " '/content/tem/cow/cow/cow.1228.jpeg',\n",
              " '/content/tem/cow/cow/cow.1856.jpeg',\n",
              " '/content/tem/cow/cow/cow.1426.jpeg',\n",
              " '/content/tem/cow/cow/cow.1524.jpeg',\n",
              " '/content/tem/cow/cow/cow.51.jpeg',\n",
              " '/content/tem/cow/cow/cow.1009.jpeg',\n",
              " '/content/tem/cow/cow/cow.261.jpeg',\n",
              " '/content/tem/cow/cow/cow.1432.jpeg',\n",
              " '/content/tem/cow/cow/cow.913.jpeg',\n",
              " '/content/tem/cow/cow/cow.574.jpeg',\n",
              " '/content/tem/cow/cow/cow.775.jpeg',\n",
              " '/content/tem/cow/cow/cow.1792.jpeg',\n",
              " '/content/tem/cow/cow/cow.1711.jpeg',\n",
              " '/content/tem/cow/cow/cow.780.jpeg',\n",
              " '/content/tem/cow/cow/cow.750.jpeg',\n",
              " '/content/tem/cow/cow/cow.1787.jpeg',\n",
              " '/content/tem/cow/cow/cow.807.jpeg',\n",
              " '/content/tem/cow/cow/cow.1242.jpeg',\n",
              " '/content/tem/cow/cow/cow.130.jpeg',\n",
              " '/content/tem/cow/cow/cow.1383.jpeg',\n",
              " '/content/tem/cow/cow/cow.1814.jpeg',\n",
              " '/content/tem/cow/cow/cow.610.jpeg',\n",
              " '/content/tem/cow/cow/cow.326.jpeg',\n",
              " '/content/tem/cow/cow/cow.1418.jpeg',\n",
              " '/content/tem/cow/cow/cow.1337.jpeg',\n",
              " '/content/tem/cow/cow/cow.1174.jpeg',\n",
              " '/content/tem/cow/cow/cow.1548.jpeg',\n",
              " '/content/tem/cow/cow/cow.310.jpeg',\n",
              " '/content/tem/cow/cow/cow.273.jpeg',\n",
              " '/content/tem/cow/cow/cow.280.jpeg',\n",
              " '/content/tem/cow/cow/cow.304.jpeg',\n",
              " '/content/tem/cow/cow/cow.733.jpeg',\n",
              " '/content/tem/cow/cow/cow.746.jpeg',\n",
              " '/content/tem/cow/cow/cow.1688.jpeg',\n",
              " '/content/tem/cow/cow/cow.956.jpeg',\n",
              " '/content/tem/cow/cow/cow.1566.jpeg',\n",
              " '/content/tem/cow/cow/cow.1485.jpeg',\n",
              " '/content/tem/cow/cow/cow.652.jpeg',\n",
              " '/content/tem/cow/cow/cow.54.jpeg',\n",
              " '/content/tem/cow/cow/cow.617.jpeg',\n",
              " '/content/tem/cow/cow/cow.1111.jpeg',\n",
              " '/content/tem/cow/cow/cow.1488.jpeg',\n",
              " '/content/tem/cow/cow/cow.1552.jpeg',\n",
              " '/content/tem/cow/cow/cow.515.jpeg',\n",
              " '/content/tem/cow/cow/cow.858.jpeg',\n",
              " '/content/tem/cow/cow/cow.1144.jpeg',\n",
              " '/content/tem/cow/cow/cow.1833.jpeg',\n",
              " '/content/tem/cow/cow/cow.159.jpeg',\n",
              " '/content/tem/cow/cow/cow.373.jpeg',\n",
              " '/content/tem/cow/cow/cow.268.jpeg',\n",
              " '/content/tem/cow/cow/cow.614.jpeg',\n",
              " '/content/tem/cow/cow/cow.786.jpeg',\n",
              " '/content/tem/cow/cow/cow.722.jpeg',\n",
              " '/content/tem/cow/cow/cow.1686.jpeg',\n",
              " '/content/tem/cow/cow/cow.1323.jpeg',\n",
              " '/content/tem/cow/cow/cow.43.jpeg',\n",
              " '/content/tem/cow/cow/cow.719.jpeg',\n",
              " '/content/tem/cow/cow/cow.446.jpeg',\n",
              " '/content/tem/cow/cow/cow.555.jpeg',\n",
              " '/content/tem/cow/cow/cow.292.jpeg',\n",
              " '/content/tem/cow/cow/cow.262.jpeg',\n",
              " '/content/tem/cow/cow/cow.1569.jpeg',\n",
              " '/content/tem/cow/cow/cow.660.jpeg',\n",
              " '/content/tem/cow/cow/cow.516.jpeg',\n",
              " '/content/tem/cow/cow/cow.1687.jpeg',\n",
              " '/content/tem/cow/cow/cow.1006.jpeg',\n",
              " '/content/tem/cow/cow/cow.1279.jpeg',\n",
              " '/content/tem/cow/cow/cow.845.jpeg',\n",
              " '/content/tem/cow/cow/cow.1384.jpeg',\n",
              " '/content/tem/cow/cow/cow.1785.jpeg',\n",
              " '/content/tem/cow/cow/cow.906.jpeg',\n",
              " '/content/tem/cow/cow/cow.377.jpeg',\n",
              " '/content/tem/cow/cow/cow.524.jpeg',\n",
              " '/content/tem/cow/cow/cow.1836.jpeg',\n",
              " '/content/tem/cow/cow/cow.650.jpeg',\n",
              " '/content/tem/cow/cow/cow.1654.jpeg',\n",
              " '/content/tem/cow/cow/cow.940.jpeg',\n",
              " '/content/tem/cow/cow/cow.1348.jpeg',\n",
              " '/content/tem/cow/cow/cow.798.jpeg',\n",
              " '/content/tem/cow/cow/cow.1697.jpeg',\n",
              " '/content/tem/cow/cow/cow.1317.jpeg',\n",
              " '/content/tem/cow/cow/cow.962.jpeg',\n",
              " '/content/tem/cow/cow/cow.1124.jpeg',\n",
              " '/content/tem/cow/cow/cow.1063.jpeg',\n",
              " '/content/tem/cow/cow/cow.1403.jpeg',\n",
              " '/content/tem/cow/cow/cow.1620.jpeg',\n",
              " '/content/tem/cow/cow/cow.1864.jpeg',\n",
              " '/content/tem/cow/cow/cow.1264.jpeg',\n",
              " '/content/tem/cow/cow/cow.531.jpeg',\n",
              " '/content/tem/cow/cow/cow.1051.jpeg',\n",
              " '/content/tem/cow/cow/cow.685.jpeg',\n",
              " '/content/tem/cow/cow/cow.57.jpeg',\n",
              " '/content/tem/cow/cow/cow.507.jpeg',\n",
              " '/content/tem/cow/cow/cow.107.jpeg',\n",
              " '/content/tem/cow/cow/cow.976.jpeg',\n",
              " '/content/tem/cow/cow/cow.156.jpeg',\n",
              " '/content/tem/cow/cow/cow.1635.jpeg',\n",
              " '/content/tem/cow/cow/cow.1397.jpeg',\n",
              " '/content/tem/cow/cow/cow.1086.jpeg',\n",
              " '/content/tem/cow/cow/cow.1529.jpeg',\n",
              " '/content/tem/cow/cow/cow.1738.jpeg',\n",
              " '/content/tem/cow/cow/cow.1103.jpeg',\n",
              " '/content/tem/cow/cow/cow.456.jpeg',\n",
              " '/content/tem/cow/cow/cow.915.jpeg',\n",
              " '/content/tem/cow/cow/cow.1341.jpeg',\n",
              " '/content/tem/cow/cow/cow.502.jpeg',\n",
              " '/content/tem/cow/cow/cow.1363.jpeg',\n",
              " '/content/tem/cow/cow/cow.437.jpeg',\n",
              " '/content/tem/cow/cow/cow.911.jpeg',\n",
              " '/content/tem/cow/cow/cow.977.jpeg',\n",
              " '/content/tem/cow/cow/cow.744.jpeg',\n",
              " '/content/tem/cow/cow/cow.242.jpeg',\n",
              " '/content/tem/cow/cow/cow.825.jpeg',\n",
              " '/content/tem/cow/cow/cow.1458.jpeg',\n",
              " '/content/tem/cow/cow/cow.229.jpeg',\n",
              " '/content/tem/cow/cow/cow.1192.jpeg',\n",
              " '/content/tem/cow/cow/cow.1218.jpeg',\n",
              " '/content/tem/cow/cow/cow.1778.jpeg',\n",
              " '/content/tem/cow/cow/cow.458.jpeg',\n",
              " '/content/tem/cow/cow/cow.1253.jpeg',\n",
              " '/content/tem/cow/cow/cow.1153.jpeg',\n",
              " '/content/tem/cow/cow/cow.1423.jpeg',\n",
              " '/content/tem/cow/cow/cow.1138.jpeg',\n",
              " '/content/tem/cow/cow/cow.1733.jpeg',\n",
              " '/content/tem/cow/cow/cow.1193.jpeg',\n",
              " '/content/tem/cow/cow/cow.480.jpeg',\n",
              " '/content/tem/cow/cow/cow.1834.jpeg',\n",
              " '/content/tem/cow/cow/cow.1119.jpeg',\n",
              " '/content/tem/cow/cow/cow.1851.jpeg',\n",
              " '/content/tem/cow/cow/cow.1332.jpeg',\n",
              " '/content/tem/cow/cow/cow.1026.jpeg',\n",
              " '/content/tem/cow/cow/cow.698.jpeg',\n",
              " '/content/tem/cow/cow/cow.620.jpeg',\n",
              " '/content/tem/cow/cow/cow.1271.jpeg',\n",
              " '/content/tem/cow/cow/cow.1656.jpeg',\n",
              " '/content/tem/cow/cow/cow.714.jpeg',\n",
              " '/content/tem/cow/cow/cow.592.jpeg',\n",
              " '/content/tem/cow/cow/cow.773.jpeg',\n",
              " '/content/tem/cow/cow/cow.589.jpeg',\n",
              " '/content/tem/cow/cow/cow.972.jpeg',\n",
              " '/content/tem/cow/cow/cow.1073.jpeg',\n",
              " '/content/tem/cow/cow/cow.1069.jpeg',\n",
              " '/content/tem/cow/cow/cow.588.jpeg',\n",
              " '/content/tem/cow/cow/cow.460.jpeg',\n",
              " '/content/tem/cow/cow/cow.85.jpeg',\n",
              " '/content/tem/cow/cow/cow.1523.jpeg',\n",
              " '/content/tem/cow/cow/cow.1718.jpeg',\n",
              " '/content/tem/cow/cow/cow.1149.jpeg',\n",
              " '/content/tem/cow/cow/cow.1617.jpeg',\n",
              " '/content/tem/cow/cow/cow.896.jpeg',\n",
              " '/content/tem/cow/cow/cow.828.jpeg',\n",
              " '/content/tem/cow/cow/cow.673.jpeg',\n",
              " '/content/tem/cow/cow/cow.631.jpeg',\n",
              " '/content/tem/cow/cow/cow.1366.jpeg',\n",
              " '/content/tem/cow/cow/cow.540.jpeg',\n",
              " '/content/tem/cow/cow/cow.796.jpeg',\n",
              " '/content/tem/cow/cow/cow.790.jpeg',\n",
              " '/content/tem/cow/cow/cow.1516.jpeg',\n",
              " '/content/tem/cow/cow/cow.877.jpeg',\n",
              " '/content/tem/cow/cow/cow.575.jpeg',\n",
              " '/content/tem/cow/cow/cow.118.jpeg',\n",
              " '/content/tem/cow/cow/cow.1691.jpeg',\n",
              " '/content/tem/cow/cow/cow.135.jpeg',\n",
              " '/content/tem/cow/cow/cow.584.jpeg',\n",
              " '/content/tem/cow/cow/cow.975.jpeg',\n",
              " '/content/tem/cow/cow/cow.802.jpeg',\n",
              " '/content/tem/cow/cow/cow.1482.jpeg',\n",
              " '/content/tem/cow/cow/cow.1229.jpeg',\n",
              " '/content/tem/cow/cow/cow.1538.jpeg',\n",
              " '/content/tem/cow/cow/cow.1142.jpeg',\n",
              " '/content/tem/cow/cow/cow.1196.jpeg',\n",
              " '/content/tem/cow/cow/cow.846.jpeg',\n",
              " '/content/tem/cow/cow/cow.485.jpeg',\n",
              " '/content/tem/cow/cow/cow.1194.jpeg',\n",
              " '/content/tem/cow/cow/cow.200.jpeg',\n",
              " '/content/tem/cow/cow/cow.841.jpeg',\n",
              " '/content/tem/cow/cow/cow.494.jpeg',\n",
              " '/content/tem/cow/cow/cow.1771.jpeg',\n",
              " '/content/tem/cow/cow/cow.777.jpeg',\n",
              " '/content/tem/cow/cow/cow.682.jpeg',\n",
              " '/content/tem/cow/cow/cow.672.jpeg',\n",
              " '/content/tem/cow/cow/cow.1020.jpeg',\n",
              " '/content/tem/cow/cow/cow.904.jpeg',\n",
              " '/content/tem/cow/cow/cow.243.jpeg',\n",
              " '/content/tem/cow/cow/cow.653.jpeg',\n",
              " '/content/tem/cow/cow/cow.571.jpeg',\n",
              " '/content/tem/cow/cow/cow.316.jpeg',\n",
              " '/content/tem/cow/cow/cow.1862.jpeg',\n",
              " '/content/tem/cow/cow/cow.1675.jpeg',\n",
              " '/content/tem/cow/cow/cow.1077.jpeg',\n",
              " '/content/tem/cow/cow/cow.1563.jpeg',\n",
              " '/content/tem/cow/cow/cow.391.jpeg',\n",
              " '/content/tem/cow/cow/cow.585.jpeg',\n",
              " '/content/tem/cow/cow/cow.215.jpeg',\n",
              " '/content/tem/cow/cow/cow.949.jpeg',\n",
              " '/content/tem/cow/cow/cow.1254.jpeg',\n",
              " '/content/tem/cow/cow/cow.655.jpeg',\n",
              " '/content/tem/cow/cow/cow.1692.jpeg',\n",
              " '/content/tem/cow/cow/cow.250.jpeg',\n",
              " '/content/tem/cow/cow/cow.1677.jpeg',\n",
              " '/content/tem/cow/cow/cow.212.jpeg',\n",
              " '/content/tem/cow/cow/cow.1288.jpeg',\n",
              " '/content/tem/cow/cow/cow.1479.jpeg',\n",
              " '/content/tem/cow/cow/cow.1504.jpeg',\n",
              " '/content/tem/cow/cow/cow.363.jpeg',\n",
              " '/content/tem/cow/cow/cow.102.jpeg',\n",
              " '/content/tem/cow/cow/cow.478.jpeg',\n",
              " '/content/tem/cow/cow/cow.1564.jpeg',\n",
              " '/content/tem/cow/cow/cow.1096.jpeg',\n",
              " '/content/tem/cow/cow/cow.1076.jpeg',\n",
              " '/content/tem/cow/cow/cow.1503.jpeg',\n",
              " '/content/tem/cow/cow/cow.749.jpeg',\n",
              " '/content/tem/cow/cow/cow.533.jpeg',\n",
              " '/content/tem/cow/cow/cow.149.jpeg',\n",
              " '/content/tem/cow/cow/cow.513.jpeg',\n",
              " '/content/tem/cow/cow/cow.1848.jpeg',\n",
              " '/content/tem/cow/cow/cow.1442.jpeg',\n",
              " '/content/tem/cow/cow/cow.1667.jpeg',\n",
              " '/content/tem/cow/cow/cow.1004.jpeg',\n",
              " '/content/tem/cow/cow/cow.810.jpeg',\n",
              " '/content/tem/cow/cow/cow.1259.jpeg',\n",
              " '/content/tem/cow/cow/cow.837.jpeg',\n",
              " '/content/tem/cow/cow/cow.1182.jpeg',\n",
              " '/content/tem/cow/cow/cow.420.jpeg',\n",
              " '/content/tem/cow/cow/cow.1662.jpeg',\n",
              " '/content/tem/cow/cow/cow.586.jpeg',\n",
              " '/content/tem/cow/cow/cow.1324.jpeg',\n",
              " '/content/tem/cow/cow/cow.1132.jpeg',\n",
              " '/content/tem/cow/cow/cow.383.jpeg',\n",
              " '/content/tem/cow/cow/cow.1060.jpeg',\n",
              " '/content/tem/cow/cow/cow.1042.jpeg',\n",
              " '/content/tem/cow/cow/cow.505.jpeg',\n",
              " '/content/tem/cow/cow/cow.1170.jpeg',\n",
              " '/content/tem/cow/cow/cow.173.jpeg',\n",
              " '/content/tem/cow/cow/cow.254.jpeg',\n",
              " '/content/tem/cow/cow/cow.1005.jpeg',\n",
              " '/content/tem/cow/cow/cow.77.jpeg',\n",
              " '/content/tem/cow/cow/cow.1220.jpeg',\n",
              " '/content/tem/cow/cow/cow.1644.jpeg',\n",
              " '/content/tem/cow/cow/cow.859.jpeg',\n",
              " '/content/tem/cow/cow/cow.1763.jpeg',\n",
              " '/content/tem/cow/cow/cow.76.jpeg',\n",
              " '/content/tem/cow/cow/cow.599.jpeg',\n",
              " '/content/tem/cow/cow/cow.848.jpeg',\n",
              " '/content/tem/cow/cow/cow.936.jpeg',\n",
              " '/content/tem/cow/cow/cow.997.jpeg',\n",
              " '/content/tem/cow/cow/cow.933.jpeg',\n",
              " '/content/tem/cow/cow/cow.1767.jpeg',\n",
              " '/content/tem/cow/cow/cow.742.jpeg',\n",
              " '/content/tem/cow/cow/cow.1104.jpeg',\n",
              " '/content/tem/cow/cow/cow.400.jpeg',\n",
              " '/content/tem/cow/cow/cow.1212.jpeg',\n",
              " '/content/tem/cow/cow/cow.179.jpeg',\n",
              " '/content/tem/cow/cow/cow.286.jpeg',\n",
              " '/content/tem/cow/cow/cow.1576.jpeg',\n",
              " '/content/tem/cow/cow/cow.1090.jpeg',\n",
              " '/content/tem/cow/cow/cow.342.jpeg',\n",
              " '/content/tem/cow/cow/cow.1809.jpeg',\n",
              " '/content/tem/cow/cow/cow.1673.jpeg',\n",
              " '/content/tem/cow/cow/cow.948.jpeg',\n",
              " '/content/tem/cow/cow/cow.1390.jpeg',\n",
              " '/content/tem/cow/cow/cow.82.jpeg',\n",
              " '/content/tem/cow/cow/cow.797.jpeg',\n",
              " '/content/tem/cow/cow/cow.1378.jpeg',\n",
              " '/content/tem/cow/cow/cow.1080.jpeg',\n",
              " '/content/tem/cow/cow/cow.1413.jpeg',\n",
              " '/content/tem/cow/cow/cow.281.jpeg',\n",
              " '/content/tem/cow/cow/cow.1306.jpeg',\n",
              " '/content/tem/cow/cow/cow.382.jpeg',\n",
              " '/content/tem/cow/cow/cow.60.jpeg',\n",
              " '/content/tem/cow/cow/cow.34.jpeg',\n",
              " '/content/tem/cow/cow/cow.1200.jpeg',\n",
              " '/content/tem/cow/cow/cow.108.jpeg',\n",
              " '/content/tem/cow/cow/cow.501.jpeg',\n",
              " '/content/tem/cow/cow/cow.299.jpeg',\n",
              " '/content/tem/cow/cow/cow.1334.jpeg',\n",
              " '/content/tem/cow/cow/cow.472.jpeg',\n",
              " '/content/tem/cow/cow/cow.1557.jpeg',\n",
              " '/content/tem/cow/cow/cow.467.jpeg',\n",
              " '/content/tem/cow/cow/cow.527.jpeg',\n",
              " '/content/tem/cow/cow/cow.92.jpeg',\n",
              " '/content/tem/cow/cow/cow.1409.jpeg',\n",
              " '/content/tem/cow/cow/cow.104.jpeg',\n",
              " '/content/tem/cow/cow/cow.73.jpeg',\n",
              " '/content/tem/cow/cow/cow.1158.jpeg',\n",
              " '/content/tem/cow/cow/cow.1055.jpeg',\n",
              " '/content/tem/cow/cow/cow.839.jpeg',\n",
              " '/content/tem/cow/cow/cow.1320.jpeg',\n",
              " '/content/tem/cow/cow/cow.817.jpeg',\n",
              " '/content/tem/cow/cow/cow.1443.jpeg',\n",
              " '/content/tem/cow/cow/cow.124.jpeg',\n",
              " '/content/tem/cow/cow/cow.116.jpeg',\n",
              " '/content/tem/cow/cow/cow.1550.jpeg',\n",
              " '/content/tem/cow/cow/cow.389.jpeg',\n",
              " '/content/tem/cow/cow/cow.955.jpeg',\n",
              " '/content/tem/cow/cow/cow.1039.jpeg',\n",
              " '/content/tem/cow/cow/cow.1749.jpeg',\n",
              " '/content/tem/cow/cow/cow.772.jpeg',\n",
              " '/content/tem/cow/cow/cow.1029.jpeg',\n",
              " '/content/tem/cow/cow/cow.1214.jpeg',\n",
              " '/content/tem/cow/cow/cow.635.jpeg',\n",
              " '/content/tem/cow/cow/cow.986.jpeg',\n",
              " '/content/tem/cow/cow/cow.1666.jpeg',\n",
              " '/content/tem/cow/cow/cow.1739.jpeg',\n",
              " '/content/tem/cow/cow/cow.925.jpeg',\n",
              " '/content/tem/cow/cow/cow.67.jpeg',\n",
              " '/content/tem/cow/cow/cow.88.jpeg',\n",
              " '/content/tem/cow/cow/cow.747.jpeg',\n",
              " '/content/tem/cow/cow/cow.1601.jpeg',\n",
              " '/content/tem/cow/cow/cow.1582.jpeg',\n",
              " '/content/tem/cow/cow/cow.1578.jpeg',\n",
              " '/content/tem/cow/cow/cow.671.jpeg',\n",
              " '/content/tem/cow/cow/cow.929.jpeg',\n",
              " '/content/tem/cow/cow/cow.1670.jpeg',\n",
              " '/content/tem/cow/cow/cow.69.jpeg',\n",
              " '/content/tem/cow/cow/cow.1087.jpeg',\n",
              " '/content/tem/cow/cow/cow.291.jpeg',\n",
              " '/content/tem/cow/cow/cow.1071.jpeg',\n",
              " '/content/tem/cow/cow/cow.1373.jpeg',\n",
              " '/content/tem/cow/cow/cow.1273.jpeg',\n",
              " '/content/tem/cow/cow/cow.343.jpeg',\n",
              " '/content/tem/cow/cow/cow.791.jpeg',\n",
              " '/content/tem/cow/cow/cow.764.jpeg',\n",
              " '/content/tem/cow/cow/cow.1599.jpeg',\n",
              " '/content/tem/cow/cow/cow.1753.jpeg',\n",
              " '/content/tem/cow/cow/cow.1395.jpeg',\n",
              " '/content/tem/cow/cow/cow.941.jpeg',\n",
              " '/content/tem/cow/cow/cow.996.jpeg',\n",
              " '/content/tem/cow/cow/cow.93.jpeg',\n",
              " '/content/tem/cow/cow/cow.171.jpeg',\n",
              " '/content/tem/cow/cow/cow.188.jpeg',\n",
              " '/content/tem/cow/cow/cow.1596.jpeg',\n",
              " '/content/tem/cow/cow/cow.142.jpeg',\n",
              " '/content/tem/cow/cow/cow.959.jpeg',\n",
              " '/content/tem/cow/cow/cow.1406.jpeg',\n",
              " '/content/tem/cow/cow/cow.285.jpeg',\n",
              " '/content/tem/cow/cow/cow.65.jpeg',\n",
              " '/content/tem/cow/cow/cow.450.jpeg',\n",
              " '/content/tem/cow/cow/cow.943.jpeg',\n",
              " '/content/tem/cow/cow/cow.287.jpeg',\n",
              " '/content/tem/cow/cow/cow.1804.jpeg',\n",
              " '/content/tem/cow/cow/cow.1335.jpeg',\n",
              " '/content/tem/cow/cow/cow.1198.jpeg',\n",
              " '/content/tem/cow/cow/cow.1573.jpeg',\n",
              " '/content/tem/cow/cow/cow.1044.jpeg',\n",
              " '/content/tem/cow/cow/cow.1752.jpeg',\n",
              " '/content/tem/cow/cow/cow.560.jpeg',\n",
              " '/content/tem/cow/cow/cow.1101.jpeg',\n",
              " '/content/tem/cow/cow/cow.1270.jpeg',\n",
              " '/content/tem/cow/cow/cow.241.jpeg',\n",
              " '/content/tem/cow/cow/cow.1553.jpeg',\n",
              " '/content/tem/cow/cow/cow.1371.jpeg',\n",
              " '/content/tem/cow/cow/cow.752.jpeg',\n",
              " '/content/tem/cow/cow/cow.231.jpeg',\n",
              " '/content/tem/cow/cow/cow.564.jpeg',\n",
              " '/content/tem/cow/cow/cow.734.jpeg',\n",
              " '/content/tem/cow/cow/cow.1058.jpeg',\n",
              " '/content/tem/cow/cow/cow.1098.jpeg',\n",
              " '/content/tem/cow/cow/cow.745.jpeg',\n",
              " '/content/tem/cow/cow/cow.511.jpeg',\n",
              " '/content/tem/cow/cow/cow.112.jpeg',\n",
              " '/content/tem/cow/cow/cow.1581.jpeg',\n",
              " '/content/tem/cow/cow/cow.884.jpeg',\n",
              " '/content/tem/cow/cow/cow.1498.jpeg',\n",
              " '/content/tem/cow/cow/cow.611.jpeg',\n",
              " '/content/tem/cow/cow/cow.1139.jpeg',\n",
              " '/content/tem/cow/cow/cow.479.jpeg',\n",
              " '/content/tem/cow/cow/cow.1344.jpeg',\n",
              " '/content/tem/cow/cow/cow.1439.jpeg',\n",
              " '/content/tem/cow/cow/cow.1321.jpeg',\n",
              " '/content/tem/cow/cow/cow.7.jpeg',\n",
              " '/content/tem/cow/cow/cow.867.jpeg',\n",
              " '/content/tem/cow/cow/cow.99.jpeg',\n",
              " '/content/tem/cow/cow/cow.860.jpeg',\n",
              " '/content/tem/cow/cow/cow.61.jpeg',\n",
              " '/content/tem/cow/cow/cow.1300.jpeg',\n",
              " '/content/tem/cow/cow/cow.376.jpeg',\n",
              " '/content/tem/cow/cow/cow.59.jpeg',\n",
              " '/content/tem/cow/cow/cow.1141.jpeg',\n",
              " '/content/tem/cow/cow/cow.857.jpeg',\n",
              " '/content/tem/cow/cow/cow.1440.jpeg',\n",
              " '/content/tem/cow/cow/cow.647.jpeg',\n",
              " '/content/tem/cow/cow/cow.1116.jpeg',\n",
              " '/content/tem/cow/cow/cow.577.jpeg',\n",
              " '/content/tem/cow/cow/cow.581.jpeg',\n",
              " '/content/tem/cow/cow/cow.1505.jpeg',\n",
              " '/content/tem/cow/cow/cow.708.jpeg',\n",
              " '/content/tem/cow/cow/cow.717.jpeg',\n",
              " '/content/tem/cow/cow/cow.492.jpeg',\n",
              " '/content/tem/cow/cow/cow.1595.jpeg',\n",
              " '/content/tem/cow/cow/cow.1766.jpeg',\n",
              " '/content/tem/cow/cow/cow.872.jpeg',\n",
              " '/content/tem/cow/cow/cow.1261.jpeg',\n",
              " '/content/tem/cow/cow/cow.378.jpeg',\n",
              " '/content/tem/cow/cow/cow.898.jpeg',\n",
              " '/content/tem/cow/cow/cow.10.jpeg',\n",
              " '/content/tem/cow/cow/cow.1249.jpeg',\n",
              " '/content/tem/cow/cow/cow.1048.jpeg',\n",
              " '/content/tem/cow/cow/cow.1794.jpeg',\n",
              " '/content/tem/cow/cow/cow.203.jpeg',\n",
              " '/content/tem/cow/cow/cow.1382.jpeg',\n",
              " '/content/tem/cow/cow/cow.1588.jpeg',\n",
              " '/content/tem/cow/cow/cow.754.jpeg',\n",
              " ...]"
            ]
          },
          "metadata": {
            "tags": []
          },
          "execution_count": 15
        }
      ]
    },
    {
      "cell_type": "code",
      "metadata": {
        "id": "ENhcQecFTVdb",
        "colab": {
          "base_uri": "https://localhost:8080/"
        },
        "outputId": "2dd293c7-f559-4db7-ad35-3f6b4374eb15"
      },
      "source": [
        "#delete all files inside /temp/\n",
        "!rm -rf /content/tem/temp/\n",
        "!rmdir /content/tem/temp\n",
        "for file in os.listdir('/content/'):\n",
        "  if file!=\"tem\":\n",
        "    loc=\"/content/\"+file\n",
        "    !mv $file /content/tem/"
      ],
      "execution_count": 16,
      "outputs": [
        {
          "output_type": "stream",
          "text": [
            "rmdir: failed to remove '/content/tem/temp': No such file or directory\n",
            "mv: cannot move 'cow' to '/content/tem/cow': Directory not empty\n",
            "mv: cannot move 'walrus' to '/content/tem/walrus': Directory not empty\n",
            "mv: cannot move 'moose' to '/content/tem/moose': Directory not empty\n",
            "mv: cannot move 'wolf' to '/content/tem/wolf': Directory not empty\n",
            "mv: cannot move 'horse' to '/content/tem/horse': Directory not empty\n",
            "mv: cannot move 'elephant' to '/content/tem/elephant': Directory not empty\n",
            "mv: cannot move 'zebra' to '/content/tem/zebra': Directory not empty\n",
            "mv: cannot move 'rhino' to '/content/tem/rhino': Directory not empty\n",
            "mv: cannot move 'hippopotamus' to '/content/tem/hippopotamus': Directory not empty\n",
            "mv: cannot move 'goat' to '/content/tem/goat': Directory not empty\n"
          ],
          "name": "stdout"
        }
      ]
    },
    {
      "cell_type": "code",
      "metadata": {
        "id": "wwwTa9DksHLM"
      },
      "source": [
        "#remove unneccessary files\n",
        "for file in os.listdir('/content/'):\n",
        "  if file!=\"tem\":\n",
        "    loc=\"/content/\"+file\n",
        "    !rm -rf $file"
      ],
      "execution_count": 17,
      "outputs": []
    },
    {
      "cell_type": "code",
      "metadata": {
        "id": "wRcO0DshTVdb"
      },
      "source": [
        "!mv tem data"
      ],
      "execution_count": 18,
      "outputs": []
    },
    {
      "cell_type": "code",
      "metadata": {
        "id": "8NZtJBEYTVdb",
        "colab": {
          "base_uri": "https://localhost:8080/"
        },
        "outputId": "0a9097c9-31bd-49f3-ced8-4b95a20b74f4"
      },
      "source": [
        "# Worked over all the redundancy from data.\n",
        "!cd data\n",
        "!mv /content/data/bobcat/* /content/data/cat/;mv /content/data/cats/* /content/data/cat/;mv /content/data/persian+cat/* /content/data/cat/;\n",
        "!mv /content/data/siamese+cat/* /content/data/cat/;rm -rf /content/data/bobcat/;rm -rf /content/data/cats;rm -rf /content/data/siamese+cat/;\n",
        "!rm -rf /content/data/persian+cat/;mv /content/data/dogs/* /content/data/dog;rmdir /content/data/dogs;mv /content/data/spider+monkey/* /content/data/monkey;\n",
        "!rmdir /content/data/spider+monkey;mv /content/data/german+shepherd/* /content/data/dog/;rmdir /content/data/german+shepherd;mv /content/data/grizzly+bear/* /content/data/bear/;\n",
        "!rmdir /content/data/grizzly+bear;mv /content/data/rhino/* /content/data/rhinoceros/;rmdir /content/data/rhino;rm -rf /content/data/hen;\n",
        "!rm -rf /content/data/butterfly;rm -rf /content/data/spyder;rm -rf /content/data/meta-data/meta-data/; rmdir /content/data/meta-data/meta-data;rmdir /content/data/meta-data;\n",
        "!cd ..  "
      ],
      "execution_count": 19,
      "outputs": [
        {
          "output_type": "stream",
          "text": [
            "rmdir: failed to remove '/content/data/meta-data/meta-data': No such file or directory\n"
          ],
          "name": "stdout"
        }
      ]
    },
    {
      "cell_type": "code",
      "metadata": {
        "id": "PnF398jD0NRj"
      },
      "source": [
        "#dropping some data:\n",
        "!rm -rf /content/data/antelope/* \n",
        "!rmdir /content/data/antelope\n",
        "!rm -rf /content/data/beaver/*\n",
        "!rmdir /content/data/beaver\n",
        "!rm -rf /content/data/chihuahua/*\n",
        "!rmdir /content/data/chihuahua/\n",
        "!rm -rf /content/data/collie/*\n",
        "!rmdir /content/data/collie\n",
        "!rm -rf /content/data/dalmatian/*\n",
        "!rmdir /content/data/dalmatian\n",
        "!rm -rf /content/data/killer+whale/*\n",
        "!rmdir /content/data/killer+whale\n",
        "!rm -rf /content/data/meerkat/*\n",
        "!rmdir /content/data/meerkat\n",
        "!rm -rf /content/data/mole/*\n",
        "!rmdir /content/data/mole\n",
        "!rm -rf /content/data/mouse/*\n",
        "!rmdir /content/data/mouse\n",
        "!rm -rf /content/data/otter/*\n",
        "!rmdir /content/data/otter\n",
        "!rm -rf /content/data/ox/*\n",
        "!rmdir /content/data/ox\n",
        "!rm -rf /content/data/porcupine/*\n",
        "!rmdir /content/data/porcupine\n",
        "!rm -rf /content/data/rat/*\n",
        "!rmdir /content/data/rat\n",
        "!rm -rf /content/data/seal/*\n",
        "!rmdir /content/data/seal/\n",
        "!rm -rf /content/data/squirel/*\n",
        "!rmdir /content/data/squirel\n",
        "!rm -rf /content/data/squirrel/*\n",
        "!rmdir /content/data/squirrel/\n",
        "!rm -rf /content/data/weasel/*\n",
        "!rmdir /content/data/weasel\n",
        "\n"
      ],
      "execution_count": 20,
      "outputs": []
    },
    {
      "cell_type": "code",
      "metadata": {
        "id": "gxvcL5JATVdb"
      },
      "source": [
        "#create test data set\n",
        "os.mkdir(\"test_data\")"
      ],
      "execution_count": 21,
      "outputs": []
    },
    {
      "cell_type": "code",
      "metadata": {
        "id": "VysCyJXOTVdb"
      },
      "source": [
        "# make dirctories inside test_data with same name as of data\n",
        "data_path='/content/data/'\n",
        "test_path='/content/test_data/'\n",
        "for name in os.listdir(data_path):\n",
        "    os.mkdir(test_path+name)"
      ],
      "execution_count": 22,
      "outputs": []
    },
    {
      "cell_type": "code",
      "metadata": {
        "id": "UREwRNnCrvy6"
      },
      "source": [
        "mv data train_data"
      ],
      "execution_count": 23,
      "outputs": []
    },
    {
      "cell_type": "code",
      "metadata": {
        "id": "4EoyXOb303iv",
        "colab": {
          "base_uri": "https://localhost:8080/"
        },
        "outputId": "ff0df825-7107-402b-9366-d10ec3df2c30"
      },
      "source": [
        "!rm -rf /content/train_data/train_data/data/*\n",
        "!rmdir /content/train_data/train_data/data\n",
        "!rmdir /content/train_data/train_data\n",
        "\n",
        "!rm -rf /content/test_data/train_data/data/*\n",
        "!rmdir /content/test_data/train_data/data\n",
        "!rmdir /content/test_data/train_data\n",
        "\n",
        "!rm -rf /content/train_data/cat/dog/\n",
        "!rmdir /content/train_data/cat/dog\n",
        "!rm -rf /content/train_data/dog/dog/\n",
        "!rmdir /content/train_data/dog/dog\n",
        "\n",
        "!mv /content/train_data/cow/cow/* /content/train_data/cow/\n",
        "!mv /content/train_data/elephant/elephant/* /content/train_data/elephant/\n",
        "!mv /content/train_data/goat/goat/* /content/train_data/goat/\n",
        "!mv /content/train_data/horse/horse/* /content/train_data/horse/\n",
        "\n",
        "!rmdir /content/train_data/cow/cow\n",
        "!rmdir /content/train_data/elephant/elephant\n",
        "!rmdir /content/train_data/goat/goat\n",
        "!rmdir /content/train_data/horse/horse\n",
        "\n",
        "!rm -rf /content/train_data/.config/\n",
        "!rmdir /content/train_data/.config/"
      ],
      "execution_count": 24,
      "outputs": [
        {
          "output_type": "stream",
          "text": [
            "rmdir: failed to remove '/content/test_data/train_data/data': No such file or directory\n",
            "rmdir: failed to remove '/content/train_data/cat/dog': No such file or directory\n",
            "rmdir: failed to remove '/content/train_data/dog/dog': No such file or directory\n",
            "rmdir: failed to remove '/content/train_data/.config/': No such file or directory\n"
          ],
          "name": "stdout"
        }
      ]
    },
    {
      "cell_type": "code",
      "metadata": {
        "colab": {
          "base_uri": "https://localhost:8080/"
        },
        "id": "300GG7lQ6G8h",
        "outputId": "28a91617-379a-4500-a079-641237ca69a9"
      },
      "source": [
        "#remove all extra images from each file\n",
        "path='/content/train_data/'\n",
        "total_images=0\n",
        "for file in os.listdir(path):\n",
        "  size=len(os.listdir(path+file+'/'))\n",
        "  if size>1250:\n",
        "    c=1\n",
        "    while size>1250:\n",
        "      images=os.listdir(path+file+'/')\n",
        "      os.remove(path+file+'/'+images[0])\n",
        "      size=len(os.listdir(path+file+'/'))\n",
        "  total_images+=size\n",
        "  print(file,size)\n",
        "print(\"Total images are : \",total_images)\n",
        "\n"
      ],
      "execution_count": 25,
      "outputs": [
        {
          "output_type": "stream",
          "text": [
            "cow 1250\n",
            "walrus 148\n",
            "kangaroo 832\n",
            "dog 1250\n",
            "cat 1250\n",
            "panda 846\n",
            "moose 476\n",
            "bat 256\n",
            "bear 1250\n",
            "raccoon 346\n",
            "deer 920\n",
            "ostrich 810\n",
            "wolf 403\n",
            "crocodiles 801\n",
            "tiger 721\n",
            "monkey 1034\n",
            "rabbit 837\n",
            "lion 806\n",
            "rhinoceros 1229\n",
            "penguins 814\n",
            "horse 1250\n",
            "elephant 1250\n",
            "cheetah 829\n",
            "zebra 752\n",
            "hippopotamus 464\n",
            "chimpanzee 477\n",
            "goat 1250\n",
            "snake 874\n",
            "giraffe 866\n",
            "tortoise 819\n",
            "buffalo 752\n",
            "Total images are :  25862\n"
          ],
          "name": "stdout"
        }
      ]
    },
    {
      "cell_type": "code",
      "metadata": {
        "id": "COXyLXJKTVdb",
        "colab": {
          "base_uri": "https://localhost:8080/"
        },
        "outputId": "c012d062-835c-4d50-b0c6-840d6df365a1"
      },
      "source": [
        "# create test_data by taking 25% images from data\n",
        "\n",
        "total_train_images,total_test_images,total_train_classes,total_test_classes=0,0,0,0\n",
        "path=\"/content/train_data/\"\n",
        "for file in os.listdir(path):\n",
        "    if \"notebook\" not in file:\n",
        "        total_train_classes+=1\n",
        "        total_images=len(os.listdir(path+file+\"/\"))\n",
        "        test_image_count=(25/100)*total_images #25% for test and 75% for train\n",
        "        for i in range(math.ceil(test_image_count)):\n",
        "            img=random.choice(os.listdir(path+file+'/'))\n",
        "            shutil.move(path+file+'/'+img,'/content/test_data/'+file+'/')\n",
        "            #print(img)\n",
        "        print(file,total_images,math.ceil(test_image_count))\n",
        "        total_train_images+=(total_images-math.ceil(test_image_count))\n",
        "        #print(file,math.ceil(test_image_count))\n",
        "print(\"total train images are : \",total_train_images,\" and total train classes are : \",total_train_classes)"
      ],
      "execution_count": 26,
      "outputs": [
        {
          "output_type": "stream",
          "text": [
            "cow 1250 313\n",
            "walrus 148 37\n",
            "kangaroo 832 208\n",
            "dog 1250 313\n",
            "cat 1250 313\n",
            "panda 846 212\n",
            "moose 476 119\n",
            "bat 256 64\n",
            "bear 1250 313\n",
            "raccoon 346 87\n",
            "deer 920 230\n",
            "ostrich 810 203\n",
            "wolf 403 101\n",
            "crocodiles 801 201\n",
            "tiger 721 181\n",
            "monkey 1034 259\n",
            "rabbit 837 210\n",
            "lion 806 202\n",
            "rhinoceros 1229 308\n",
            "penguins 814 204\n",
            "horse 1250 313\n",
            "elephant 1250 313\n",
            "cheetah 829 208\n",
            "zebra 752 188\n",
            "hippopotamus 464 116\n",
            "chimpanzee 477 120\n",
            "goat 1250 313\n",
            "snake 874 219\n",
            "giraffe 866 217\n",
            "tortoise 819 205\n",
            "buffalo 752 188\n",
            "total train images are :  19384  and total train classes are :  31\n"
          ],
          "name": "stdout"
        }
      ]
    },
    {
      "cell_type": "markdown",
      "metadata": {
        "id": "60nQyhnlTVdc"
      },
      "source": [
        "## Task 3: Image Augmentation"
      ]
    },
    {
      "cell_type": "code",
      "metadata": {
        "id": "a6KDDyhmTVdc",
        "colab": {
          "base_uri": "https://localhost:8080/"
        },
        "outputId": "9b763bf3-43a4-48c1-94aa-f1d338701f4b"
      },
      "source": [
        "#url : https://keras.io/api/preprocessing/image/ \n",
        "train_datagen = ImageDataGenerator(\n",
        "        rescale=1./255,\n",
        "        shear_range=0.2,\n",
        "        zoom_range=0.2,\n",
        "        horizontal_flip=True)\n",
        "test_datagen = ImageDataGenerator(rescale=1./255)\n",
        "training_set = train_datagen.flow_from_directory(\n",
        "        '/content/train_data/',\n",
        "        target_size=(32,32),\n",
        "        color_mode=\"grayscale\",\n",
        "        batch_size=64,\n",
        "        class_mode='categorical')\n",
        "test_set = test_datagen.flow_from_directory(\n",
        "        '/content/test_data/',\n",
        "        target_size=(32,32),\n",
        "        color_mode=\"grayscale\",\n",
        "        batch_size=64,\n",
        "        class_mode='categorical')"
      ],
      "execution_count": 27,
      "outputs": [
        {
          "output_type": "stream",
          "text": [
            "Found 18385 images belonging to 31 classes.\n",
            "Found 6127 images belonging to 31 classes.\n"
          ],
          "name": "stdout"
        }
      ]
    },
    {
      "cell_type": "code",
      "metadata": {
        "id": "H_57kEChTVdc",
        "colab": {
          "base_uri": "https://localhost:8080/"
        },
        "outputId": "9a1ccb00-76df-4c12-e358-057f5b72ca4e"
      },
      "source": [
        "training_set.class_indices # to see classes of our dataset"
      ],
      "execution_count": 28,
      "outputs": [
        {
          "output_type": "execute_result",
          "data": {
            "text/plain": [
              "{'bat': 0,\n",
              " 'bear': 1,\n",
              " 'buffalo': 2,\n",
              " 'cat': 3,\n",
              " 'cheetah': 4,\n",
              " 'chimpanzee': 5,\n",
              " 'cow': 6,\n",
              " 'crocodiles': 7,\n",
              " 'deer': 8,\n",
              " 'dog': 9,\n",
              " 'elephant': 10,\n",
              " 'giraffe': 11,\n",
              " 'goat': 12,\n",
              " 'hippopotamus': 13,\n",
              " 'horse': 14,\n",
              " 'kangaroo': 15,\n",
              " 'lion': 16,\n",
              " 'monkey': 17,\n",
              " 'moose': 18,\n",
              " 'ostrich': 19,\n",
              " 'panda': 20,\n",
              " 'penguins': 21,\n",
              " 'rabbit': 22,\n",
              " 'raccoon': 23,\n",
              " 'rhinoceros': 24,\n",
              " 'snake': 25,\n",
              " 'tiger': 26,\n",
              " 'tortoise': 27,\n",
              " 'walrus': 28,\n",
              " 'wolf': 29,\n",
              " 'zebra': 30}"
            ]
          },
          "metadata": {
            "tags": []
          },
          "execution_count": 28
        }
      ]
    },
    {
      "cell_type": "markdown",
      "metadata": {
        "id": "ZBNhp3loTVdb"
      },
      "source": [
        "## Task 3: Model Creation"
      ]
    },
    {
      "cell_type": "code",
      "metadata": {
        "id": "f8j-Tg8nTVdb"
      },
      "source": [
        "#creating an instance of Sequence which is as model\n",
        "model = Sequential()"
      ],
      "execution_count": 29,
      "outputs": []
    },
    {
      "cell_type": "code",
      "metadata": {
        "id": "tk28GqY3TVdb"
      },
      "source": [
        "#inputlayer : apply filters\n",
        "model.add(Convolution2D(filters=32, \n",
        "                        kernel_size=(3,3),\n",
        "                        strides=(1,1),\n",
        "                        padding='same', \n",
        "                        activation='relu',\n",
        "                   input_shape=(32, 32, 1)))"
      ],
      "execution_count": 30,
      "outputs": []
    },
    {
      "cell_type": "code",
      "metadata": {
        "id": "JdgVt1AGTVdb"
      },
      "source": [
        "# pooling layer where we are doing maxpooling\n",
        "model.add(MaxPooling2D(pool_size=(2, 2)))"
      ],
      "execution_count": 31,
      "outputs": []
    },
    {
      "cell_type": "code",
      "metadata": {
        "id": "F3dvdKVATVdb"
      },
      "source": [
        "#adding one more convolution layer for better model\n",
        "model.add(Convolution2D(filters=32, \n",
        "                        kernel_size=(3,3),\n",
        "                        strides=(1,1),\n",
        "                        padding='same', \n",
        "                        activation='relu'\n",
        "                      ))"
      ],
      "execution_count": 32,
      "outputs": []
    },
    {
      "cell_type": "code",
      "metadata": {
        "id": "L_EWOO4_TVdb"
      },
      "source": [
        "#adding one more Pooling layer for better model\n",
        "model.add(MaxPooling2D(pool_size=(2, 2)))"
      ],
      "execution_count": 33,
      "outputs": []
    },
    {
      "cell_type": "code",
      "metadata": {
        "id": "rAOM-Z4SkvxI"
      },
      "source": [
        "#dropout regularlization\n",
        "model.add(Dropout(0.5))"
      ],
      "execution_count": 34,
      "outputs": []
    },
    {
      "cell_type": "code",
      "metadata": {
        "id": "tA6KLdxGTVdb"
      },
      "source": [
        "#layer in which we are converting 2d/3d image to 1d image i.e flattening\n",
        "model.add(Flatten())"
      ],
      "execution_count": 35,
      "outputs": []
    },
    {
      "cell_type": "code",
      "metadata": {
        "id": "k8dS0R9WTVdc"
      },
      "source": [
        "# layer: appling relu to give positive output from here our hidden layerrs starts\n",
        "model.add(Dense(units=80, activation='relu'))"
      ],
      "execution_count": 36,
      "outputs": []
    },
    {
      "cell_type": "code",
      "metadata": {
        "id": "ljwbOVJUlLjw"
      },
      "source": [
        "#dropout regularlization\n",
        "model.add(Dropout(0.5))"
      ],
      "execution_count": 37,
      "outputs": []
    },
    {
      "cell_type": "code",
      "metadata": {
        "id": "zhVeaTXfTVdc"
      },
      "source": [
        "# output layer : Since we have to do multi-class classification so we'll apply softmax activation function \n",
        "# we have 31 classes of animals so output layer would have that many neurons.\n",
        "model.add(Dense(units=31, activation='softmax'))"
      ],
      "execution_count": 38,
      "outputs": []
    },
    {
      "cell_type": "code",
      "metadata": {
        "id": "jir90DtbTVdc"
      },
      "source": [
        "model.compile(optimizer='adam', loss='categorical_crossentropy', metrics=['accuracy'])"
      ],
      "execution_count": 39,
      "outputs": []
    },
    {
      "cell_type": "code",
      "metadata": {
        "id": "Ex886ryATVdc",
        "colab": {
          "base_uri": "https://localhost:8080/"
        },
        "outputId": "ce5be4bb-fb46-466e-e6ac-ebcf3c49f932"
      },
      "source": [
        "model.summary()"
      ],
      "execution_count": 40,
      "outputs": [
        {
          "output_type": "stream",
          "text": [
            "Model: \"sequential\"\n",
            "_________________________________________________________________\n",
            "Layer (type)                 Output Shape              Param #   \n",
            "=================================================================\n",
            "conv2d (Conv2D)              (None, 32, 32, 32)        320       \n",
            "_________________________________________________________________\n",
            "max_pooling2d (MaxPooling2D) (None, 16, 16, 32)        0         \n",
            "_________________________________________________________________\n",
            "conv2d_1 (Conv2D)            (None, 16, 16, 32)        9248      \n",
            "_________________________________________________________________\n",
            "max_pooling2d_1 (MaxPooling2 (None, 8, 8, 32)          0         \n",
            "_________________________________________________________________\n",
            "dropout (Dropout)            (None, 8, 8, 32)          0         \n",
            "_________________________________________________________________\n",
            "flatten (Flatten)            (None, 2048)              0         \n",
            "_________________________________________________________________\n",
            "dense (Dense)                (None, 80)                163920    \n",
            "_________________________________________________________________\n",
            "dropout_1 (Dropout)          (None, 80)                0         \n",
            "_________________________________________________________________\n",
            "dense_1 (Dense)              (None, 31)                2511      \n",
            "=================================================================\n",
            "Total params: 175,999\n",
            "Trainable params: 175,999\n",
            "Non-trainable params: 0\n",
            "_________________________________________________________________\n"
          ],
          "name": "stdout"
        }
      ]
    },
    {
      "cell_type": "markdown",
      "metadata": {
        "id": "txX70wuOTVdd"
      },
      "source": [
        "## Task 5: Model Training"
      ]
    },
    {
      "cell_type": "code",
      "metadata": {
        "id": "G64XbPI_TVde",
        "colab": {
          "base_uri": "https://localhost:8080/"
        },
        "outputId": "dba24855-307b-4dce-85d8-b2d003fcd0c9"
      },
      "source": [
        "history = model.fit(\n",
        "        training_set,\n",
        "        steps_per_epoch=(18385/64),\n",
        "        epochs=400,\n",
        "        verbose=1,\n",
        "        validation_data=test_set,\n",
        "        validation_steps=(6127/64))\n",
        "#Total images in train_data = 18385    \n",
        "#Total images in test_data = 6127    \n",
        "#epoch=400"
      ],
      "execution_count": null,
      "outputs": [
        {
          "output_type": "stream",
          "text": [
            "Epoch 1/400\n",
            " 44/287 [===>..........................] - ETA: 2:25 - loss: 3.4069 - accuracy: 0.0419"
          ],
          "name": "stdout"
        },
        {
          "output_type": "stream",
          "text": [
            "/usr/local/lib/python3.6/dist-packages/PIL/TiffImagePlugin.py:788: UserWarning: Corrupt EXIF data.  Expecting to read 4 bytes but only got 0. \n",
            "  warnings.warn(str(msg))\n"
          ],
          "name": "stderr"
        },
        {
          "output_type": "stream",
          "text": [
            "288/287 [==============================] - 209s 726ms/step - loss: 3.3314 - accuracy: 0.0637 - val_loss: 3.2171 - val_accuracy: 0.1056\n",
            "Epoch 2/400\n",
            "288/287 [==============================] - 180s 626ms/step - loss: 3.1781 - accuracy: 0.1112 - val_loss: 3.0561 - val_accuracy: 0.1435\n",
            "Epoch 3/400\n",
            "288/287 [==============================] - 176s 612ms/step - loss: 3.0905 - accuracy: 0.1328 - val_loss: 3.0052 - val_accuracy: 0.1523\n",
            "Epoch 4/400\n",
            "288/287 [==============================] - 176s 610ms/step - loss: 3.0323 - accuracy: 0.1422 - val_loss: 2.8883 - val_accuracy: 0.1866\n",
            "Epoch 5/400\n",
            "288/287 [==============================] - 175s 608ms/step - loss: 2.9942 - accuracy: 0.1526 - val_loss: 2.8728 - val_accuracy: 0.1957\n",
            "Epoch 6/400\n",
            "288/287 [==============================] - 176s 610ms/step - loss: 2.9501 - accuracy: 0.1628 - val_loss: 2.8400 - val_accuracy: 0.1980\n",
            "Epoch 7/400\n",
            "288/287 [==============================] - 175s 609ms/step - loss: 2.9283 - accuracy: 0.1738 - val_loss: 2.9154 - val_accuracy: 0.1712\n",
            "Epoch 8/400\n",
            "288/287 [==============================] - 176s 612ms/step - loss: 2.9105 - accuracy: 0.1743 - val_loss: 2.8295 - val_accuracy: 0.1911\n",
            "Epoch 9/400\n",
            "174/287 [=================>............] - ETA: 51s - loss: 2.8929 - accuracy: 0.1794"
          ],
          "name": "stdout"
        }
      ]
    },
    {
      "cell_type": "markdown",
      "metadata": {
        "id": "aC0FVyKuTVde"
      },
      "source": [
        "## Task 6: Accuracy"
      ]
    },
    {
      "cell_type": "code",
      "metadata": {
        "id": "Wu9M-AaRTVde",
        "colab": {
          "base_uri": "https://localhost:8080/"
        },
        "outputId": "61861c76-432f-48ba-9e29-43d8cafdf70d"
      },
      "source": [
        "finalAccuracy = history.history[\"accuracy\"]\n",
        "finalAccuracy"
      ],
      "execution_count": 128,
      "outputs": [
        {
          "output_type": "execute_result",
          "data": {
            "text/plain": [
              "[0.17034640908241272]"
            ]
          },
          "metadata": {
            "tags": []
          },
          "execution_count": 128
        }
      ]
    },
    {
      "cell_type": "code",
      "metadata": {
        "id": "71kS8wPLw7rV",
        "colab": {
          "base_uri": "https://localhost:8080/"
        },
        "outputId": "c180db63-3766-4b7f-9f6f-0d31f28613b5"
      },
      "source": [
        "val_accuracy = history.history['val_accuracy']\n",
        "val_accuracy"
      ],
      "execution_count": 129,
      "outputs": [
        {
          "output_type": "execute_result",
          "data": {
            "text/plain": [
              "[0.18716903030872345]"
            ]
          },
          "metadata": {
            "tags": []
          },
          "execution_count": 129
        }
      ]
    },
    {
      "cell_type": "code",
      "metadata": {
        "id": "3EEVE0LkXJku",
        "colab": {
          "base_uri": "https://localhost:8080/"
        },
        "outputId": "e33cd15b-d680-48ab-b627-f7a05fc0394d"
      },
      "source": [
        "finalloss = history.history[\"loss\"]\n",
        "finalloss"
      ],
      "execution_count": 130,
      "outputs": [
        {
          "output_type": "execute_result",
          "data": {
            "text/plain": [
              "[3.1496126651763916]"
            ]
          },
          "metadata": {
            "tags": []
          },
          "execution_count": 130
        }
      ]
    },
    {
      "cell_type": "code",
      "metadata": {
        "id": "y8ZydUtaXJpa"
      },
      "source": [
        "finalval_loss = history.history[\"val_loss\"]\n",
        "finalval_loss"
      ],
      "execution_count": null,
      "outputs": []
    },
    {
      "cell_type": "code",
      "metadata": {
        "id": "MmNM9U4tTVde"
      },
      "source": [
        "#Graphing our training and validation\n",
        "accuracy = history.history['accuracy']\n",
        "val_accuracy = history.history['val_accuracy']\n",
        "loss = history.history['loss']\n",
        "val_loss = history.history['val_loss']\n",
        "epochs = range(len(accuracy))\n",
        "plt.plot(epochs, accuracy, 'r', label='Training acc')\n",
        "plt.plot(epochs, val_accuracy, 'b', label='Validation acc')\n",
        "plt.title('Training and validation accuracy')\n",
        "plt.ylabel('accuracy') \n",
        "plt.xlabel('epoch')\n",
        "plt.legend()\n",
        "plt.figure()\n",
        "plt.plot(epochs, loss, 'r', label='Training loss')\n",
        "plt.plot(epochs, val_loss, 'b', label='Validation loss')\n",
        "plt.title('Training and validation loss')\n",
        "plt.ylabel('loss') \n",
        "plt.xlabel('epoch')\n",
        "plt.legend()\n",
        "plt.show()"
      ],
      "execution_count": null,
      "outputs": []
    },
    {
      "cell_type": "code",
      "metadata": {
        "id": "aFmVvSjkTVde"
      },
      "source": [
        "model.save(\"iwildcam_model.h5\")#save model"
      ],
      "execution_count": null,
      "outputs": []
    },
    {
      "cell_type": "code",
      "metadata": {
        "colab": {
          "base_uri": "https://localhost:8080/",
          "height": 81
        },
        "id": "yjS9Ur54TVde",
        "outputId": "d44eddec-0ec9-4344-daeb-5d97b3e08544"
      },
      "source": [
        "from keras.preprocessing import image\n",
        "test_image = image.load_img(\"/content/train_data/zebra/zebra102.jpg\",target_size=(64,64),color_mode='grayscale')\n",
        "test_image \n"
      ],
      "execution_count": null,
      "outputs": [
        {
          "output_type": "execute_result",
          "data": {
            "image/png": "[encoded data removed]",
            "text/plain": [
              "<PIL.Image.Image image mode=L size=64x64 at 0x7F896C72D3C8>"
            ]
          },
          "metadata": {
            "tags": []
          },
          "execution_count": 115
        }
      ]
    },
    {
      "cell_type": "code",
      "metadata": {
        "id": "V5BuM2-yTVde"
      },
      "source": [
        "test_image = image.img_to_array(test_image)\n",
        "test_image = np.expand_dims(test_image,axis=0)\n"
      ],
      "execution_count": null,
      "outputs": []
    },
    {
      "cell_type": "code",
      "metadata": {
        "colab": {
          "base_uri": "https://localhost:8080/"
        },
        "id": "kjgQKYmLcbKr",
        "outputId": "197607c4-e268-4199-be3a-a9e0952090f3"
      },
      "source": [
        "test_image.shape"
      ],
      "execution_count": null,
      "outputs": [
        {
          "output_type": "execute_result",
          "data": {
            "text/plain": [
              "(1, 64, 64, 1)"
            ]
          },
          "metadata": {
            "tags": []
          },
          "execution_count": 117
        }
      ]
    },
    {
      "cell_type": "code",
      "metadata": {
        "colab": {
          "base_uri": "https://localhost:8080/"
        },
        "id": "38j_lDVPTVde",
        "outputId": "f5b0d5b0-c43f-4ef4-f97a-64e4dc5046e6"
      },
      "source": [
        "result = model.predict(test_image)\n",
        "\n",
        "my_dict=training_set.class_indices\n",
        "def get_key(val): \n",
        "    for key, value in my_dict.items(): \n",
        "         if val == value: \n",
        "             return key \n",
        "  \n",
        "    return \"key doesn't exist\"\n",
        "\n",
        "pred=list(result[0])\n",
        "for i in range(len(pred)):\n",
        "    if pred[i]!=0:\n",
        "        print(get_key(i))"
      ],
      "execution_count": null,
      "outputs": [
        {
          "output_type": "stream",
          "text": [
            "tortoise\n"
          ],
          "name": "stdout"
        }
      ]
    },
    {
      "cell_type": "code",
      "metadata": {
        "id": "cN9vlDbQTVde"
      },
      "source": [
        ""
      ],
      "execution_count": null,
      "outputs": []
    }
  ]
}